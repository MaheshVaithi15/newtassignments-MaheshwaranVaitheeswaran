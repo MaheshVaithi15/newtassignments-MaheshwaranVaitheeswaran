{
 "cells": [
  {
   "cell_type": "code",
   "execution_count": 2,
   "id": "c8ed3d67-96a5-4613-bcff-bd458b55ee4e",
   "metadata": {},
   "outputs": [
    {
     "name": "stdout",
     "output_type": "stream",
     "text": [
      "Spark Session Connected\n"
     ]
    },
    {
     "name": "stderr",
     "output_type": "stream",
     "text": [
      "24/01/11 18:39:47 WARN SparkSession: Using an existing Spark session; only runtime SQL configurations will take effect.\n"
     ]
    }
   ],
   "source": [
    "from pyspark.sql import SparkSession\n",
    "spark = SparkSession.builder.appName('rec').getOrCreate()\n",
    "print('Spark Session Connected')"
   ]
  },
  {
   "cell_type": "code",
   "execution_count": 3,
   "id": "8fb5dcbd-b911-415b-bf2b-c57cbb8252c7",
   "metadata": {},
   "outputs": [
    {
     "name": "stderr",
     "output_type": "stream",
     "text": [
      "/usr/lib/python3/dist-packages/scipy/__init__.py:146: UserWarning: A NumPy version >=1.17.3 and <1.25.0 is required for this version of SciPy (detected version 1.26.1\n",
      "  warnings.warn(f\"A NumPy version >={np_minversion} and <{np_maxversion}\"\n",
      "                                                                                \r"
     ]
    },
    {
     "name": "stdout",
     "output_type": "stream",
     "text": [
      "+-------+------+------+\n",
      "|movieId|rating|userId|\n",
      "+-------+------+------+\n",
      "|      2|   3.0|     0|\n",
      "|      3|   1.0|     0|\n",
      "|      5|   2.0|     0|\n",
      "|      9|   4.0|     0|\n",
      "|     11|   1.0|     0|\n",
      "|     12|   2.0|     0|\n",
      "|     15|   1.0|     0|\n",
      "|     17|   1.0|     0|\n",
      "|     19|   1.0|     0|\n",
      "|     21|   1.0|     0|\n",
      "|     23|   1.0|     0|\n",
      "|     26|   3.0|     0|\n",
      "|     27|   1.0|     0|\n",
      "|     28|   1.0|     0|\n",
      "|     29|   1.0|     0|\n",
      "|     30|   1.0|     0|\n",
      "|     31|   1.0|     0|\n",
      "|     34|   1.0|     0|\n",
      "|     37|   1.0|     0|\n",
      "|     41|   2.0|     0|\n",
      "+-------+------+------+\n",
      "only showing top 20 rows\n",
      "\n"
     ]
    }
   ],
   "source": [
    "from pyspark.ml.recommendation import ALS\n",
    "from pyspark.ml.evaluation import RegressionEvaluator\n",
    "\n",
    "df = spark.read.csv('movielens_ratings.csv',inferSchema=True,header=True)\n",
    "df.show()"
   ]
  },
  {
   "cell_type": "code",
   "execution_count": 4,
   "id": "8a671d35-98b7-4002-b8a0-886b975de9f9",
   "metadata": {},
   "outputs": [
    {
     "name": "stdout",
     "output_type": "stream",
     "text": [
      "+-------+------------------+------------------+------------------+\n",
      "|summary|           movieId|            rating|            userId|\n",
      "+-------+------------------+------------------+------------------+\n",
      "|  count|              1501|              1501|              1501|\n",
      "|   mean| 49.40572951365756|1.7741505662891406|14.383744170552964|\n",
      "| stddev|28.937034065088994| 1.187276166124803| 8.591040424293272|\n",
      "|    min|                 0|               1.0|                 0|\n",
      "|    max|                99|               5.0|                29|\n",
      "+-------+------------------+------------------+------------------+\n",
      "\n"
     ]
    }
   ],
   "source": [
    "df.describe().show()"
   ]
  },
  {
   "cell_type": "code",
   "execution_count": 5,
   "id": "bf67c1a6-8e4c-40bf-824e-ae254648472a",
   "metadata": {},
   "outputs": [],
   "source": [
    "train,test = df.randomSplit([0.73,0.27])\n",
    "\n",
    "als = ALS(maxIter=5,regParam=0.01,userCol='userId',ratingCol='rating',itemCol='movieId')\n",
    "\n",
    "\n",
    "\n"
   ]
  },
  {
   "cell_type": "code",
   "execution_count": 6,
   "id": "f1a85c2b-5994-4ef5-bde9-74636339c80b",
   "metadata": {},
   "outputs": [],
   "source": [
    "model = als.fit(train)"
   ]
  },
  {
   "cell_type": "code",
   "execution_count": 7,
   "id": "210f5c84-41d2-4559-9098-7ed6730a22ac",
   "metadata": {},
   "outputs": [],
   "source": [
    "pred = model.transform(test)"
   ]
  },
  {
   "cell_type": "code",
   "execution_count": 8,
   "id": "672d20e7-b2be-4e19-9fc0-70eebb0b2056",
   "metadata": {},
   "outputs": [
    {
     "name": "stdout",
     "output_type": "stream",
     "text": [
      "+-------+------+------+------------+\n",
      "|movieId|rating|userId|  prediction|\n",
      "+-------+------+------+------------+\n",
      "|      3|   1.0|    28|   1.7382914|\n",
      "|      0|   1.0|    27|  0.22743125|\n",
      "|      1|   1.0|    26| -0.23331816|\n",
      "|      3|   1.0|    26|  0.19544902|\n",
      "|      4|   1.0|    12|   1.5390917|\n",
      "|      0|   1.0|    22|   1.7654026|\n",
      "|      0|   1.0|    13|  0.28433222|\n",
      "|      3|   1.0|    13|   1.5843201|\n",
      "|      0|   1.0|     6|  0.48402742|\n",
      "|      0|   1.0|     3|  -0.2798816|\n",
      "|      2|   1.0|     3|   2.1646664|\n",
      "|      4|   1.0|    19|  0.05237022|\n",
      "|      1|   4.0|    15|   0.9972271|\n",
      "|      4|   2.0|     8| -0.19653067|\n",
      "|      2|   1.0|    23|   2.2715652|\n",
      "|      1|   1.0|     7|  0.68270576|\n",
      "|      2|   2.0|     7|   3.9259343|\n",
      "|      4|   3.0|    10|-0.017412238|\n",
      "|      4|   1.0|    24|    2.106141|\n",
      "|      4|   1.0|    29|   1.4169595|\n",
      "+-------+------+------+------------+\n",
      "only showing top 20 rows\n",
      "\n"
     ]
    }
   ],
   "source": [
    "pred.show()"
   ]
  },
  {
   "cell_type": "code",
   "execution_count": 9,
   "id": "bb70f16e-80e9-469b-b83d-ff80f6563f60",
   "metadata": {},
   "outputs": [],
   "source": [
    "evaluator = RegressionEvaluator(metricName='rmse',labelCol='rating',predictionCol='prediction')"
   ]
  },
  {
   "cell_type": "code",
   "execution_count": 11,
   "id": "8c54cab4-a0e7-4714-bb5b-0a82674a4bae",
   "metadata": {},
   "outputs": [
    {
     "data": {
      "text/plain": [
       "1.8675636823266404"
      ]
     },
     "execution_count": 11,
     "metadata": {},
     "output_type": "execute_result"
    }
   ],
   "source": [
    "rmse = evaluator.evaluate(pred)\n",
    "rmse"
   ]
  },
  {
   "cell_type": "code",
   "execution_count": 12,
   "id": "a605e577-2e1c-4512-96a7-20c5e45bda78",
   "metadata": {},
   "outputs": [
    {
     "name": "stdout",
     "output_type": "stream",
     "text": [
      "+-------+------+\n",
      "|movieId|userId|\n",
      "+-------+------+\n",
      "|     12|    11|\n",
      "|     18|    11|\n",
      "|     19|    11|\n",
      "|     21|    11|\n",
      "|     22|    11|\n",
      "|     23|    11|\n",
      "|     32|    11|\n",
      "|     35|    11|\n",
      "|     36|    11|\n",
      "|     39|    11|\n",
      "|     43|    11|\n",
      "|     47|    11|\n",
      "|     48|    11|\n",
      "|     51|    11|\n",
      "|     72|    11|\n",
      "|     75|    11|\n",
      "|     76|    11|\n",
      "|     94|    11|\n",
      "+-------+------+\n",
      "\n"
     ]
    }
   ],
   "source": [
    "single_user = test.filter(test['userId']==11).select(['movieId','userId'])\n",
    "single_user.show()"
   ]
  },
  {
   "cell_type": "code",
   "execution_count": 13,
   "id": "6e2fba0c-f639-485b-9c9d-01cb3ed656d6",
   "metadata": {},
   "outputs": [
    {
     "name": "stdout",
     "output_type": "stream",
     "text": [
      "+-------+------+-----------+\n",
      "|movieId|userId| prediction|\n",
      "+-------+------+-----------+\n",
      "|     39|    11|  4.4875627|\n",
      "|     35|    11|   4.409293|\n",
      "|     23|    11|  4.0515895|\n",
      "|     94|    11|  3.4875488|\n",
      "|     19|    11|  3.0961645|\n",
      "|     22|    11|  2.9057868|\n",
      "|     12|    11|  2.7685382|\n",
      "|     75|    11|  2.2943797|\n",
      "|     72|    11|  2.2477846|\n",
      "|     47|    11|   1.613253|\n",
      "|     76|    11|  1.3896353|\n",
      "|     48|    11|  1.3680104|\n",
      "|     21|    11|  1.0656018|\n",
      "|     18|    11|  0.9423659|\n",
      "|     36|    11| 0.24349864|\n",
      "|     32|    11|-0.33574936|\n",
      "|     51|    11| -0.5673206|\n",
      "|     43|    11|-0.76197964|\n",
      "+-------+------+-----------+\n",
      "\n"
     ]
    }
   ],
   "source": [
    "rec = model.transform(single_user)\n",
    "rec.orderBy('prediction',ascending=False).show()"
   ]
  }
 ],
 "metadata": {
  "kernelspec": {
   "display_name": "Python 3 (ipykernel)",
   "language": "python",
   "name": "python3"
  },
  "language_info": {
   "codemirror_mode": {
    "name": "ipython",
    "version": 3
   },
   "file_extension": ".py",
   "mimetype": "text/x-python",
   "name": "python",
   "nbconvert_exporter": "python",
   "pygments_lexer": "ipython3",
   "version": "3.10.12"
  }
 },
 "nbformat": 4,
 "nbformat_minor": 5
}

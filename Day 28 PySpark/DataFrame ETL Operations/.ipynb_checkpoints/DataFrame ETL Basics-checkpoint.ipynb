{
 "cells": [
  {
   "cell_type": "code",
   "execution_count": 1,
   "id": "5a34fb0c-58a2-41a4-a11a-0aee696a4139",
   "metadata": {},
   "outputs": [
    {
     "name": "stderr",
     "output_type": "stream",
     "text": [
      "24/01/11 11:07:51 WARN Utils: Your hostname, MaheshPC resolves to a loopback address: 127.0.1.1; using 192.168.1.7 instead (on interface enp5s0)\n",
      "24/01/11 11:07:51 WARN Utils: Set SPARK_LOCAL_IP if you need to bind to another address\n",
      "Setting default log level to \"WARN\".\n",
      "To adjust logging level use sc.setLogLevel(newLevel). For SparkR, use setLogLevel(newLevel).\n",
      "24/01/11 11:07:51 WARN NativeCodeLoader: Unable to load native-hadoop library for your platform... using builtin-java classes where applicable\n"
     ]
    },
    {
     "name": "stdout",
     "output_type": "stream",
     "text": [
      "SparkSession is created\n"
     ]
    }
   ],
   "source": [
    "from pyspark.sql import SparkSession\n",
    "spark = SparkSession.builder.appName('ETL1').getOrCreate()\n",
    "print('SparkSession is created')\n"
   ]
  },
  {
   "cell_type": "code",
   "execution_count": 6,
   "id": "c748a2d8-b1ee-40a3-a0f7-46d11c1351da",
   "metadata": {},
   "outputs": [
    {
     "name": "stdout",
     "output_type": "stream",
     "text": [
      "+-------+-------------------+-----------+---------------+\n",
      "|orderid|          orderdate|ordercustid|    orderstatus|\n",
      "+-------+-------------------+-----------+---------------+\n",
      "|      1|2013-07-25 00:00:00|      11599|         CLOSED|\n",
      "|      2|2013-07-25 00:00:00|        256|PENDING_PAYMENT|\n",
      "|      3|2013-07-25 00:00:00|      12111|       COMPLETE|\n",
      "|      4|2013-07-25 00:00:00|       8827|         CLOSED|\n",
      "|      5|2013-07-25 00:00:00|      11318|       COMPLETE|\n",
      "|      6|2013-07-25 00:00:00|       7130|       COMPLETE|\n",
      "|      7|2013-07-25 00:00:00|       4530|       COMPLETE|\n",
      "|      8|2013-07-25 00:00:00|       2911|     PROCESSING|\n",
      "|      9|2013-07-25 00:00:00|       5657|PENDING_PAYMENT|\n",
      "|     10|2013-07-25 00:00:00|       5648|PENDING_PAYMENT|\n",
      "|     11|2013-07-25 00:00:00|        918| PAYMENT_REVIEW|\n",
      "|     12|2013-07-25 00:00:00|       1837|         CLOSED|\n",
      "|     13|2013-07-25 00:00:00|       9149|PENDING_PAYMENT|\n",
      "|     14|2013-07-25 00:00:00|       9842|     PROCESSING|\n",
      "|     15|2013-07-25 00:00:00|       2568|       COMPLETE|\n",
      "|     16|2013-07-25 00:00:00|       7276|PENDING_PAYMENT|\n",
      "|     17|2013-07-25 00:00:00|       2667|       COMPLETE|\n",
      "|     18|2013-07-25 00:00:00|       1205|         CLOSED|\n",
      "|     19|2013-07-25 00:00:00|       9488|PENDING_PAYMENT|\n",
      "|     20|2013-07-25 00:00:00|       9198|     PROCESSING|\n",
      "+-------+-------------------+-----------+---------------+\n",
      "only showing top 20 rows\n",
      "\n"
     ]
    }
   ],
   "source": [
    "# implementing select statement in dataframe\n",
    "ord = spark.read.load('Datasets/Orders/part-00000',sep=',',format='csv',schema=('orderid int,orderdate timestamp,ordercustid int,orderstatus string'))\n",
    "ord.show() "
   ]
  },
  {
   "cell_type": "code",
   "execution_count": 7,
   "id": "3451fc11-9e7a-4082-97d7-023deddce472",
   "metadata": {},
   "outputs": [
    {
     "name": "stderr",
     "output_type": "stream",
     "text": [
      "                                                                                \r"
     ]
    },
    {
     "name": "stdout",
     "output_type": "stream",
     "text": [
      "+------+---+---+---+\n",
      "|  name| m1| m2| m3|\n",
      "+------+---+---+---+\n",
      "|Mahesh| 50| 40| 45|\n",
      "| Nijan| 50| 50| 45|\n",
      "+------+---+---+---+\n",
      "\n"
     ]
    }
   ],
   "source": [
    "data = [('Mahesh',50,40,45),('Nijan',50,50,45)]\n",
    "df_s = spark.createDataFrame(data,schema=['name','m1','m2','m3'])\n",
    "df_s.show()\n",
    "                "
   ]
  },
  {
   "cell_type": "code",
   "execution_count": 11,
   "id": "9251fd29-d816-4d9d-92a6-2d5815b7e21d",
   "metadata": {},
   "outputs": [
    {
     "name": "stdout",
     "output_type": "stream",
     "text": [
      "+------------------------+\n",
      "|(orderstatus = COMPLETE)|\n",
      "+------------------------+\n",
      "|                   false|\n",
      "|                   false|\n",
      "|                    true|\n",
      "|                   false|\n",
      "|                    true|\n",
      "|                    true|\n",
      "|                    true|\n",
      "|                   false|\n",
      "|                   false|\n",
      "|                   false|\n",
      "|                   false|\n",
      "|                   false|\n",
      "|                   false|\n",
      "|                   false|\n",
      "|                    true|\n",
      "|                   false|\n",
      "|                    true|\n",
      "|                   false|\n",
      "|                   false|\n",
      "|                   false|\n",
      "+------------------------+\n",
      "only showing top 20 rows\n",
      "\n"
     ]
    }
   ],
   "source": [
    "ord.select(ord.orderstatus == 'COMPLETE').show()"
   ]
  },
  {
   "cell_type": "code",
   "execution_count": 12,
   "id": "09170618-5023-4b5b-8942-4435c5584528",
   "metadata": {},
   "outputs": [
    {
     "name": "stdout",
     "output_type": "stream",
     "text": [
      "+-------+-------------------+-----------+-----------+\n",
      "|orderid|          orderdate|ordercustid|orderstatus|\n",
      "+-------+-------------------+-----------+-----------+\n",
      "|      3|2013-07-25 00:00:00|      12111|   COMPLETE|\n",
      "|      5|2013-07-25 00:00:00|      11318|   COMPLETE|\n",
      "|      6|2013-07-25 00:00:00|       7130|   COMPLETE|\n",
      "|      7|2013-07-25 00:00:00|       4530|   COMPLETE|\n",
      "|     15|2013-07-25 00:00:00|       2568|   COMPLETE|\n",
      "|     17|2013-07-25 00:00:00|       2667|   COMPLETE|\n",
      "|     22|2013-07-25 00:00:00|        333|   COMPLETE|\n",
      "|     26|2013-07-25 00:00:00|       7562|   COMPLETE|\n",
      "|     28|2013-07-25 00:00:00|        656|   COMPLETE|\n",
      "|     32|2013-07-25 00:00:00|       3960|   COMPLETE|\n",
      "|     35|2013-07-25 00:00:00|       4840|   COMPLETE|\n",
      "|     45|2013-07-25 00:00:00|       2636|   COMPLETE|\n",
      "|     56|2013-07-25 00:00:00|      10519|   COMPLETE|\n",
      "|     63|2013-07-25 00:00:00|       1148|   COMPLETE|\n",
      "|     65|2013-07-25 00:00:00|       5903|   COMPLETE|\n",
      "|     67|2013-07-25 00:00:00|       1406|   COMPLETE|\n",
      "|     71|2013-07-25 00:00:00|       8646|   COMPLETE|\n",
      "|     72|2013-07-25 00:00:00|       4349|   COMPLETE|\n",
      "|     76|2013-07-25 00:00:00|       6898|   COMPLETE|\n",
      "|     80|2013-07-25 00:00:00|       3007|   COMPLETE|\n",
      "+-------+-------------------+-----------+-----------+\n",
      "only showing top 20 rows\n",
      "\n"
     ]
    }
   ],
   "source": [
    "ord.where(ord.orderstatus == 'COMPLETE').show()"
   ]
  },
  {
   "cell_type": "code",
   "execution_count": 22,
   "id": "38b3a2f6-5389-477c-92d2-91d1555314e1",
   "metadata": {},
   "outputs": [
    {
     "name": "stdout",
     "output_type": "stream",
     "text": [
      "+----------+\n",
      "|order_year|\n",
      "+----------+\n",
      "|      2013|\n",
      "|      2013|\n",
      "|      2013|\n",
      "|      2013|\n",
      "|      2013|\n",
      "|      2013|\n",
      "|      2013|\n",
      "|      2013|\n",
      "|      2013|\n",
      "|      2013|\n",
      "|      2013|\n",
      "|      2013|\n",
      "|      2013|\n",
      "|      2013|\n",
      "|      2013|\n",
      "|      2013|\n",
      "|      2013|\n",
      "|      2013|\n",
      "|      2013|\n",
      "|      2013|\n",
      "+----------+\n",
      "only showing top 20 rows\n",
      "\n"
     ]
    }
   ],
   "source": [
    "# using selectExpr\n",
    "\n",
    "ord.selectExpr(\"substring(orderdate,1,4) as order_year\").show()"
   ]
  },
  {
   "cell_type": "code",
   "execution_count": 23,
   "id": "9af95806-5758-43e8-9aba-6cb57b460806",
   "metadata": {},
   "outputs": [
    {
     "name": "stdout",
     "output_type": "stream",
     "text": [
      "+----+----+\n",
      "|col0|col1|\n",
      "+----+----+\n",
      "|   1|   2|\n",
      "|   3|   4|\n",
      "|   5|   6|\n",
      "|   1|   2|\n",
      "|   3|   4|\n",
      "|   5|   6|\n",
      "+----+----+\n",
      "\n"
     ]
    }
   ],
   "source": [
    "df_s.selectExpr(\"Stack(3, 1,2,3,4,5,6)\").show()"
   ]
  },
  {
   "cell_type": "code",
   "execution_count": 30,
   "id": "804b965b-ff75-49af-a154-bdf5148a3a0a",
   "metadata": {},
   "outputs": [
    {
     "name": "stdout",
     "output_type": "stream",
     "text": [
      "+--------+-------------------+-----------+---------------+\n",
      "|order_id|          orderdate|ordercustid|    orderstatus|\n",
      "+--------+-------------------+-----------+---------------+\n",
      "|       1|2013-07-25 00:00:00|      11599|         CLOSED|\n",
      "|       2|2013-07-25 00:00:00|        256|PENDING_PAYMENT|\n",
      "|       3|2013-07-25 00:00:00|      12111|       COMPLETE|\n",
      "|       4|2013-07-25 00:00:00|       8827|         CLOSED|\n",
      "|       5|2013-07-25 00:00:00|      11318|       COMPLETE|\n",
      "|       6|2013-07-25 00:00:00|       7130|       COMPLETE|\n",
      "|       7|2013-07-25 00:00:00|       4530|       COMPLETE|\n",
      "|       8|2013-07-25 00:00:00|       2911|     PROCESSING|\n",
      "|       9|2013-07-25 00:00:00|       5657|PENDING_PAYMENT|\n",
      "|      10|2013-07-25 00:00:00|       5648|PENDING_PAYMENT|\n",
      "|      11|2013-07-25 00:00:00|        918| PAYMENT_REVIEW|\n",
      "|      12|2013-07-25 00:00:00|       1837|         CLOSED|\n",
      "|      13|2013-07-25 00:00:00|       9149|PENDING_PAYMENT|\n",
      "|      14|2013-07-25 00:00:00|       9842|     PROCESSING|\n",
      "|      15|2013-07-25 00:00:00|       2568|       COMPLETE|\n",
      "|      16|2013-07-25 00:00:00|       7276|PENDING_PAYMENT|\n",
      "|      17|2013-07-25 00:00:00|       2667|       COMPLETE|\n",
      "|      18|2013-07-25 00:00:00|       1205|         CLOSED|\n",
      "|      19|2013-07-25 00:00:00|       9488|PENDING_PAYMENT|\n",
      "|      20|2013-07-25 00:00:00|       9198|     PROCESSING|\n",
      "+--------+-------------------+-----------+---------------+\n",
      "only showing top 20 rows\n",
      "\n"
     ]
    }
   ],
   "source": [
    "\n",
    "#ord.withColumn(\"Order_year\",substring(ord.orderdate,1,4)).show()\n",
    "\n",
    "ord.withColumnRenamed('orderid','order_id').show()"
   ]
  },
  {
   "cell_type": "code",
   "execution_count": 32,
   "id": "7d7eb77b-fbb2-4a06-bd64-53ea05b253d0",
   "metadata": {},
   "outputs": [
    {
     "name": "stderr",
     "output_type": "stream",
     "text": [
      "[Stage 17:>                                                         (0 + 8) / 8]\r"
     ]
    },
    {
     "name": "stdout",
     "output_type": "stream",
     "text": [
      "+------+---+---+---+\n",
      "|  name| m1| m2| m3|\n",
      "+------+---+---+---+\n",
      "|Mahesh| 50| 40| 45|\n",
      "| Nijan| 50| 50| 45|\n",
      "+------+---+---+---+\n",
      "\n"
     ]
    },
    {
     "name": "stderr",
     "output_type": "stream",
     "text": [
      "                                                                                \r"
     ]
    }
   ],
   "source": [
    "# to drop cols\n",
    "\n",
    "#ord.drop('order_id')\n",
    "\n",
    "# to drop duplicates\n",
    "\n",
    "#ord.dropDuplicates().show()\n",
    "\n",
    "df_s.dropDuplicates(['m1','m2']).show()\n",
    "\n"
   ]
  },
  {
   "cell_type": "code",
   "execution_count": 35,
   "id": "4a3fd1dc-367d-4092-9d06-ab3aab26c4b0",
   "metadata": {},
   "outputs": [
    {
     "name": "stdout",
     "output_type": "stream",
     "text": [
      "+-------+-------------------+-----------+-----------+\n",
      "|orderid|          orderdate|ordercustid|orderstatus|\n",
      "+-------+-------------------+-----------+-----------+\n",
      "|      1|2013-07-25 00:00:00|      11599|     CLOSED|\n",
      "|      4|2013-07-25 00:00:00|       8827|     CLOSED|\n",
      "|     12|2013-07-25 00:00:00|       1837|     CLOSED|\n",
      "|     18|2013-07-25 00:00:00|       1205|     CLOSED|\n",
      "|     24|2013-07-25 00:00:00|      11441|     CLOSED|\n",
      "|     25|2013-07-25 00:00:00|       9503|     CLOSED|\n",
      "|     37|2013-07-25 00:00:00|       5863|     CLOSED|\n",
      "|     51|2013-07-25 00:00:00|      12271|     CLOSED|\n",
      "|     57|2013-07-25 00:00:00|       7073|     CLOSED|\n",
      "|     61|2013-07-25 00:00:00|       4791|     CLOSED|\n",
      "|     62|2013-07-25 00:00:00|       9111|     CLOSED|\n",
      "|     87|2013-07-25 00:00:00|       3065|     CLOSED|\n",
      "|     90|2013-07-25 00:00:00|       9131|     CLOSED|\n",
      "|    101|2013-07-25 00:00:00|       5116|     CLOSED|\n",
      "|    116|2013-07-26 00:00:00|       8763|     CLOSED|\n",
      "|    129|2013-07-26 00:00:00|       9937|     CLOSED|\n",
      "|    133|2013-07-26 00:00:00|      10604|     CLOSED|\n",
      "|    191|2013-07-26 00:00:00|         16|     CLOSED|\n",
      "|    201|2013-07-26 00:00:00|       9055|     CLOSED|\n",
      "|    211|2013-07-26 00:00:00|      10372|     CLOSED|\n",
      "+-------+-------------------+-----------+-----------+\n",
      "only showing top 20 rows\n",
      "\n"
     ]
    }
   ],
   "source": [
    "# to implement where and filter\n",
    "\n",
    "ord.where(ord.orderstatus == 'CLOSED').show()"
   ]
  },
  {
   "cell_type": "code",
   "execution_count": 38,
   "id": "159dca13-1d0f-4fac-9fbc-b181eaf21649",
   "metadata": {},
   "outputs": [
    {
     "name": "stdout",
     "output_type": "stream",
     "text": [
      "+-------+-------------------+-----------+---------------+\n",
      "|orderid|          orderdate|ordercustid|    orderstatus|\n",
      "+-------+-------------------+-----------+---------------+\n",
      "|      6|2013-07-25 00:00:00|       7130|       COMPLETE|\n",
      "|      7|2013-07-25 00:00:00|       4530|       COMPLETE|\n",
      "|      8|2013-07-25 00:00:00|       2911|     PROCESSING|\n",
      "|      9|2013-07-25 00:00:00|       5657|PENDING_PAYMENT|\n",
      "|     10|2013-07-25 00:00:00|       5648|PENDING_PAYMENT|\n",
      "|     11|2013-07-25 00:00:00|        918| PAYMENT_REVIEW|\n",
      "|     12|2013-07-25 00:00:00|       1837|         CLOSED|\n",
      "|     13|2013-07-25 00:00:00|       9149|PENDING_PAYMENT|\n",
      "|     14|2013-07-25 00:00:00|       9842|     PROCESSING|\n",
      "+-------+-------------------+-----------+---------------+\n",
      "\n"
     ]
    }
   ],
   "source": [
    "ord.where((ord.orderid > 5) & (ord.orderid < 15)).show()"
   ]
  },
  {
   "cell_type": "code",
   "execution_count": 39,
   "id": "a0ac2cea-6574-4365-ad05-99365b360cb7",
   "metadata": {},
   "outputs": [
    {
     "name": "stdout",
     "output_type": "stream",
     "text": [
      "+-------+-------------------+-----------+-----------+\n",
      "|orderid|          orderdate|ordercustid|orderstatus|\n",
      "+-------+-------------------+-----------+-----------+\n",
      "|      1|2013-07-25 00:00:00|      11599|     CLOSED|\n",
      "|      4|2013-07-25 00:00:00|       8827|     CLOSED|\n",
      "|     12|2013-07-25 00:00:00|       1837|     CLOSED|\n",
      "+-------+-------------------+-----------+-----------+\n",
      "\n"
     ]
    }
   ],
   "source": [
    "ord.where((ord.orderstatus == 'CLOSED') & (ord.orderid < 15)).show()"
   ]
  },
  {
   "cell_type": "code",
   "execution_count": 41,
   "id": "cb0776b0-406c-4dba-81a0-450592533273",
   "metadata": {},
   "outputs": [
    {
     "name": "stdout",
     "output_type": "stream",
     "text": [
      "+-------+-------------------+-----------+---------------+\n",
      "|orderid|          orderdate|ordercustid|    orderstatus|\n",
      "+-------+-------------------+-----------+---------------+\n",
      "|  68883|2014-07-23 00:00:00|       5533|       COMPLETE|\n",
      "|  68882|2014-07-22 00:00:00|      10000|        ON_HOLD|\n",
      "|  68881|2014-07-19 00:00:00|       2518|PENDING_PAYMENT|\n",
      "|  68880|2014-07-13 00:00:00|       1117|       COMPLETE|\n",
      "|  68879|2014-07-09 00:00:00|        778|       COMPLETE|\n",
      "|  68878|2014-07-08 00:00:00|       6753|       COMPLETE|\n",
      "|  68877|2014-07-07 00:00:00|       9692|        ON_HOLD|\n",
      "|  68876|2014-07-06 00:00:00|       4124|       COMPLETE|\n",
      "|  68875|2014-07-04 00:00:00|      10637|        ON_HOLD|\n",
      "|  68874|2014-07-03 00:00:00|       1601|       COMPLETE|\n",
      "|  68873|2014-06-30 00:00:00|       4545|        PENDING|\n",
      "|  68872|2014-06-29 00:00:00|       3354|       COMPLETE|\n",
      "|  68871|2014-06-28 00:00:00|       4960|        PENDING|\n",
      "|  68870|2014-06-26 00:00:00|       3343|       COMPLETE|\n",
      "|  68869|2014-06-25 00:00:00|       7456|     PROCESSING|\n",
      "|  68868|2014-06-24 00:00:00|      10184|        PENDING|\n",
      "|  68867|2014-06-23 00:00:00|        869|       CANCELED|\n",
      "|  68866|2014-06-20 00:00:00|       3890|PENDING_PAYMENT|\n",
      "|  68865|2014-06-19 00:00:00|       4567|SUSPECTED_FRAUD|\n",
      "|  68864|2014-06-18 00:00:00|       9634|        ON_HOLD|\n",
      "+-------+-------------------+-----------+---------------+\n",
      "only showing top 20 rows\n",
      "\n"
     ]
    }
   ],
   "source": [
    "# sorting the data sort() orderby()\n",
    "\n",
    "ord.sort(ord.orderid.desc()).show()\n",
    "\n"
   ]
  },
  {
   "cell_type": "code",
   "execution_count": 42,
   "id": "64ae28af-4cdd-44ce-96ea-6129d5fb2fb2",
   "metadata": {},
   "outputs": [
    {
     "name": "stdout",
     "output_type": "stream",
     "text": [
      "+-------+-------------------+-----------+-----------+\n",
      "|orderid|          orderdate|ordercustid|orderstatus|\n",
      "+-------+-------------------+-----------+-----------+\n",
      "|     46|2013-07-25 00:00:00|       1549|    ON_HOLD|\n",
      "|     66|2013-07-25 00:00:00|       1792|    ON_HOLD|\n",
      "|     89|2013-07-25 00:00:00|        824|    ON_HOLD|\n",
      "|    145|2013-07-26 00:00:00|        494|    ON_HOLD|\n",
      "|    151|2013-07-26 00:00:00|       2493|    ON_HOLD|\n",
      "|    154|2013-07-26 00:00:00|       9993|    ON_HOLD|\n",
      "|    156|2013-07-26 00:00:00|       5200|    ON_HOLD|\n",
      "|    157|2013-07-26 00:00:00|       8986|    ON_HOLD|\n",
      "|    169|2013-07-26 00:00:00|       2611|    ON_HOLD|\n",
      "|    173|2013-07-26 00:00:00|       9027|    ON_HOLD|\n",
      "|    180|2013-07-26 00:00:00|      10215|    ON_HOLD|\n",
      "|    199|2013-07-26 00:00:00|       4608|    ON_HOLD|\n",
      "|    228|2013-07-26 00:00:00|       6070|    ON_HOLD|\n",
      "|    234|2013-07-26 00:00:00|       1010|    ON_HOLD|\n",
      "|    243|2013-07-26 00:00:00|         32|    ON_HOLD|\n",
      "|    286|2013-07-26 00:00:00|       9824|    ON_HOLD|\n",
      "|    305|2013-07-26 00:00:00|       5618|    ON_HOLD|\n",
      "|    321|2013-07-26 00:00:00|       4282|    ON_HOLD|\n",
      "|    342|2013-07-26 00:00:00|       8809|    ON_HOLD|\n",
      "|    381|2013-07-27 00:00:00|       5756|    ON_HOLD|\n",
      "+-------+-------------------+-----------+-----------+\n",
      "only showing top 20 rows\n",
      "\n"
     ]
    }
   ],
   "source": [
    "ord.sort(ord.orderid.asc()).where(ord.orderstatus=='ON_HOLD').show()"
   ]
  },
  {
   "cell_type": "code",
   "execution_count": 43,
   "id": "a8da6383-fba7-4348-b161-6c073d7cca84",
   "metadata": {},
   "outputs": [
    {
     "name": "stdout",
     "output_type": "stream",
     "text": [
      "+-------+-------------------+-----------+---------------+\n",
      "|orderid|          orderdate|ordercustid|    orderstatus|\n",
      "+-------+-------------------+-----------+---------------+\n",
      "|  68883|2014-07-23 00:00:00|       5533|       COMPLETE|\n",
      "|  68882|2014-07-22 00:00:00|      10000|        ON_HOLD|\n",
      "|  68881|2014-07-19 00:00:00|       2518|PENDING_PAYMENT|\n",
      "|  68880|2014-07-13 00:00:00|       1117|       COMPLETE|\n",
      "|  68879|2014-07-09 00:00:00|        778|       COMPLETE|\n",
      "|  68878|2014-07-08 00:00:00|       6753|       COMPLETE|\n",
      "|  68877|2014-07-07 00:00:00|       9692|        ON_HOLD|\n",
      "|  68876|2014-07-06 00:00:00|       4124|       COMPLETE|\n",
      "|  68875|2014-07-04 00:00:00|      10637|        ON_HOLD|\n",
      "|  68874|2014-07-03 00:00:00|       1601|       COMPLETE|\n",
      "|  68873|2014-06-30 00:00:00|       4545|        PENDING|\n",
      "|  68872|2014-06-29 00:00:00|       3354|       COMPLETE|\n",
      "|  68871|2014-06-28 00:00:00|       4960|        PENDING|\n",
      "|  68870|2014-06-26 00:00:00|       3343|       COMPLETE|\n",
      "|  68869|2014-06-25 00:00:00|       7456|     PROCESSING|\n",
      "|  68868|2014-06-24 00:00:00|      10184|        PENDING|\n",
      "|  68867|2014-06-23 00:00:00|        869|       CANCELED|\n",
      "|  68866|2014-06-20 00:00:00|       3890|PENDING_PAYMENT|\n",
      "|  68865|2014-06-19 00:00:00|       4567|SUSPECTED_FRAUD|\n",
      "|  68864|2014-06-18 00:00:00|       9634|        ON_HOLD|\n",
      "+-------+-------------------+-----------+---------------+\n",
      "only showing top 20 rows\n",
      "\n"
     ]
    }
   ],
   "source": [
    "ord.sort(ord.orderid,ord.ordercustid,ascending=[0,1]).show()"
   ]
  },
  {
   "cell_type": "code",
   "execution_count": 46,
   "id": "553120a5-987d-4709-ab83-db382677f4cc",
   "metadata": {},
   "outputs": [
    {
     "data": {
      "text/plain": [
       "8"
      ]
     },
     "execution_count": 46,
     "metadata": {},
     "output_type": "execute_result"
    }
   ],
   "source": [
    "# sort with partitions\n",
    "\n",
    "df_s.rdd.getNumPartitions()"
   ]
  },
  {
   "cell_type": "code",
   "execution_count": 47,
   "id": "c769b88f-36ab-4220-a6fe-a8412513d548",
   "metadata": {},
   "outputs": [
    {
     "name": "stderr",
     "output_type": "stream",
     "text": [
      "                                                                                \r"
     ]
    },
    {
     "data": {
      "text/plain": [
       "[[],\n",
       " [],\n",
       " [],\n",
       " [Row(name='Mahesh', m1=50, m2=40, m3=45)],\n",
       " [],\n",
       " [],\n",
       " [],\n",
       " [Row(name='Nijan', m1=50, m2=50, m3=45)]]"
      ]
     },
     "execution_count": 47,
     "metadata": {},
     "output_type": "execute_result"
    }
   ],
   "source": [
    "df_s.rdd.glom().collect()"
   ]
  },
  {
   "cell_type": "code",
   "execution_count": 50,
   "id": "66a532e7-e08d-4a99-aff1-d44476c28536",
   "metadata": {},
   "outputs": [
    {
     "name": "stdout",
     "output_type": "stream",
     "text": [
      "+------+---+---+---+\n",
      "|  name| m1| m2| m3|\n",
      "+------+---+---+---+\n",
      "|Mahesh| 50| 40| 45|\n",
      "| Nijan| 50| 50| 45|\n",
      "+------+---+---+---+\n",
      "\n"
     ]
    }
   ],
   "source": [
    "df_s.sortWithinPartitions(df_s.name.asc()).show()"
   ]
  },
  {
   "cell_type": "code",
   "execution_count": 51,
   "id": "385447ed-5ec6-4013-9368-2efd5fea7590",
   "metadata": {},
   "outputs": [
    {
     "name": "stdout",
     "output_type": "stream",
     "text": [
      "+---+\n",
      "| id|\n",
      "+---+\n",
      "|  0|\n",
      "|  1|\n",
      "|  2|\n",
      "|  3|\n",
      "|  4|\n",
      "|  5|\n",
      "|  6|\n",
      "|  7|\n",
      "|  8|\n",
      "|  9|\n",
      "+---+\n",
      "\n",
      "+---+\n",
      "| id|\n",
      "+---+\n",
      "|  5|\n",
      "|  6|\n",
      "|  7|\n",
      "|  8|\n",
      "|  9|\n",
      "| 10|\n",
      "| 11|\n",
      "+---+\n",
      "\n"
     ]
    }
   ],
   "source": [
    "# set implementation\n",
    "\n",
    "df1 = spark.range(10)\n",
    "\n",
    "df2 = spark.range(5,12)\n",
    "\n",
    "df1.show()\n",
    "df2.show()\n"
   ]
  },
  {
   "cell_type": "code",
   "execution_count": 54,
   "id": "9f77daf5-b457-4983-8f5b-4293683a7b3d",
   "metadata": {},
   "outputs": [
    {
     "name": "stdout",
     "output_type": "stream",
     "text": [
      "+---+\n",
      "| id|\n",
      "+---+\n",
      "|  0|\n",
      "|  1|\n",
      "|  2|\n",
      "|  3|\n",
      "|  4|\n",
      "|  5|\n",
      "|  6|\n",
      "|  7|\n",
      "|  8|\n",
      "|  9|\n",
      "|  5|\n",
      "|  6|\n",
      "|  7|\n",
      "|  8|\n",
      "|  9|\n",
      "| 10|\n",
      "| 11|\n",
      "+---+\n",
      "\n"
     ]
    }
   ],
   "source": [
    "# implementing union and unionAll\n",
    "\n",
    "df1.union(df2).show()\n",
    "\n"
   ]
  },
  {
   "cell_type": "code",
   "execution_count": 55,
   "id": "fec59b24-a307-4117-9a4c-bd52a5efbabb",
   "metadata": {},
   "outputs": [
    {
     "name": "stdout",
     "output_type": "stream",
     "text": [
      "+---+\n",
      "| id|\n",
      "+---+\n",
      "|  0|\n",
      "|  1|\n",
      "|  2|\n",
      "|  3|\n",
      "|  4|\n",
      "|  5|\n",
      "|  6|\n",
      "|  7|\n",
      "|  8|\n",
      "|  9|\n",
      "|  5|\n",
      "|  6|\n",
      "|  7|\n",
      "|  8|\n",
      "|  9|\n",
      "| 10|\n",
      "| 11|\n",
      "+---+\n",
      "\n"
     ]
    }
   ],
   "source": [
    "df1.unionAll(df2).show()"
   ]
  },
  {
   "cell_type": "code",
   "execution_count": 56,
   "id": "5d225522-ac74-4a2c-8349-82bbf3b02f10",
   "metadata": {},
   "outputs": [
    {
     "name": "stdout",
     "output_type": "stream",
     "text": [
      "+------+---+---+---+\n",
      "|  name| m1| m2| m3|\n",
      "+------+---+---+---+\n",
      "|Mahesh| 50| 40| 45|\n",
      "| Nijan| 50| 50| 45|\n",
      "|Mahesh| 50| 40| 45|\n",
      "| Nijan| 50| 50| 45|\n",
      "+------+---+---+---+\n",
      "\n"
     ]
    }
   ],
   "source": [
    "# union by name\n",
    "\n",
    "df_s.unionByName(df_s).show()"
   ]
  },
  {
   "cell_type": "code",
   "execution_count": 58,
   "id": "cb6813e9-8d6f-46bc-b4d7-7ea711b44907",
   "metadata": {},
   "outputs": [
    {
     "name": "stdout",
     "output_type": "stream",
     "text": [
      "+---+\n",
      "| id|\n",
      "+---+\n",
      "|  5|\n",
      "|  6|\n",
      "|  7|\n",
      "|  8|\n",
      "|  9|\n",
      "+---+\n",
      "\n"
     ]
    }
   ],
   "source": [
    "# intersect and intersectall\n",
    "\n",
    "df1.intersect(df2).show()\n"
   ]
  },
  {
   "cell_type": "code",
   "execution_count": 59,
   "id": "28b8bbe7-5dfe-4c26-8c4d-8d54f0ae2473",
   "metadata": {},
   "outputs": [
    {
     "name": "stdout",
     "output_type": "stream",
     "text": [
      "+---+\n",
      "| id|\n",
      "+---+\n",
      "|  5|\n",
      "|  6|\n",
      "|  7|\n",
      "|  9|\n",
      "|  8|\n",
      "+---+\n",
      "\n"
     ]
    }
   ],
   "source": [
    "df1.intersectAll(df2).show()"
   ]
  },
  {
   "cell_type": "code",
   "execution_count": 60,
   "id": "557ecba0-6306-42d9-b30f-48303cf80a8b",
   "metadata": {},
   "outputs": [
    {
     "name": "stdout",
     "output_type": "stream",
     "text": [
      "+---+\n",
      "| id|\n",
      "+---+\n",
      "|  0|\n",
      "|  1|\n",
      "|  2|\n",
      "|  3|\n",
      "|  4|\n",
      "+---+\n",
      "\n"
     ]
    }
   ],
   "source": [
    "# except all\n",
    "\n",
    "df1.exceptAll(df2).show()"
   ]
  },
  {
   "cell_type": "code",
   "execution_count": 63,
   "id": "50b5eb98-94b1-4bd6-81cd-979473802755",
   "metadata": {},
   "outputs": [
    {
     "name": "stdout",
     "output_type": "stream",
     "text": [
      "Help on method join in module pyspark.sql.dataframe:\n",
      "\n",
      "join(other: 'DataFrame', on: Union[str, List[str], pyspark.sql.column.Column, List[pyspark.sql.column.Column], NoneType] = None, how: Optional[str] = None) -> 'DataFrame' method of pyspark.sql.dataframe.DataFrame instance\n",
      "    Joins with another :class:`DataFrame`, using the given join expression.\n",
      "    \n",
      "    .. versionadded:: 1.3.0\n",
      "    \n",
      "    .. versionchanged:: 3.4.0\n",
      "        Supports Spark Connect.\n",
      "    \n",
      "    Parameters\n",
      "    ----------\n",
      "    other : :class:`DataFrame`\n",
      "        Right side of the join\n",
      "    on : str, list or :class:`Column`, optional\n",
      "        a string for the join column name, a list of column names,\n",
      "        a join expression (Column), or a list of Columns.\n",
      "        If `on` is a string or a list of strings indicating the name of the join column(s),\n",
      "        the column(s) must exist on both sides, and this performs an equi-join.\n",
      "    how : str, optional\n",
      "        default ``inner``. Must be one of: ``inner``, ``cross``, ``outer``,\n",
      "        ``full``, ``fullouter``, ``full_outer``, ``left``, ``leftouter``, ``left_outer``,\n",
      "        ``right``, ``rightouter``, ``right_outer``, ``semi``, ``leftsemi``, ``left_semi``,\n",
      "        ``anti``, ``leftanti`` and ``left_anti``.\n",
      "    \n",
      "    Returns\n",
      "    -------\n",
      "    :class:`DataFrame`\n",
      "        Joined DataFrame.\n",
      "    \n",
      "    Examples\n",
      "    --------\n",
      "    The following performs a full outer join between ``df1`` and ``df2``.\n",
      "    \n",
      "    >>> from pyspark.sql import Row\n",
      "    >>> from pyspark.sql.functions import desc\n",
      "    >>> df = spark.createDataFrame([(2, \"Alice\"), (5, \"Bob\")]).toDF(\"age\", \"name\")\n",
      "    >>> df2 = spark.createDataFrame([Row(height=80, name=\"Tom\"), Row(height=85, name=\"Bob\")])\n",
      "    >>> df3 = spark.createDataFrame([Row(age=2, name=\"Alice\"), Row(age=5, name=\"Bob\")])\n",
      "    >>> df4 = spark.createDataFrame([\n",
      "    ...     Row(age=10, height=80, name=\"Alice\"),\n",
      "    ...     Row(age=5, height=None, name=\"Bob\"),\n",
      "    ...     Row(age=None, height=None, name=\"Tom\"),\n",
      "    ...     Row(age=None, height=None, name=None),\n",
      "    ... ])\n",
      "    \n",
      "    Inner join on columns (default)\n",
      "    \n",
      "    >>> df.join(df2, 'name').select(df.name, df2.height).show()\n",
      "    +----+------+\n",
      "    |name|height|\n",
      "    +----+------+\n",
      "    | Bob|    85|\n",
      "    +----+------+\n",
      "    >>> df.join(df4, ['name', 'age']).select(df.name, df.age).show()\n",
      "    +----+---+\n",
      "    |name|age|\n",
      "    +----+---+\n",
      "    | Bob|  5|\n",
      "    +----+---+\n",
      "    \n",
      "    Outer join for both DataFrames on the 'name' column.\n",
      "    \n",
      "    >>> df.join(df2, df.name == df2.name, 'outer').select(\n",
      "    ...     df.name, df2.height).sort(desc(\"name\")).show()\n",
      "    +-----+------+\n",
      "    | name|height|\n",
      "    +-----+------+\n",
      "    |  Bob|    85|\n",
      "    |Alice|  NULL|\n",
      "    | NULL|    80|\n",
      "    +-----+------+\n",
      "    >>> df.join(df2, 'name', 'outer').select('name', 'height').sort(desc(\"name\")).show()\n",
      "    +-----+------+\n",
      "    | name|height|\n",
      "    +-----+------+\n",
      "    |  Tom|    80|\n",
      "    |  Bob|    85|\n",
      "    |Alice|  NULL|\n",
      "    +-----+------+\n",
      "    \n",
      "    Outer join for both DataFrams with multiple columns.\n",
      "    \n",
      "    >>> df.join(\n",
      "    ...     df3,\n",
      "    ...     [df.name == df3.name, df.age == df3.age],\n",
      "    ...     'outer'\n",
      "    ... ).select(df.name, df3.age).show()\n",
      "    +-----+---+\n",
      "    | name|age|\n",
      "    +-----+---+\n",
      "    |Alice|  2|\n",
      "    |  Bob|  5|\n",
      "    +-----+---+\n",
      "\n"
     ]
    }
   ],
   "source": [
    "# joins in Spark\n",
    "\n",
    "help(df1.join)\n"
   ]
  },
  {
   "cell_type": "code",
   "execution_count": 66,
   "id": "d392826a-a87f-4924-aa0f-7f90c39436d9",
   "metadata": {},
   "outputs": [
    {
     "name": "stdout",
     "output_type": "stream",
     "text": [
      "+-------+------+------+\n",
      "|   name|deptid|salary|\n",
      "+-------+------+------+\n",
      "|Pradeep|   101| 10000|\n",
      "|  Nijan|   102| 20000|\n",
      "|    Sai|   105| 25000|\n",
      "|  Saran|   108| 15000|\n",
      "+-------+------+------+\n",
      "\n",
      "+------+-----------+\n",
      "|deptid|      dname|\n",
      "+------+-----------+\n",
      "|   101|         IT|\n",
      "|   102|    Finance|\n",
      "|   105|   Software|\n",
      "|   108|Electronics|\n",
      "+------+-----------+\n",
      "\n"
     ]
    }
   ],
   "source": [
    "# creating dataframe for joins\n",
    "df_emp = spark.createDataFrame([('Pradeep',101,10000),('Nijan',102,20000),('Sai',105,25000),('Saran',108,15000)],schema ='name string,deptid int,salary int')\n",
    "df_dept = spark.createDataFrame([(101,'IT'),(102,'Finance'),(105,'Software'),(108,'Electronics')],schema ='deptid int,dname string')\n",
    "\n",
    "df_emp.show()\n",
    "df_dept.show()"
   ]
  },
  {
   "cell_type": "code",
   "execution_count": 67,
   "id": "caf12643-ec25-4a90-9ac5-2f54787062f7",
   "metadata": {},
   "outputs": [
    {
     "name": "stderr",
     "output_type": "stream",
     "text": [
      "[Stage 56:====================================>                     (5 + 3) / 8]\r"
     ]
    },
    {
     "name": "stdout",
     "output_type": "stream",
     "text": [
      "+-------+------+------+------+-----------+\n",
      "|   name|deptid|salary|deptid|      dname|\n",
      "+-------+------+------+------+-----------+\n",
      "|Pradeep|   101| 10000|   101|         IT|\n",
      "|  Nijan|   102| 20000|   102|    Finance|\n",
      "|    Sai|   105| 25000|   105|   Software|\n",
      "|  Saran|   108| 15000|   108|Electronics|\n",
      "+-------+------+------+------+-----------+\n",
      "\n"
     ]
    },
    {
     "name": "stderr",
     "output_type": "stream",
     "text": [
      "                                                                                \r"
     ]
    }
   ],
   "source": [
    "df_emp.join(df_dept,df_emp.deptid == df_dept.deptid).show()"
   ]
  },
  {
   "cell_type": "code",
   "execution_count": 71,
   "id": "f6247035-abbd-45d0-8510-29cdf7f8b47d",
   "metadata": {},
   "outputs": [
    {
     "name": "stdout",
     "output_type": "stream",
     "text": [
      "+-------+-----------+\n",
      "|   name|      dname|\n",
      "+-------+-----------+\n",
      "|Pradeep|         IT|\n",
      "|  Nijan|    Finance|\n",
      "|    Sai|   Software|\n",
      "|  Saran|Electronics|\n",
      "+-------+-----------+\n",
      "\n"
     ]
    }
   ],
   "source": [
    "# inner joins\n",
    "\n",
    "df_emp.join(df_dept,df_emp.deptid == df_dept.deptid,'inner').select(df_emp.name,df_dept.dname).show()"
   ]
  },
  {
   "cell_type": "code",
   "execution_count": 73,
   "id": "bdeffe56-2112-454c-aa11-4cda1cd20853",
   "metadata": {},
   "outputs": [
    {
     "name": "stdout",
     "output_type": "stream",
     "text": [
      "+-------+------+------+------+-----------+\n",
      "|   name|deptid|salary|deptid|      dname|\n",
      "+-------+------+------+------+-----------+\n",
      "|Pradeep|   101| 10000|   101|         IT|\n",
      "|  Nijan|   102| 20000|   102|    Finance|\n",
      "|    Sai|   105| 25000|   105|   Software|\n",
      "|  Saran|   108| 15000|   108|Electronics|\n",
      "+-------+------+------+------+-----------+\n",
      "\n"
     ]
    },
    {
     "name": "stderr",
     "output_type": "stream",
     "text": [
      "                                                                                \r"
     ]
    }
   ],
   "source": [
    "# left outer join \n",
    "df_emp.join(df_dept,df_emp.deptid == df_dept.deptid,'left').show()\n"
   ]
  },
  {
   "cell_type": "code",
   "execution_count": 74,
   "id": "a0e3b148-4893-41d2-b64e-14f69c95193f",
   "metadata": {},
   "outputs": [
    {
     "name": "stdout",
     "output_type": "stream",
     "text": [
      "+------+-----------+\n",
      "|deptid|      dname|\n",
      "+------+-----------+\n",
      "|   101|         IT|\n",
      "|   102|    Finance|\n",
      "|   105|   Software|\n",
      "|   108|Electronics|\n",
      "+------+-----------+\n",
      "\n"
     ]
    }
   ],
   "source": [
    "# right join\n",
    "df_emp.join(df_dept,df_emp.deptid == df_dept.deptid,'right').select(df_emp.deptid,df_dept.dname).show()"
   ]
  },
  {
   "cell_type": "code",
   "execution_count": 75,
   "id": "3007ad76-d111-4511-9eeb-d9ab2a9ba6e0",
   "metadata": {},
   "outputs": [
    {
     "name": "stdout",
     "output_type": "stream",
     "text": [
      "+-------+------+------+------+-----------+\n",
      "|   name|deptid|salary|deptid|      dname|\n",
      "+-------+------+------+------+-----------+\n",
      "|Pradeep|   101| 10000|   101|         IT|\n",
      "|  Nijan|   102| 20000|   102|    Finance|\n",
      "|    Sai|   105| 25000|   105|   Software|\n",
      "|  Saran|   108| 15000|   108|Electronics|\n",
      "+-------+------+------+------+-----------+\n",
      "\n"
     ]
    }
   ],
   "source": [
    "# full join\n",
    "df_emp.join(df_dept,df_emp.deptid == df_dept.deptid,'full').show()"
   ]
  },
  {
   "cell_type": "code",
   "execution_count": 76,
   "id": "1c8fe520-6b5a-4e5b-ba00-6e1ad9c0e4d2",
   "metadata": {},
   "outputs": [
    {
     "name": "stdout",
     "output_type": "stream",
     "text": [
      "+-------+------+------+------+-----------+\n",
      "|   name|deptid|salary|deptid|      dname|\n",
      "+-------+------+------+------+-----------+\n",
      "|Pradeep|   101| 10000|   101|         IT|\n",
      "|  Nijan|   102| 20000|   102|    Finance|\n",
      "|    Sai|   105| 25000|   105|   Software|\n",
      "|  Saran|   108| 15000|   108|Electronics|\n",
      "+-------+------+------+------+-----------+\n",
      "\n"
     ]
    }
   ],
   "source": [
    "df_emp.join(df_dept,df_emp.deptid == df_dept.deptid,'cross').show()"
   ]
  },
  {
   "cell_type": "code",
   "execution_count": 77,
   "id": "250f72d0-0844-4270-bee2-b078aa7caf5b",
   "metadata": {},
   "outputs": [
    {
     "name": "stdout",
     "output_type": "stream",
     "text": [
      "+----+------+------+\n",
      "|name|deptid|salary|\n",
      "+----+------+------+\n",
      "+----+------+------+\n",
      "\n"
     ]
    }
   ],
   "source": [
    "df_emp.join(df_dept,df_emp.deptid == df_dept.deptid,'leftanti').show()"
   ]
  },
  {
   "cell_type": "code",
   "execution_count": 79,
   "id": "034818e0-62ac-4305-8b2a-e7f019642fd9",
   "metadata": {},
   "outputs": [
    {
     "name": "stdout",
     "output_type": "stream",
     "text": [
      "+-------+------+------+------+-----------+\n",
      "|   name|deptid|salary|deptid|      dname|\n",
      "+-------+------+------+------+-----------+\n",
      "|Pradeep|   101| 10000|   101|         IT|\n",
      "|  Nijan|   102| 20000|   102|    Finance|\n",
      "|    Sai|   105| 25000|   105|   Software|\n",
      "|  Saran|   108| 15000|   108|Electronics|\n",
      "+-------+------+------+------+-----------+\n",
      "\n"
     ]
    }
   ],
   "source": [
    "df_emp.join(df_dept,df_emp.deptid == df_dept.deptid,'rightouter').show()"
   ]
  },
  {
   "cell_type": "code",
   "execution_count": 80,
   "id": "d43ab7b4-e2eb-40b4-811b-f7dd8a521ffb",
   "metadata": {},
   "outputs": [
    {
     "name": "stdout",
     "output_type": "stream",
     "text": [
      "+-------+------+------+\n",
      "|   name|deptid|salary|\n",
      "+-------+------+------+\n",
      "|Pradeep|   101| 10000|\n",
      "|  Nijan|   102| 20000|\n",
      "|    Sai|   105| 25000|\n",
      "|  Saran|   108| 15000|\n",
      "+-------+------+------+\n",
      "\n"
     ]
    }
   ],
   "source": [
    "df_emp.join(df_dept,df_emp.deptid == df_dept.deptid,'leftsemi').show()"
   ]
  },
  {
   "cell_type": "code",
   "execution_count": 82,
   "id": "eed4f7f4-b1f9-43ee-9779-e15fe423bd09",
   "metadata": {},
   "outputs": [
    {
     "name": "stderr",
     "output_type": "stream",
     "text": [
      "[Stage 118:=============================================>         (32 + 7) / 39]\r"
     ]
    },
    {
     "name": "stdout",
     "output_type": "stream",
     "text": [
      "+-------+------+------+------+-----------+\n",
      "|   name|deptid|salary|deptid|      dname|\n",
      "+-------+------+------+------+-----------+\n",
      "|Pradeep|   101| 10000|   101|         IT|\n",
      "|Pradeep|   101| 10000|   102|    Finance|\n",
      "|Pradeep|   101| 10000|   105|   Software|\n",
      "|Pradeep|   101| 10000|   108|Electronics|\n",
      "|  Nijan|   102| 20000|   101|         IT|\n",
      "|  Nijan|   102| 20000|   102|    Finance|\n",
      "|  Nijan|   102| 20000|   105|   Software|\n",
      "|  Nijan|   102| 20000|   108|Electronics|\n",
      "|    Sai|   105| 25000|   101|         IT|\n",
      "|    Sai|   105| 25000|   102|    Finance|\n",
      "|    Sai|   105| 25000|   105|   Software|\n",
      "|    Sai|   105| 25000|   108|Electronics|\n",
      "|  Saran|   108| 15000|   101|         IT|\n",
      "|  Saran|   108| 15000|   102|    Finance|\n",
      "|  Saran|   108| 15000|   105|   Software|\n",
      "|  Saran|   108| 15000|   108|Electronics|\n",
      "+-------+------+------+------+-----------+\n",
      "\n"
     ]
    },
    {
     "name": "stderr",
     "output_type": "stream",
     "text": [
      "                                                                                \r"
     ]
    }
   ],
   "source": [
    "df_emp.crossJoin(df_dept).show()"
   ]
  },
  {
   "cell_type": "code",
   "execution_count": 86,
   "id": "e0d104a1-02e5-4c47-a917-a1d897273fc4",
   "metadata": {
    "scrolled": true
   },
   "outputs": [
    {
     "name": "stdout",
     "output_type": "stream",
     "text": [
      "Help on function col in module pyspark.sql.functions:\n",
      "\n",
      "col(col: str) -> pyspark.sql.column.Column\n",
      "    Returns a :class:`~pyspark.sql.Column` based on the given column name.\n",
      "    \n",
      "    .. versionadded:: 1.3.0\n",
      "    \n",
      "    .. versionchanged:: 3.4.0\n",
      "        Supports Spark Connect.\n",
      "    \n",
      "    Parameters\n",
      "    ----------\n",
      "    col : str\n",
      "        the name for the column\n",
      "    \n",
      "    Returns\n",
      "    -------\n",
      "    :class:`~pyspark.sql.Column`\n",
      "        the corresponding column instance.\n",
      "    \n",
      "    Examples\n",
      "    --------\n",
      "    >>> col('x')\n",
      "    Column<'x'>\n",
      "    >>> column('x')\n",
      "    Column<'x'>\n",
      "\n"
     ]
    }
   ],
   "source": [
    "# self join using col\n",
    "from pyspark.sql.functions import col\n",
    "help(col)"
   ]
  },
  {
   "cell_type": "code",
   "execution_count": 87,
   "id": "354179f3-7a0e-462b-ac88-a008c3c27734",
   "metadata": {},
   "outputs": [
    {
     "name": "stdout",
     "output_type": "stream",
     "text": [
      "+-------+------+------+------+-----------+\n",
      "|   name|deptid|salary|deptid|      dname|\n",
      "+-------+------+------+------+-----------+\n",
      "|Pradeep|   101| 10000|   101|         IT|\n",
      "|  Nijan|   102| 20000|   102|    Finance|\n",
      "|    Sai|   105| 25000|   105|   Software|\n",
      "|  Saran|   108| 15000|   108|Electronics|\n",
      "+-------+------+------+------+-----------+\n",
      "\n"
     ]
    },
    {
     "name": "stderr",
     "output_type": "stream",
     "text": [
      "                                                                                \r"
     ]
    }
   ],
   "source": [
    "df_emp.alias('emp').join(df_dept.alias('dept'),col('emp.deptid') == col('dept.deptid'),'inner').show()"
   ]
  },
  {
   "cell_type": "code",
   "execution_count": 92,
   "id": "3133aa00-5012-4e72-97d6-042ee6d6ee02",
   "metadata": {},
   "outputs": [
    {
     "name": "stdout",
     "output_type": "stream",
     "text": [
      "+----------+-------------+--------------+--------+--------+------+\n",
      "|orditem_id|orditem_ordid|orditem_prodid|quantity|subtotal| price|\n",
      "+----------+-------------+--------------+--------+--------+------+\n",
      "|         1|            1|           957|       1|  299.98|299.98|\n",
      "|         2|            2|          1073|       1|  199.99|199.99|\n",
      "|         3|            2|           502|       5|   250.0|  50.0|\n",
      "|         4|            2|           403|       1|  129.99|129.99|\n",
      "|         5|            4|           897|       2|   49.98| 24.99|\n",
      "|         6|            4|           365|       5|  299.95| 59.99|\n",
      "|         7|            4|           502|       3|   150.0|  50.0|\n",
      "|         8|            4|          1014|       4|  199.92| 49.98|\n",
      "|         9|            5|           957|       1|  299.98|299.98|\n",
      "|        10|            5|           365|       5|  299.95| 59.99|\n",
      "|        11|            5|          1014|       2|   99.96| 49.98|\n",
      "|        12|            5|           957|       1|  299.98|299.98|\n",
      "|        13|            5|           403|       1|  129.99|129.99|\n",
      "|        14|            7|          1073|       1|  199.99|199.99|\n",
      "|        15|            7|           957|       1|  299.98|299.98|\n",
      "|        16|            7|           926|       5|   79.95| 15.99|\n",
      "|        17|            8|           365|       3|  179.97| 59.99|\n",
      "|        18|            8|           365|       5|  299.95| 59.99|\n",
      "|        19|            8|          1014|       4|  199.92| 49.98|\n",
      "|        20|            8|           502|       1|    50.0|  50.0|\n",
      "+----------+-------------+--------------+--------+--------+------+\n",
      "only showing top 20 rows\n",
      "\n"
     ]
    }
   ],
   "source": [
    "# aggregations in pyspark\n",
    "\n",
    "orditems = spark.read.load('Datasets/Order_items/part-00000',sep=',',format='csv',schema=('orditem_id int,orditem_ordid int,orditem_prodid int,quantity int,subtotal float,price float'))\n",
    "orditems.show()\n"
   ]
  },
  {
   "cell_type": "code",
   "execution_count": 94,
   "id": "3f1daa2b-0dcb-4488-8c4e-d738ebd3061a",
   "metadata": {},
   "outputs": [
    {
     "name": "stderr",
     "output_type": "stream",
     "text": [
      "24/01/11 12:24:13 WARN SparkStringUtils: Truncated the string representation of a plan since it was too large. This behavior can be adjusted by setting 'spark.sql.debug.maxToStringFields'.\n",
      "[Stage 131:============================>                            (1 + 1) / 2]\r"
     ]
    },
    {
     "name": "stdout",
     "output_type": "stream",
     "text": [
      "+-------+-----------------+------------------+-----------------+------------------+------------------+------------------+\n",
      "|summary|       orditem_id|     orditem_ordid|   orditem_prodid|          quantity|          subtotal|             price|\n",
      "+-------+-----------------+------------------+-----------------+------------------+------------------+------------------+\n",
      "|  count|           172198|            172198|           172198|            172198|            172198|            172198|\n",
      "|   mean|          86099.5| 34442.56682423721|660.4877176273824|2.1821275508426345|199.32066922046081|133.75906959048717|\n",
      "| stddev|49709.42516431533|19883.325171992343| 310.514472790008|1.4663523175387134|112.74303987146804|118.55893633258484|\n",
      "|    min|                1|                 1|               19|                 1|              9.99|              9.99|\n",
      "|    25%|            43033|             17204|              403|                 1|            119.98|              50.0|\n",
      "|    50%|            86085|             34464|              627|                 1|            199.92|             59.99|\n",
      "|    75%|           129134|             51682|             1004|                 3|            299.95|            199.99|\n",
      "|    max|           172198|             68883|             1073|                 5|           1999.99|           1999.99|\n",
      "+-------+-----------------+------------------+-----------------+------------------+------------------+------------------+\n",
      "\n"
     ]
    },
    {
     "name": "stderr",
     "output_type": "stream",
     "text": [
      "                                                                                \r"
     ]
    }
   ],
   "source": [
    "orditems.summary().show()"
   ]
  },
  {
   "cell_type": "code",
   "execution_count": 95,
   "id": "6e24f6cd-417d-453a-8a6f-d8e31ff37282",
   "metadata": {},
   "outputs": [
    {
     "name": "stdout",
     "output_type": "stream",
     "text": [
      "+------+\n",
      "| price|\n",
      "+------+\n",
      "|299.98|\n",
      "|199.99|\n",
      "|  50.0|\n",
      "|129.99|\n",
      "| 24.99|\n",
      "| 59.99|\n",
      "|  50.0|\n",
      "| 49.98|\n",
      "|299.98|\n",
      "| 59.99|\n",
      "| 49.98|\n",
      "|299.98|\n",
      "|129.99|\n",
      "|199.99|\n",
      "|299.98|\n",
      "| 15.99|\n",
      "| 59.99|\n",
      "| 59.99|\n",
      "| 49.98|\n",
      "|  50.0|\n",
      "+------+\n",
      "only showing top 20 rows\n",
      "\n"
     ]
    }
   ],
   "source": [
    "# avg min and max\n",
    "\n",
    "# to get the price of all items\n",
    "\n",
    "orditems.select(orditems.price).show()\n"
   ]
  },
  {
   "cell_type": "code",
   "execution_count": 101,
   "id": "a264e051-cab4-4f26-a168-1f599ddf7fdd",
   "metadata": {},
   "outputs": [],
   "source": [
    "from pyspark.sql.functions import *\n",
    "\n"
   ]
  },
  {
   "cell_type": "code",
   "execution_count": 102,
   "id": "84b211bc-44eb-44ee-91e8-b8f8e3282090",
   "metadata": {},
   "outputs": [
    {
     "name": "stdout",
     "output_type": "stream",
     "text": [
      "+----------+-------------+--------------+--------+--------+------+\n",
      "|orditem_id|orditem_ordid|orditem_prodid|quantity|subtotal| price|\n",
      "+----------+-------------+--------------+--------+--------+------+\n",
      "|         1|            1|           957|       1|  299.98|299.98|\n",
      "|         2|            2|          1073|       1|  199.99|199.99|\n",
      "|         3|            2|           502|       5|   250.0|  50.0|\n",
      "|         4|            2|           403|       1|  129.99|129.99|\n",
      "|         5|            4|           897|       2|   49.98| 24.99|\n",
      "|         6|            4|           365|       5|  299.95| 59.99|\n",
      "|         7|            4|           502|       3|   150.0|  50.0|\n",
      "|         8|            4|          1014|       4|  199.92| 49.98|\n",
      "|         9|            5|           957|       1|  299.98|299.98|\n",
      "|        10|            5|           365|       5|  299.95| 59.99|\n",
      "|        11|            5|          1014|       2|   99.96| 49.98|\n",
      "|        12|            5|           957|       1|  299.98|299.98|\n",
      "|        13|            5|           403|       1|  129.99|129.99|\n",
      "|        14|            7|          1073|       1|  199.99|199.99|\n",
      "|        15|            7|           957|       1|  299.98|299.98|\n",
      "|        16|            7|           926|       5|   79.95| 15.99|\n",
      "|        17|            8|           365|       3|  179.97| 59.99|\n",
      "|        18|            8|           365|       5|  299.95| 59.99|\n",
      "|        19|            8|          1014|       4|  199.92| 49.98|\n",
      "|        20|            8|           502|       1|    50.0|  50.0|\n",
      "+----------+-------------+--------------+--------+--------+------+\n",
      "only showing top 20 rows\n",
      "\n"
     ]
    }
   ],
   "source": [
    "orditems.show()"
   ]
  },
  {
   "cell_type": "code",
   "execution_count": 104,
   "id": "1aed9ef1-969f-474f-8af6-effed3e61ec7",
   "metadata": {},
   "outputs": [
    {
     "name": "stdout",
     "output_type": "stream",
     "text": [
      "+------------------+\n",
      "|         AVG_PRICE|\n",
      "+------------------+\n",
      "|133.75906959048717|\n",
      "+------------------+\n",
      "\n"
     ]
    }
   ],
   "source": [
    "orditems.select(avg(orditems.price).alias('AVG_PRICE')).show()"
   ]
  },
  {
   "cell_type": "code",
   "execution_count": 106,
   "id": "d7b22c58-1bb8-4b57-b995-9e568bf0f619",
   "metadata": {},
   "outputs": [
    {
     "name": "stdout",
     "output_type": "stream",
     "text": [
      "+---------+---------+--------------------+\n",
      "|MIN_PRICE|MAX_PRICE|           SUM_PRICE|\n",
      "+---------+---------+--------------------+\n",
      "|     9.99|  1999.99|2.3033044265342712E7|\n",
      "+---------+---------+--------------------+\n",
      "\n"
     ]
    }
   ],
   "source": [
    "orditems.select(min(orditems.price).alias('MIN_PRICE'),max(orditems.price).alias('MAX_PRICE'),sum(orditems.price).alias('SUM_PRICE')).show()"
   ]
  },
  {
   "cell_type": "code",
   "execution_count": 107,
   "id": "23026b03-fe94-499e-945d-8afbf08fd42a",
   "metadata": {},
   "outputs": [
    {
     "name": "stderr",
     "output_type": "stream",
     "text": [
      "/home/mahesh/.local/lib/python3.10/site-packages/pyspark/sql/functions.py:988: FutureWarning: Deprecated in 3.2, use sum_distinct instead.\n",
      "  warnings.warn(\"Deprecated in 3.2, use sum_distinct instead.\", FutureWarning)\n"
     ]
    },
    {
     "name": "stdout",
     "output_type": "stream",
     "text": [
      "+--------------------+------------------+\n",
      "|           SUM_PRICE|SUM_DISTINCT_PRICE|\n",
      "+--------------------+------------------+\n",
      "|2.3033044265342712E7|  9832.41999053955|\n",
      "+--------------------+------------------+\n",
      "\n"
     ]
    }
   ],
   "source": [
    "orditems.select(sum(orditems.price).alias('SUM_PRICE'),sumDistinct(orditems.price).alias('SUM_DISTINCT_PRICE')).show()"
   ]
  },
  {
   "cell_type": "code",
   "execution_count": 108,
   "id": "9b0eed0c-e5a4-41cd-87e8-7fb725132c1b",
   "metadata": {},
   "outputs": [
    {
     "name": "stdout",
     "output_type": "stream",
     "text": [
      "+-----------+--------------------+\n",
      "|COUNT_PRICE|COUNT_DISTINCT_PRICE|\n",
      "+-----------+--------------------+\n",
      "|     172198|                  57|\n",
      "+-----------+--------------------+\n",
      "\n"
     ]
    }
   ],
   "source": [
    "orditems.select(count(orditems.price).alias('COUNT_PRICE'),countDistinct(orditems.price).alias('COUNT_DISTINCT_PRICE')).show()"
   ]
  },
  {
   "cell_type": "code",
   "execution_count": 109,
   "id": "86db9b69-8cd9-407c-9ad6-19ba24e992ce",
   "metadata": {},
   "outputs": [
    {
     "name": "stdout",
     "output_type": "stream",
     "text": [
      "+-----------+\n",
      "|last(price)|\n",
      "+-----------+\n",
      "|    1999.99|\n",
      "+-----------+\n",
      "\n"
     ]
    }
   ],
   "source": [
    "# first and last\n",
    "orditems.sort(orditems.price.asc()).select(last(orditems.price)).show()"
   ]
  },
  {
   "cell_type": "code",
   "execution_count": 110,
   "id": "52f71fdc-919b-400f-877c-492cf655e9ac",
   "metadata": {},
   "outputs": [
    {
     "name": "stdout",
     "output_type": "stream",
     "text": [
      "+------------+\n",
      "|first(price)|\n",
      "+------------+\n",
      "|        9.99|\n",
      "+------------+\n",
      "\n"
     ]
    }
   ],
   "source": [
    "orditems.sort(orditems.price.asc()).select(first(orditems.price)).show()"
   ]
  },
  {
   "cell_type": "code",
   "execution_count": 111,
   "id": "b08b68ab-dbd3-4385-91c7-4bf2ccd01872",
   "metadata": {},
   "outputs": [
    {
     "name": "stdout",
     "output_type": "stream",
     "text": [
      "+------+---+---+---+\n",
      "|  name| m1| m2| m3|\n",
      "+------+---+---+---+\n",
      "|Mahesh| 50| 40| 45|\n",
      "| Nijan| 50| 50| 45|\n",
      "+------+---+---+---+\n",
      "\n"
     ]
    }
   ],
   "source": [
    "# collect set and collect list\n",
    "\n",
    "df_s.show()\n"
   ]
  },
  {
   "cell_type": "code",
   "execution_count": 112,
   "id": "60da0ca0-e9fb-4246-984c-47a76e38ed37",
   "metadata": {},
   "outputs": [
    {
     "name": "stdout",
     "output_type": "stream",
     "text": [
      "+----------------+---------------+\n",
      "|collect_list(m1)|collect_set(m1)|\n",
      "+----------------+---------------+\n",
      "|        [50, 50]|           [50]|\n",
      "+----------------+---------------+\n",
      "\n"
     ]
    }
   ],
   "source": [
    "df_s.select(collect_list(df_s.m1),collect_set(df_s.m1)).show()"
   ]
  },
  {
   "cell_type": "code",
   "execution_count": 116,
   "id": "ff51487d-5132-4a98-b62b-efbce7aa3304",
   "metadata": {},
   "outputs": [
    {
     "name": "stdout",
     "output_type": "stream",
     "text": [
      "+--------+--------+------+---+-----+\n",
      "|    name|    dept|salary|age|state|\n",
      "+--------+--------+------+---+-----+\n",
      "|   Nijan| Finance| 20000| 24|   TN|\n",
      "| Pradeep|Software| 25000| 25|   KA|\n",
      "|  Pravin|      IT| 15000| 23|   TS|\n",
      "| Avinash| Builder| 30000| 24|   KL|\n",
      "|  Pratap| Builder| 25000| 25|   KA|\n",
      "|    Bala|Software| 30000| 24|   TN|\n",
      "|Kirthika|      IT| 35000| 23|   KL|\n",
      "|  Mahesh| Finance| 20000| 25|   TS|\n",
      "+--------+--------+------+---+-----+\n",
      "\n"
     ]
    }
   ],
   "source": [
    "# groupby in pyspark\n",
    "\n",
    "data_g = [('Nijan','Finance',20000,24,'TN'),('Pradeep','Software',25000,25,'KA'),('Pravin','IT',15000,23,'TS'),\n",
    "         ('Avinash','Builder',30000,24,'KL'),('Pratap','Builder',25000,25,'KA'),('Bala','Software',30000,24,'TN'),\n",
    "         ('Kirthika','IT',35000,23,'KL'),('Mahesh','Finance',20000,25,'TS')]\n",
    "\n",
    "sche = ['name','dept','salary','age','state']\n",
    "\n",
    "df_agg = spark.createDataFrame(data=data_g,schema=sche)\n",
    "\n",
    "df_agg.show()\n"
   ]
  },
  {
   "cell_type": "code",
   "execution_count": 117,
   "id": "b1e0dc4b-5ea0-4446-ac5d-59074e201635",
   "metadata": {},
   "outputs": [
    {
     "name": "stdout",
     "output_type": "stream",
     "text": [
      "root\n",
      " |-- name: string (nullable = true)\n",
      " |-- dept: string (nullable = true)\n",
      " |-- salary: long (nullable = true)\n",
      " |-- age: long (nullable = true)\n",
      " |-- state: string (nullable = true)\n",
      "\n"
     ]
    }
   ],
   "source": [
    "df_agg.printSchema()"
   ]
  },
  {
   "cell_type": "code",
   "execution_count": 119,
   "id": "392dc9a1-28b0-4700-a341-dc4bca4a3a4c",
   "metadata": {},
   "outputs": [
    {
     "data": {
      "text/plain": [
       "GroupedData[grouping expressions: [dept: string], value: [name: string, dept: string ... 3 more fields], type: GroupBy]"
      ]
     },
     "execution_count": 119,
     "metadata": {},
     "output_type": "execute_result"
    }
   ],
   "source": [
    "df_agg.groupBy(df_agg.dept)"
   ]
  },
  {
   "cell_type": "code",
   "execution_count": 121,
   "id": "5c35f69b-126f-46c9-853a-17e8500583bc",
   "metadata": {},
   "outputs": [
    {
     "name": "stdout",
     "output_type": "stream",
     "text": [
      "+--------+-----------+\n",
      "|    dept|avg(salary)|\n",
      "+--------+-----------+\n",
      "| Finance|    20000.0|\n",
      "|Software|    27500.0|\n",
      "|      IT|    25000.0|\n",
      "| Builder|    27500.0|\n",
      "+--------+-----------+\n",
      "\n"
     ]
    }
   ],
   "source": [
    "# each dept avg salary\n",
    "\n",
    "df_agg.groupBy(df_agg.dept).avg('salary').show()"
   ]
  },
  {
   "cell_type": "code",
   "execution_count": 122,
   "id": "f264fd9a-91e5-4fc4-92ad-09d9d341ba61",
   "metadata": {},
   "outputs": [
    {
     "name": "stdout",
     "output_type": "stream",
     "text": [
      "+--------+-----------+\n",
      "|    dept|max(salary)|\n",
      "+--------+-----------+\n",
      "| Finance|      20000|\n",
      "|Software|      30000|\n",
      "|      IT|      35000|\n",
      "| Builder|      30000|\n",
      "+--------+-----------+\n",
      "\n"
     ]
    }
   ],
   "source": [
    "df_agg.groupBy(df_agg.dept).max('salary').show()"
   ]
  },
  {
   "cell_type": "code",
   "execution_count": 123,
   "id": "e4f9ba19-a010-483d-b5aa-44d747918307",
   "metadata": {},
   "outputs": [
    {
     "name": "stdout",
     "output_type": "stream",
     "text": [
      "+--------+-----------+\n",
      "|    dept|min(salary)|\n",
      "+--------+-----------+\n",
      "| Finance|      20000|\n",
      "|Software|      25000|\n",
      "|      IT|      15000|\n",
      "| Builder|      25000|\n",
      "+--------+-----------+\n",
      "\n"
     ]
    }
   ],
   "source": [
    "df_agg.groupBy(df_agg.dept).min('salary').show()"
   ]
  },
  {
   "cell_type": "code",
   "execution_count": 124,
   "id": "f4c61372-31c1-4794-ae2b-8c8fc99d5d36",
   "metadata": {},
   "outputs": [
    {
     "name": "stdout",
     "output_type": "stream",
     "text": [
      "+--------+-----------+\n",
      "|    dept|sum(salary)|\n",
      "+--------+-----------+\n",
      "| Finance|      40000|\n",
      "|Software|      55000|\n",
      "|      IT|      50000|\n",
      "| Builder|      55000|\n",
      "+--------+-----------+\n",
      "\n"
     ]
    }
   ],
   "source": [
    "df_agg.groupBy(df_agg.dept).sum('salary').show()"
   ]
  },
  {
   "cell_type": "code",
   "execution_count": 125,
   "id": "8810b187-0d1e-49c2-b7b7-2581d5d7387c",
   "metadata": {},
   "outputs": [
    {
     "name": "stdout",
     "output_type": "stream",
     "text": [
      "+--------+-----+-----------+\n",
      "|    dept|state|avg(salary)|\n",
      "+--------+-----+-----------+\n",
      "| Finance|   TN|    20000.0|\n",
      "|Software|   KA|    25000.0|\n",
      "|      IT|   TS|    15000.0|\n",
      "| Builder|   KL|    30000.0|\n",
      "| Builder|   KA|    25000.0|\n",
      "|Software|   TN|    30000.0|\n",
      "|      IT|   KL|    35000.0|\n",
      "| Finance|   TS|    20000.0|\n",
      "+--------+-----+-----------+\n",
      "\n"
     ]
    }
   ],
   "source": [
    "# with multiple column\n",
    "df_agg.groupBy(df_agg.dept,df_agg.state).avg('salary').show()"
   ]
  },
  {
   "cell_type": "code",
   "execution_count": 126,
   "id": "7d458c66-0841-484e-a572-5096593bde20",
   "metadata": {},
   "outputs": [
    {
     "name": "stdout",
     "output_type": "stream",
     "text": [
      "+--------+-----+-----------+\n",
      "|    dept|state|max(salary)|\n",
      "+--------+-----+-----------+\n",
      "| Finance|   TN|      20000|\n",
      "|Software|   KA|      25000|\n",
      "|      IT|   TS|      15000|\n",
      "| Builder|   KL|      30000|\n",
      "| Builder|   KA|      25000|\n",
      "|Software|   TN|      30000|\n",
      "|      IT|   KL|      35000|\n",
      "| Finance|   TS|      20000|\n",
      "+--------+-----+-----------+\n",
      "\n"
     ]
    }
   ],
   "source": [
    "df_agg.groupBy(df_agg.dept,df_agg.state).max('salary').show()"
   ]
  },
  {
   "cell_type": "code",
   "execution_count": 127,
   "id": "6c2fb72c-3e62-4b69-8a67-9f81d6191f09",
   "metadata": {},
   "outputs": [
    {
     "name": "stdout",
     "output_type": "stream",
     "text": [
      "+--------+-----+-----------+\n",
      "|    dept|state|min(salary)|\n",
      "+--------+-----+-----------+\n",
      "| Finance|   TN|      20000|\n",
      "|Software|   KA|      25000|\n",
      "|      IT|   TS|      15000|\n",
      "| Builder|   KL|      30000|\n",
      "| Builder|   KA|      25000|\n",
      "|Software|   TN|      30000|\n",
      "|      IT|   KL|      35000|\n",
      "| Finance|   TS|      20000|\n",
      "+--------+-----+-----------+\n",
      "\n"
     ]
    }
   ],
   "source": [
    "df_agg.groupBy(df_agg.dept,df_agg.state).min('salary').show()"
   ]
  },
  {
   "cell_type": "code",
   "execution_count": 131,
   "id": "d7c4bf68-1633-4b05-9479-5bb1074404a5",
   "metadata": {},
   "outputs": [
    {
     "name": "stdout",
     "output_type": "stream",
     "text": [
      "+-----+----------+----------+----------+----------+\n",
      "|state|MIN_SALARY|MAX_SALARY|AVG_SALARY|SUM_SALARY|\n",
      "+-----+----------+----------+----------+----------+\n",
      "|   TN|     20000|     30000|   25000.0|     50000|\n",
      "|   KA|     25000|     25000|   25000.0|     50000|\n",
      "|   TS|     15000|     20000|   17500.0|     35000|\n",
      "|   KL|     30000|     35000|   32500.0|     65000|\n",
      "+-----+----------+----------+----------+----------+\n",
      "\n"
     ]
    }
   ],
   "source": [
    "df_agg.groupBy(df_agg.state).agg(min('salary').alias('MIN_SALARY'),\n",
    "                               max('salary').alias('MAX_SALARY'),\n",
    "                               avg('salary').alias('AVG_SALARY'),\n",
    "                               sum('salary').alias('SUM_SALARY'),).show()"
   ]
  },
  {
   "cell_type": "code",
   "execution_count": 132,
   "id": "3abeafa4-ccca-45e1-8256-448e4dcd9973",
   "metadata": {},
   "outputs": [
    {
     "name": "stdout",
     "output_type": "stream",
     "text": [
      "+--------+----------+----------+----------+----------+\n",
      "|    dept|MIN_SALARY|MAX_SALARY|AVG_SALARY|SUM_SALARY|\n",
      "+--------+----------+----------+----------+----------+\n",
      "| Finance|     20000|     20000|   20000.0|     40000|\n",
      "|Software|     25000|     30000|   27500.0|     55000|\n",
      "|      IT|     15000|     35000|   25000.0|     50000|\n",
      "| Builder|     25000|     30000|   27500.0|     55000|\n",
      "+--------+----------+----------+----------+----------+\n",
      "\n"
     ]
    }
   ],
   "source": [
    "df_agg.groupBy(df_agg.dept).agg(min('salary').alias('MIN_SALARY'),\n",
    "                               max('salary').alias('MAX_SALARY'),\n",
    "                               avg('salary').alias('AVG_SALARY'),\n",
    "                               sum('salary').alias('SUM_SALARY'),).show()"
   ]
  },
  {
   "cell_type": "code",
   "execution_count": 165,
   "id": "be1c4fa1-8877-444f-9dcc-5c6b6d846ae5",
   "metadata": {},
   "outputs": [
    {
     "name": "stdout",
     "output_type": "stream",
     "text": [
      "+--------+-----+------+\n",
      "|    dept|state|salary|\n",
      "+--------+-----+------+\n",
      "| Finance|   TN| 20000|\n",
      "|Software|   KA| 25000|\n",
      "|      IT|   TS| 15000|\n",
      "| Builder|   KL| 30000|\n",
      "| Builder|   KA| 25000|\n",
      "|Software|   TN| 30000|\n",
      "|      IT|   KL| 35000|\n",
      "| Finance|   TS| 20000|\n",
      "+--------+-----+------+\n",
      "\n"
     ]
    }
   ],
   "source": [
    "# pivot and unpivot data\n",
    "agg1 = df_agg.select(df_agg.dept,df_agg.state,df_agg.salary)\n",
    "agg1.show()"
   ]
  },
  {
   "cell_type": "code",
   "execution_count": 166,
   "id": "31e89d76-e089-409b-9543-75f87eafbd5c",
   "metadata": {},
   "outputs": [],
   "source": [
    "agg2 = agg1.groupBy(agg1.dept,agg1.state).sum('salary').alias('SALARY_SUM')\n",
    "\n"
   ]
  },
  {
   "cell_type": "code",
   "execution_count": 167,
   "id": "a4478446-e741-4ff9-b958-a7fcaf845cfb",
   "metadata": {},
   "outputs": [
    {
     "name": "stdout",
     "output_type": "stream",
     "text": [
      "+--------+-----+-----------+\n",
      "|    dept|state|sum(salary)|\n",
      "+--------+-----+-----------+\n",
      "| Finance|   TN|      20000|\n",
      "|Software|   KA|      25000|\n",
      "|      IT|   TS|      15000|\n",
      "| Builder|   KL|      30000|\n",
      "| Builder|   KA|      25000|\n",
      "|Software|   TN|      30000|\n",
      "|      IT|   KL|      35000|\n",
      "| Finance|   TS|      20000|\n",
      "+--------+-----+-----------+\n",
      "\n"
     ]
    }
   ],
   "source": [
    "agg2.show()"
   ]
  },
  {
   "cell_type": "code",
   "execution_count": 169,
   "id": "5f348020-a64a-4035-baa8-35c69dc05620",
   "metadata": {},
   "outputs": [],
   "source": [
    "agg3 = agg2.groupBy(agg1.dept).pivot('state').sum('sum(salary)')\n"
   ]
  },
  {
   "cell_type": "code",
   "execution_count": 170,
   "id": "4fb51133-a912-4cd6-a69a-5e1ca6c9ddd8",
   "metadata": {},
   "outputs": [
    {
     "name": "stdout",
     "output_type": "stream",
     "text": [
      "+--------+-----+-----+-----+-----+\n",
      "|    dept|   KA|   KL|   TN|   TS|\n",
      "+--------+-----+-----+-----+-----+\n",
      "| Builder|25000|30000| NULL| NULL|\n",
      "| Finance| NULL| NULL|20000|20000|\n",
      "|      IT| NULL|35000| NULL|15000|\n",
      "|Software|25000| NULL|30000| NULL|\n",
      "+--------+-----+-----+-----+-----+\n",
      "\n"
     ]
    }
   ],
   "source": [
    "# unoivot the data\n",
    "agg3.show()\n"
   ]
  },
  {
   "cell_type": "code",
   "execution_count": 172,
   "id": "4cb8f991-4e6b-43ea-b3fa-7e60388868a9",
   "metadata": {},
   "outputs": [],
   "source": [
    "agg3.createOrReplaceTempView('agg_p')\n"
   ]
  },
  {
   "cell_type": "code",
   "execution_count": 173,
   "id": "cf550481-e4f2-4f64-8469-318c7a8ac8d4",
   "metadata": {},
   "outputs": [
    {
     "name": "stdout",
     "output_type": "stream",
     "text": [
      "+--------+-----+-----+-----+-----+\n",
      "|    dept|   KA|   KL|   TN|   TS|\n",
      "+--------+-----+-----+-----+-----+\n",
      "| Builder|25000|30000| NULL| NULL|\n",
      "| Finance| NULL| NULL|20000|20000|\n",
      "|      IT| NULL|35000| NULL|15000|\n",
      "|Software|25000| NULL|30000| NULL|\n",
      "+--------+-----+-----+-----+-----+\n",
      "\n"
     ]
    }
   ],
   "source": [
    "# to implement unpivot in agg3\n",
    "\n",
    "spark.sql(\"\"\" select * from agg_p \"\"\").show()"
   ]
  },
  {
   "cell_type": "code",
   "execution_count": 175,
   "id": "e356610a-a6e6-4b19-8a7b-e0c679ef9b91",
   "metadata": {},
   "outputs": [
    {
     "name": "stdout",
     "output_type": "stream",
     "text": [
      "+--------+-----+------+\n",
      "|    dept|state|salary|\n",
      "+--------+-----+------+\n",
      "| Builder|   KA| 25000|\n",
      "| Builder|   KL| 30000|\n",
      "| Builder|   TN|  NULL|\n",
      "| Builder|   TS|  NULL|\n",
      "| Finance|   KA|  NULL|\n",
      "| Finance|   KL|  NULL|\n",
      "| Finance|   TN| 20000|\n",
      "| Finance|   TS| 20000|\n",
      "|      IT|   KA|  NULL|\n",
      "|      IT|   KL| 35000|\n",
      "|      IT|   TN|  NULL|\n",
      "|      IT|   TS| 15000|\n",
      "|Software|   KA| 25000|\n",
      "|Software|   KL|  NULL|\n",
      "|Software|   TN| 30000|\n",
      "|Software|   TS|  NULL|\n",
      "+--------+-----+------+\n",
      "\n"
     ]
    }
   ],
   "source": [
    "spark.sql(\"\"\" select dept,stack(4,'KA',KA,'KL',KL,'TN',TN,'TS',TS) as (state,salary) from agg_p \"\"\").show()"
   ]
  },
  {
   "cell_type": "code",
   "execution_count": 178,
   "id": "8cfba24b-c64f-432c-8a3b-4c647390f0cf",
   "metadata": {},
   "outputs": [
    {
     "name": "stdout",
     "output_type": "stream",
     "text": [
      "+--------+-----+------+\n",
      "|    dept|state|salary|\n",
      "+--------+-----+------+\n",
      "| Builder|   KA| 25000|\n",
      "| Builder|   KL| 30000|\n",
      "| Builder|   TN|  NULL|\n",
      "| Builder|   TS|  NULL|\n",
      "| Finance|   KA|  NULL|\n",
      "| Finance|   KL|  NULL|\n",
      "| Finance|   TN| 20000|\n",
      "| Finance|   TS| 20000|\n",
      "|      IT|   KA|  NULL|\n",
      "|      IT|   KL| 35000|\n",
      "|      IT|   TN|  NULL|\n",
      "|      IT|   TS| 15000|\n",
      "|Software|   KA| 25000|\n",
      "|Software|   KL|  NULL|\n",
      "|Software|   TN| 30000|\n",
      "|Software|   TS|  NULL|\n",
      "+--------+-----+------+\n",
      "\n"
     ]
    }
   ],
   "source": [
    "# another way to create is SelectExpr\n",
    "\n",
    "agg3.selectExpr(\"dept\",\"stack(4,'KA',KA,'KL',KL,'TN',TN,'TS',TS) as (state,salary)\").show()"
   ]
  },
  {
   "cell_type": "code",
   "execution_count": 179,
   "id": "c8a30345-a020-447f-b600-b2839d5e30cf",
   "metadata": {},
   "outputs": [
    {
     "name": "stdout",
     "output_type": "stream",
     "text": [
      "SQL Window Functions Imported\n"
     ]
    }
   ],
   "source": [
    "# window function in DataFrame API\n",
    "\n",
    "from pyspark.sql.window import *\n",
    "\n",
    "print('SQL Window Functions Imported')\n",
    "\n",
    "\n"
   ]
  },
  {
   "cell_type": "code",
   "execution_count": 180,
   "id": "f1984282-248e-4876-bfa9-3823c0ef5884",
   "metadata": {},
   "outputs": [
    {
     "name": "stdout",
     "output_type": "stream",
     "text": [
      "Help on class Window in module pyspark.sql.window:\n",
      "\n",
      "class Window(builtins.object)\n",
      " |  Utility functions for defining window in DataFrames.\n",
      " |  \n",
      " |  .. versionadded:: 1.4.0\n",
      " |  \n",
      " |  .. versionchanged:: 3.4.0\n",
      " |      Supports Spark Connect.\n",
      " |  \n",
      " |  Notes\n",
      " |  -----\n",
      " |  When ordering is not defined, an unbounded window frame (rowFrame,\n",
      " |  unboundedPreceding, unboundedFollowing) is used by default. When ordering is defined,\n",
      " |  a growing window frame (rangeFrame, unboundedPreceding, currentRow) is used by default.\n",
      " |  \n",
      " |  Examples\n",
      " |  --------\n",
      " |  >>> # ORDER BY date ROWS BETWEEN UNBOUNDED PRECEDING AND CURRENT ROW\n",
      " |  >>> window = Window.orderBy(\"date\").rowsBetween(Window.unboundedPreceding, Window.currentRow)\n",
      " |  \n",
      " |  >>> # PARTITION BY country ORDER BY date RANGE BETWEEN 3 PRECEDING AND 3 FOLLOWING\n",
      " |  >>> window = Window.orderBy(\"date\").partitionBy(\"country\").rangeBetween(-3, 3)\n",
      " |  \n",
      " |  Static methods defined here:\n",
      " |  \n",
      " |  orderBy(*cols: Union[ForwardRef('ColumnOrName'), List[ForwardRef('ColumnOrName_')]]) -> 'WindowSpec'\n",
      " |      Creates a :class:`WindowSpec` with the ordering defined.\n",
      " |      \n",
      " |      .. versionadded:: 1.4.0\n",
      " |      \n",
      " |      Parameters\n",
      " |      ----------\n",
      " |      cols : str, :class:`Column` or list\n",
      " |          names of columns or expressions\n",
      " |      \n",
      " |      Returns\n",
      " |      -------\n",
      " |      :class: `WindowSpec`\n",
      " |          A :class:`WindowSpec` with the ordering defined.\n",
      " |      \n",
      " |      Examples\n",
      " |      --------\n",
      " |      >>> from pyspark.sql import Window\n",
      " |      >>> from pyspark.sql.functions import row_number\n",
      " |      >>> df = spark.createDataFrame(\n",
      " |      ...      [(1, \"a\"), (1, \"a\"), (2, \"a\"), (1, \"b\"), (2, \"b\"), (3, \"b\")], [\"id\", \"category\"])\n",
      " |      >>> df.show()\n",
      " |      +---+--------+\n",
      " |      | id|category|\n",
      " |      +---+--------+\n",
      " |      |  1|       a|\n",
      " |      |  1|       a|\n",
      " |      |  2|       a|\n",
      " |      |  1|       b|\n",
      " |      |  2|       b|\n",
      " |      |  3|       b|\n",
      " |      +---+--------+\n",
      " |      \n",
      " |      Show row number order by ``category`` in partition ``id``.\n",
      " |      \n",
      " |      >>> window = Window.partitionBy(\"id\").orderBy(\"category\")\n",
      " |      >>> df.withColumn(\"row_number\", row_number().over(window)).show()\n",
      " |      +---+--------+----------+\n",
      " |      | id|category|row_number|\n",
      " |      +---+--------+----------+\n",
      " |      |  1|       a|         1|\n",
      " |      |  1|       a|         2|\n",
      " |      |  1|       b|         3|\n",
      " |      |  2|       a|         1|\n",
      " |      |  2|       b|         2|\n",
      " |      |  3|       b|         1|\n",
      " |      +---+--------+----------+\n",
      " |  \n",
      " |  partitionBy(*cols: Union[ForwardRef('ColumnOrName'), List[ForwardRef('ColumnOrName_')]]) -> 'WindowSpec'\n",
      " |      Creates a :class:`WindowSpec` with the partitioning defined.\n",
      " |      \n",
      " |      .. versionadded:: 1.4.0\n",
      " |      \n",
      " |      Parameters\n",
      " |      ----------\n",
      " |      cols : str, :class:`Column` or list\n",
      " |          names of columns or expressions\n",
      " |      \n",
      " |      Returns\n",
      " |      -------\n",
      " |      :class: `WindowSpec`\n",
      " |          A :class:`WindowSpec` with the partitioning defined.\n",
      " |      \n",
      " |      Examples\n",
      " |      --------\n",
      " |      >>> from pyspark.sql import Window\n",
      " |      >>> from pyspark.sql.functions import row_number\n",
      " |      >>> df = spark.createDataFrame(\n",
      " |      ...      [(1, \"a\"), (1, \"a\"), (2, \"a\"), (1, \"b\"), (2, \"b\"), (3, \"b\")], [\"id\", \"category\"])\n",
      " |      >>> df.show()\n",
      " |      +---+--------+\n",
      " |      | id|category|\n",
      " |      +---+--------+\n",
      " |      |  1|       a|\n",
      " |      |  1|       a|\n",
      " |      |  2|       a|\n",
      " |      |  1|       b|\n",
      " |      |  2|       b|\n",
      " |      |  3|       b|\n",
      " |      +---+--------+\n",
      " |      \n",
      " |      Show row number order by ``id`` in partition ``category``.\n",
      " |      \n",
      " |      >>> window = Window.partitionBy(\"category\").orderBy(\"id\")\n",
      " |      >>> df.withColumn(\"row_number\", row_number().over(window)).show()\n",
      " |      +---+--------+----------+\n",
      " |      | id|category|row_number|\n",
      " |      +---+--------+----------+\n",
      " |      |  1|       a|         1|\n",
      " |      |  1|       a|         2|\n",
      " |      |  2|       a|         3|\n",
      " |      |  1|       b|         1|\n",
      " |      |  2|       b|         2|\n",
      " |      |  3|       b|         3|\n",
      " |      +---+--------+----------+\n",
      " |  \n",
      " |  rangeBetween(start: int, end: int) -> 'WindowSpec'\n",
      " |      Creates a :class:`WindowSpec` with the frame boundaries defined,\n",
      " |      from `start` (inclusive) to `end` (inclusive).\n",
      " |      \n",
      " |      Both `start` and `end` are relative from the current row. For example,\n",
      " |      \"0\" means \"current row\", while \"-1\" means one off before the current row,\n",
      " |      and \"5\" means the five off after the current row.\n",
      " |      \n",
      " |      We recommend users use ``Window.unboundedPreceding``, ``Window.unboundedFollowing``,\n",
      " |      and ``Window.currentRow`` to specify special boundary values, rather than using integral\n",
      " |      values directly.\n",
      " |      \n",
      " |      A range-based boundary is based on the actual value of the ORDER BY\n",
      " |      expression(s). An offset is used to alter the value of the ORDER BY expression, for\n",
      " |      instance if the current ORDER BY expression has a value of 10 and the lower bound offset\n",
      " |      is -3, the resulting lower bound for the current row will be 10 - 3 = 7. This however puts a\n",
      " |      number of constraints on the ORDER BY expressions: there can be only one expression and this\n",
      " |      expression must have a numerical data type. An exception can be made when the offset is\n",
      " |      unbounded, because no value modification is needed, in this case multiple and non-numeric\n",
      " |      ORDER BY expression are allowed.\n",
      " |      \n",
      " |      .. versionadded:: 2.1.0\n",
      " |      \n",
      " |      Parameters\n",
      " |      ----------\n",
      " |      start : int\n",
      " |          boundary start, inclusive.\n",
      " |          The frame is unbounded if this is ``Window.unboundedPreceding``, or\n",
      " |          any value less than or equal to max(-sys.maxsize, -9223372036854775808).\n",
      " |      end : int\n",
      " |          boundary end, inclusive.\n",
      " |          The frame is unbounded if this is ``Window.unboundedFollowing``, or\n",
      " |          any value greater than or equal to min(sys.maxsize, 9223372036854775807).\n",
      " |      \n",
      " |      Returns\n",
      " |      -------\n",
      " |      :class: `WindowSpec`\n",
      " |          A :class:`WindowSpec` with the frame boundaries defined,\n",
      " |          from `start` (inclusive) to `end` (inclusive).\n",
      " |      \n",
      " |      Examples\n",
      " |      --------\n",
      " |      >>> from pyspark.sql import Window\n",
      " |      >>> from pyspark.sql import functions as func\n",
      " |      >>> df = spark.createDataFrame(\n",
      " |      ...      [(1, \"a\"), (1, \"a\"), (2, \"a\"), (1, \"b\"), (2, \"b\"), (3, \"b\")], [\"id\", \"category\"])\n",
      " |      >>> df.show()\n",
      " |      +---+--------+\n",
      " |      | id|category|\n",
      " |      +---+--------+\n",
      " |      |  1|       a|\n",
      " |      |  1|       a|\n",
      " |      |  2|       a|\n",
      " |      |  1|       b|\n",
      " |      |  2|       b|\n",
      " |      |  3|       b|\n",
      " |      +---+--------+\n",
      " |      \n",
      " |      Calculate sum of ``id`` in the range from ``id`` of currentRow to ``id`` of currentRow + 1\n",
      " |      in partition ``category``\n",
      " |      \n",
      " |      >>> window = Window.partitionBy(\"category\").orderBy(\"id\").rangeBetween(Window.currentRow, 1)\n",
      " |      >>> df.withColumn(\"sum\", func.sum(\"id\").over(window)).sort(\"id\", \"category\").show()\n",
      " |      +---+--------+---+\n",
      " |      | id|category|sum|\n",
      " |      +---+--------+---+\n",
      " |      |  1|       a|  4|\n",
      " |      |  1|       a|  4|\n",
      " |      |  1|       b|  3|\n",
      " |      |  2|       a|  2|\n",
      " |      |  2|       b|  5|\n",
      " |      |  3|       b|  3|\n",
      " |      +---+--------+---+\n",
      " |  \n",
      " |  rowsBetween(start: int, end: int) -> 'WindowSpec'\n",
      " |      Creates a :class:`WindowSpec` with the frame boundaries defined,\n",
      " |      from `start` (inclusive) to `end` (inclusive).\n",
      " |      \n",
      " |      Both `start` and `end` are relative positions from the current row.\n",
      " |      For example, \"0\" means \"current row\", while \"-1\" means the row before\n",
      " |      the current row, and \"5\" means the fifth row after the current row.\n",
      " |      \n",
      " |      We recommend users use ``Window.unboundedPreceding``, ``Window.unboundedFollowing``,\n",
      " |      and ``Window.currentRow`` to specify special boundary values, rather than using integral\n",
      " |      values directly.\n",
      " |      \n",
      " |      A row based boundary is based on the position of the row within the partition.\n",
      " |      An offset indicates the number of rows above or below the current row, the frame for the\n",
      " |      current row starts or ends. For instance, given a row based sliding frame with a lower bound\n",
      " |      offset of -1 and a upper bound offset of +2. The frame for row with index 5 would range from\n",
      " |      index 4 to index 7.\n",
      " |      \n",
      " |      .. versionadded:: 2.1.0\n",
      " |      \n",
      " |      Parameters\n",
      " |      ----------\n",
      " |      start : int\n",
      " |          boundary start, inclusive.\n",
      " |          The frame is unbounded if this is ``Window.unboundedPreceding``, or\n",
      " |          any value less than or equal to -9223372036854775808.\n",
      " |      end : int\n",
      " |          boundary end, inclusive.\n",
      " |          The frame is unbounded if this is ``Window.unboundedFollowing``, or\n",
      " |          any value greater than or equal to 9223372036854775807.\n",
      " |      \n",
      " |      Returns\n",
      " |      -------\n",
      " |      :class: `WindowSpec`\n",
      " |          A :class:`WindowSpec` with the frame boundaries defined,\n",
      " |          from `start` (inclusive) to `end` (inclusive).\n",
      " |      \n",
      " |      Examples\n",
      " |      --------\n",
      " |      >>> from pyspark.sql import Window\n",
      " |      >>> from pyspark.sql import functions as func\n",
      " |      >>> df = spark.createDataFrame(\n",
      " |      ...      [(1, \"a\"), (1, \"a\"), (2, \"a\"), (1, \"b\"), (2, \"b\"), (3, \"b\")], [\"id\", \"category\"])\n",
      " |      >>> df.show()\n",
      " |      +---+--------+\n",
      " |      | id|category|\n",
      " |      +---+--------+\n",
      " |      |  1|       a|\n",
      " |      |  1|       a|\n",
      " |      |  2|       a|\n",
      " |      |  1|       b|\n",
      " |      |  2|       b|\n",
      " |      |  3|       b|\n",
      " |      +---+--------+\n",
      " |      \n",
      " |      Calculate sum of ``id`` in the range from currentRow to currentRow + 1\n",
      " |      in partition ``category``\n",
      " |      \n",
      " |      >>> window = Window.partitionBy(\"category\").orderBy(\"id\").rowsBetween(Window.currentRow, 1)\n",
      " |      >>> df.withColumn(\"sum\", func.sum(\"id\").over(window)).sort(\"id\", \"category\", \"sum\").show()\n",
      " |      +---+--------+---+\n",
      " |      | id|category|sum|\n",
      " |      +---+--------+---+\n",
      " |      |  1|       a|  2|\n",
      " |      |  1|       a|  3|\n",
      " |      |  1|       b|  3|\n",
      " |      |  2|       a|  2|\n",
      " |      |  2|       b|  5|\n",
      " |      |  3|       b|  3|\n",
      " |      +---+--------+---+\n",
      " |  \n",
      " |  ----------------------------------------------------------------------\n",
      " |  Data descriptors defined here:\n",
      " |  \n",
      " |  __dict__\n",
      " |      dictionary for instance variables (if defined)\n",
      " |  \n",
      " |  __weakref__\n",
      " |      list of weak references to the object (if defined)\n",
      " |  \n",
      " |  ----------------------------------------------------------------------\n",
      " |  Data and other attributes defined here:\n",
      " |  \n",
      " |  __annotations__ = {'currentRow': <class 'int'>, 'unboundedFollowing': ...\n",
      " |  \n",
      " |  currentRow = 0\n",
      " |  \n",
      " |  unboundedFollowing = 9223372036854775807\n",
      " |  \n",
      " |  unboundedPreceding = -9223372036854775808\n",
      "\n"
     ]
    }
   ],
   "source": [
    "help(Window)"
   ]
  },
  {
   "cell_type": "code",
   "execution_count": 181,
   "id": "fb9f5224-fb27-41b8-84d8-b0c622308156",
   "metadata": {},
   "outputs": [
    {
     "name": "stdout",
     "output_type": "stream",
     "text": [
      "Help on class WindowSpec in module pyspark.sql.window:\n",
      "\n",
      "class WindowSpec(builtins.object)\n",
      " |  WindowSpec(jspec: py4j.java_gateway.JavaObject) -> None\n",
      " |  \n",
      " |  A window specification that defines the partitioning, ordering,\n",
      " |  and frame boundaries.\n",
      " |  \n",
      " |  Use the static methods in :class:`Window` to create a :class:`WindowSpec`.\n",
      " |  \n",
      " |  .. versionadded:: 1.4.0\n",
      " |  \n",
      " |  .. versionchanged:: 3.4.0\n",
      " |      Supports Spark Connect.\n",
      " |  \n",
      " |  Methods defined here:\n",
      " |  \n",
      " |  __init__(self, jspec: py4j.java_gateway.JavaObject) -> None\n",
      " |      Initialize self.  See help(type(self)) for accurate signature.\n",
      " |  \n",
      " |  orderBy(self, *cols: Union[ForwardRef('ColumnOrName'), List[ForwardRef('ColumnOrName_')]]) -> 'WindowSpec'\n",
      " |      Defines the ordering columns in a :class:`WindowSpec`.\n",
      " |      \n",
      " |      .. versionadded:: 1.4.0\n",
      " |      \n",
      " |      Parameters\n",
      " |      ----------\n",
      " |      cols : str, :class:`Column` or list\n",
      " |          names of columns or expressions\n",
      " |  \n",
      " |  partitionBy(self, *cols: Union[ForwardRef('ColumnOrName'), List[ForwardRef('ColumnOrName_')]]) -> 'WindowSpec'\n",
      " |      Defines the partitioning columns in a :class:`WindowSpec`.\n",
      " |      \n",
      " |      .. versionadded:: 1.4.0\n",
      " |      \n",
      " |      Parameters\n",
      " |      ----------\n",
      " |      cols : str, :class:`Column` or list\n",
      " |          names of columns or expressions\n",
      " |  \n",
      " |  rangeBetween(self, start: int, end: int) -> 'WindowSpec'\n",
      " |      Defines the frame boundaries, from `start` (inclusive) to `end` (inclusive).\n",
      " |      \n",
      " |      Both `start` and `end` are relative from the current row. For example,\n",
      " |      \"0\" means \"current row\", while \"-1\" means one off before the current row,\n",
      " |      and \"5\" means the five off after the current row.\n",
      " |      \n",
      " |      We recommend users use ``Window.unboundedPreceding``, ``Window.unboundedFollowing``,\n",
      " |      and ``Window.currentRow`` to specify special boundary values, rather than using integral\n",
      " |      values directly.\n",
      " |      \n",
      " |      .. versionadded:: 1.4.0\n",
      " |      \n",
      " |      Parameters\n",
      " |      ----------\n",
      " |      start : int\n",
      " |          boundary start, inclusive.\n",
      " |          The frame is unbounded if this is ``Window.unboundedPreceding``, or\n",
      " |          any value less than or equal to max(-sys.maxsize, -9223372036854775808).\n",
      " |      end : int\n",
      " |          boundary end, inclusive.\n",
      " |          The frame is unbounded if this is ``Window.unboundedFollowing``, or\n",
      " |          any value greater than or equal to min(sys.maxsize, 9223372036854775807).\n",
      " |  \n",
      " |  rowsBetween(self, start: int, end: int) -> 'WindowSpec'\n",
      " |      Defines the frame boundaries, from `start` (inclusive) to `end` (inclusive).\n",
      " |      \n",
      " |      Both `start` and `end` are relative positions from the current row.\n",
      " |      For example, \"0\" means \"current row\", while \"-1\" means the row before\n",
      " |      the current row, and \"5\" means the fifth row after the current row.\n",
      " |      \n",
      " |      We recommend users use ``Window.unboundedPreceding``, ``Window.unboundedFollowing``,\n",
      " |      and ``Window.currentRow`` to specify special boundary values, rather than using integral\n",
      " |      values directly.\n",
      " |      \n",
      " |      .. versionadded:: 1.4.0\n",
      " |      \n",
      " |      Parameters\n",
      " |      ----------\n",
      " |      start : int\n",
      " |          boundary start, inclusive.\n",
      " |          The frame is unbounded if this is ``Window.unboundedPreceding``, or\n",
      " |          any value less than or equal to max(-sys.maxsize, -9223372036854775808).\n",
      " |      end : int\n",
      " |          boundary end, inclusive.\n",
      " |          The frame is unbounded if this is ``Window.unboundedFollowing``, or\n",
      " |          any value greater than or equal to min(sys.maxsize, 9223372036854775807).\n",
      " |  \n",
      " |  ----------------------------------------------------------------------\n",
      " |  Data descriptors defined here:\n",
      " |  \n",
      " |  __dict__\n",
      " |      dictionary for instance variables (if defined)\n",
      " |  \n",
      " |  __weakref__\n",
      " |      list of weak references to the object (if defined)\n",
      "\n"
     ]
    }
   ],
   "source": [
    "help(WindowSpec)"
   ]
  },
  {
   "cell_type": "code",
   "execution_count": 184,
   "id": "7a1959e4-296f-4c4b-8263-b2a87aea327e",
   "metadata": {},
   "outputs": [
    {
     "data": {
      "text/plain": [
       "<pyspark.sql.window.WindowSpec at 0x7fe5b677a4d0>"
      ]
     },
     "execution_count": 184,
     "metadata": {},
     "output_type": "execute_result"
    }
   ],
   "source": [
    "Window.partitionBy(agg3.dept)"
   ]
  },
  {
   "cell_type": "code",
   "execution_count": 185,
   "id": "216a1419-9fd3-4b54-aec2-5288c9725d47",
   "metadata": {},
   "outputs": [
    {
     "name": "stdout",
     "output_type": "stream",
     "text": [
      "+--------+--------+------+---+-----+\n",
      "|    name|    dept|salary|age|state|\n",
      "+--------+--------+------+---+-----+\n",
      "|   Nijan| Finance| 20000| 24|   TN|\n",
      "| Pradeep|Software| 25000| 25|   KA|\n",
      "|  Pravin|      IT| 15000| 23|   TS|\n",
      "| Avinash| Builder| 30000| 24|   KL|\n",
      "|  Pratap| Builder| 25000| 25|   KA|\n",
      "|    Bala|Software| 30000| 24|   TN|\n",
      "|Kirthika|      IT| 35000| 23|   KL|\n",
      "|  Mahesh| Finance| 20000| 25|   TS|\n",
      "+--------+--------+------+---+-----+\n",
      "\n"
     ]
    }
   ],
   "source": [
    "df_agg.show()"
   ]
  },
  {
   "cell_type": "code",
   "execution_count": 186,
   "id": "924db853-0044-4b94-99b6-2a6679b6fb17",
   "metadata": {},
   "outputs": [],
   "source": [
    "from pyspark.sql.functions import *\n"
   ]
  },
  {
   "cell_type": "code",
   "execution_count": 187,
   "id": "b342b1aa-1207-4842-888d-2d4f4714b693",
   "metadata": {},
   "outputs": [],
   "source": [
    "# creating window partition\n",
    "spec = Window.partitionBy('dept').orderBy(df_agg.salary.desc())"
   ]
  },
  {
   "cell_type": "code",
   "execution_count": 188,
   "id": "048b0c0f-f10f-45c1-a864-e88459dded7b",
   "metadata": {},
   "outputs": [
    {
     "data": {
      "text/plain": [
       "<pyspark.sql.window.WindowSpec at 0x7fe5b69dd330>"
      ]
     },
     "execution_count": 188,
     "metadata": {},
     "output_type": "execute_result"
    }
   ],
   "source": [
    "spec"
   ]
  },
  {
   "cell_type": "code",
   "execution_count": 189,
   "id": "3cd69e98-4924-4a5c-9579-083613ea4aa8",
   "metadata": {},
   "outputs": [
    {
     "name": "stdout",
     "output_type": "stream",
     "text": [
      "+--------+------+\n",
      "|    dept|salary|\n",
      "+--------+------+\n",
      "| Finance| 20000|\n",
      "|Software| 25000|\n",
      "|      IT| 15000|\n",
      "| Builder| 30000|\n",
      "| Builder| 25000|\n",
      "|Software| 30000|\n",
      "|      IT| 35000|\n",
      "| Finance| 20000|\n",
      "+--------+------+\n",
      "\n"
     ]
    }
   ],
   "source": [
    "df_agg.select(df_agg.dept,df_agg.salary).show()"
   ]
  },
  {
   "cell_type": "code",
   "execution_count": 191,
   "id": "97d7f960-0177-493f-a15e-a1b3e0e063c9",
   "metadata": {},
   "outputs": [
    {
     "name": "stdout",
     "output_type": "stream",
     "text": [
      "+--------+------+------------+\n",
      "|    dept|salary|Row_Num_Rank|\n",
      "+--------+------+------------+\n",
      "| Builder| 30000|           1|\n",
      "| Builder| 25000|           2|\n",
      "| Finance| 20000|           1|\n",
      "| Finance| 20000|           2|\n",
      "|      IT| 35000|           1|\n",
      "|      IT| 15000|           2|\n",
      "|Software| 30000|           1|\n",
      "|Software| 25000|           2|\n",
      "+--------+------+------------+\n",
      "\n"
     ]
    }
   ],
   "source": [
    "# implementing row_number with rank\n",
    "df_agg.select(df_agg.dept,df_agg.salary).withColumn('Row_Num_Rank',row_number().over(spec)).show()"
   ]
  },
  {
   "cell_type": "code",
   "execution_count": 192,
   "id": "3bf337eb-e469-4509-b6f2-1089b27c55c6",
   "metadata": {},
   "outputs": [
    {
     "name": "stdout",
     "output_type": "stream",
     "text": [
      "+--------+------+------------+--------+\n",
      "|    dept|salary|Row_Num_Rank|Row_Rank|\n",
      "+--------+------+------------+--------+\n",
      "| Builder| 30000|           1|       1|\n",
      "| Builder| 25000|           2|       2|\n",
      "| Finance| 20000|           1|       1|\n",
      "| Finance| 20000|           2|       1|\n",
      "|      IT| 35000|           1|       1|\n",
      "|      IT| 15000|           2|       2|\n",
      "|Software| 30000|           1|       1|\n",
      "|Software| 25000|           2|       2|\n",
      "+--------+------+------------+--------+\n",
      "\n"
     ]
    }
   ],
   "source": [
    "df_agg.select(df_agg.dept,df_agg.salary).withColumn('Row_Num_Rank',row_number().over(spec)).withColumn('Row_Rank',rank().over(spec)).show()"
   ]
  },
  {
   "cell_type": "code",
   "execution_count": 193,
   "id": "7bc48768-9660-4507-968c-baa493bb12b4",
   "metadata": {},
   "outputs": [
    {
     "name": "stdout",
     "output_type": "stream",
     "text": [
      "+--------+------+------------+--------+--------------+\n",
      "|    dept|salary|Row_Num_Rank|Row_Rank|Row_Dense_rank|\n",
      "+--------+------+------------+--------+--------------+\n",
      "| Builder| 30000|           1|       1|             1|\n",
      "| Builder| 25000|           2|       2|             2|\n",
      "| Finance| 20000|           1|       1|             1|\n",
      "| Finance| 20000|           2|       1|             1|\n",
      "|      IT| 35000|           1|       1|             1|\n",
      "|      IT| 15000|           2|       2|             2|\n",
      "|Software| 30000|           1|       1|             1|\n",
      "|Software| 25000|           2|       2|             2|\n",
      "+--------+------+------------+--------+--------------+\n",
      "\n"
     ]
    }
   ],
   "source": [
    "df_agg.select(df_agg.dept,df_agg.salary).withColumn('Row_Num_Rank',row_number().over(spec)).withColumn('Row_Rank',rank().over(spec)).withColumn('Row_Dense_rank',dense_rank().over(spec)).show()"
   ]
  },
  {
   "cell_type": "code",
   "execution_count": 194,
   "id": "27a309b9-246e-4caa-ad7b-bbc307de5ce7",
   "metadata": {},
   "outputs": [
    {
     "data": {
      "text/plain": [
       "<pyspark.sql.window.WindowSpec at 0x7fe5b69dc4c0>"
      ]
     },
     "execution_count": 194,
     "metadata": {},
     "output_type": "execute_result"
    }
   ],
   "source": [
    "spec1 = Window.partitionBy('dept').orderBy('salary')\n",
    "spec1"
   ]
  },
  {
   "cell_type": "code",
   "execution_count": 196,
   "id": "3157d1e1-180f-479c-bd5c-78437264b41f",
   "metadata": {},
   "outputs": [
    {
     "name": "stdout",
     "output_type": "stream",
     "text": [
      "+--------+------+------------+--------+--------------+------------+\n",
      "|    dept|salary|Row_Num_Rank|Row_Rank|Row_Dense_rank|Precent_rank|\n",
      "+--------+------+------------+--------+--------------+------------+\n",
      "| Builder| 25000|           1|       1|             1|         0.0|\n",
      "| Builder| 30000|           2|       2|             2|         1.0|\n",
      "| Finance| 20000|           1|       1|             1|         0.0|\n",
      "| Finance| 20000|           2|       1|             1|         0.0|\n",
      "|      IT| 15000|           1|       1|             1|         0.0|\n",
      "|      IT| 35000|           2|       2|             2|         1.0|\n",
      "|Software| 25000|           1|       1|             1|         0.0|\n",
      "|Software| 30000|           2|       2|             2|         1.0|\n",
      "+--------+------+------------+--------+--------------+------------+\n",
      "\n"
     ]
    }
   ],
   "source": [
    "df_agg.select(df_agg.dept,df_agg.salary).withColumn('Row_Num_Rank',row_number().over(spec1)).withColumn('Row_Rank',rank().over(spec1)).withColumn('Row_Dense_rank',dense_rank().over(spec1)).withColumn('Precent_rank',percent_rank().over(spec1)).show()"
   ]
  },
  {
   "cell_type": "code",
   "execution_count": 199,
   "id": "b8e89d33-5525-4f79-9a59-c77a769009fd",
   "metadata": {},
   "outputs": [
    {
     "name": "stdout",
     "output_type": "stream",
     "text": [
      "+--------+------+------------+--------+--------------+------------+----------+\n",
      "|    dept|salary|Row_Num_Rank|Row_Rank|Row_Dense_rank|Precent_rank|Ntile_rank|\n",
      "+--------+------+------------+--------+--------------+------------+----------+\n",
      "| Builder| 25000|           1|       1|             1|         0.0|         1|\n",
      "| Builder| 30000|           2|       2|             2|         1.0|         2|\n",
      "| Finance| 20000|           1|       1|             1|         0.0|         1|\n",
      "| Finance| 20000|           2|       1|             1|         0.0|         2|\n",
      "|      IT| 15000|           1|       1|             1|         0.0|         1|\n",
      "|      IT| 35000|           2|       2|             2|         1.0|         2|\n",
      "|Software| 25000|           1|       1|             1|         0.0|         1|\n",
      "|Software| 30000|           2|       2|             2|         1.0|         2|\n",
      "+--------+------+------------+--------+--------------+------------+----------+\n",
      "\n"
     ]
    }
   ],
   "source": [
    "df_agg.select(df_agg.dept,df_agg.salary).withColumn('Row_Num_Rank',row_number().over(spec1)).withColumn('Row_Rank',rank().over(spec1)).withColumn('Row_Dense_rank',dense_rank().over(spec1)).withColumn('Precent_rank',percent_rank().over(spec1)).withColumn('Ntile_rank',ntile(6).over(spec1)).show()"
   ]
  },
  {
   "cell_type": "code",
   "execution_count": 201,
   "id": "76056aef-5d5e-4653-af06-655968742c81",
   "metadata": {},
   "outputs": [
    {
     "name": "stdout",
     "output_type": "stream",
     "text": [
      "+--------+------+------------+--------+--------------+------------+----------+--------------+\n",
      "|    dept|salary|Row_Num_Rank|Row_Rank|Row_Dense_rank|Precent_rank|Ntile_rank|Cumi_Dist_rank|\n",
      "+--------+------+------------+--------+--------------+------------+----------+--------------+\n",
      "| Builder| 25000|           1|       1|             1|         0.0|         1|           0.5|\n",
      "| Builder| 30000|           2|       2|             2|         1.0|         2|           1.0|\n",
      "| Finance| 20000|           1|       1|             1|         0.0|         1|           1.0|\n",
      "| Finance| 20000|           2|       1|             1|         0.0|         2|           1.0|\n",
      "|      IT| 15000|           1|       1|             1|         0.0|         1|           0.5|\n",
      "|      IT| 35000|           2|       2|             2|         1.0|         2|           1.0|\n",
      "|Software| 25000|           1|       1|             1|         0.0|         1|           0.5|\n",
      "|Software| 30000|           2|       2|             2|         1.0|         2|           1.0|\n",
      "+--------+------+------------+--------+--------------+------------+----------+--------------+\n",
      "\n"
     ]
    }
   ],
   "source": [
    "df_agg.select(df_agg.dept,df_agg.salary).withColumn('Row_Num_Rank',row_number().over(spec1)).withColumn('Row_Rank',rank().over(spec1)).withColumn('Row_Dense_rank',dense_rank().over(spec1)).withColumn('Precent_rank',percent_rank().over(spec1)).withColumn('Ntile_rank',ntile(6).over(spec1)).withColumn('Cumi_Dist_rank',cume_dist().over(spec1)).show()"
   ]
  },
  {
   "cell_type": "code",
   "execution_count": 202,
   "id": "71983903-09e8-4f31-af02-06251912da3c",
   "metadata": {},
   "outputs": [
    {
     "name": "stdout",
     "output_type": "stream",
     "text": [
      "+--------+------+-------+\n",
      "|    dept|salary|LAG_COL|\n",
      "+--------+------+-------+\n",
      "| Builder| 25000|      0|\n",
      "| Builder| 30000|  25000|\n",
      "| Finance| 20000|      0|\n",
      "| Finance| 20000|  20000|\n",
      "|      IT| 15000|      0|\n",
      "|      IT| 35000|  15000|\n",
      "|Software| 25000|      0|\n",
      "|Software| 30000|  25000|\n",
      "+--------+------+-------+\n",
      "\n"
     ]
    }
   ],
   "source": [
    "# lag and lead in window function\n",
    "\n",
    "df_agg.select(df_agg.dept,df_agg.salary).withColumn('LAG_COL',lag('salary',1,0).over(spec1)).show()"
   ]
  },
  {
   "cell_type": "code",
   "execution_count": 203,
   "id": "6dedbaf4-9b8f-4d04-bea9-16e2dee72b17",
   "metadata": {},
   "outputs": [
    {
     "name": "stdout",
     "output_type": "stream",
     "text": [
      "+--------+------+--------+\n",
      "|    dept|salary|LEAD_COL|\n",
      "+--------+------+--------+\n",
      "| Builder| 25000|   30000|\n",
      "| Builder| 30000|       0|\n",
      "| Finance| 20000|   20000|\n",
      "| Finance| 20000|       0|\n",
      "|      IT| 15000|   35000|\n",
      "|      IT| 35000|       0|\n",
      "|Software| 25000|   30000|\n",
      "|Software| 30000|       0|\n",
      "+--------+------+--------+\n",
      "\n"
     ]
    }
   ],
   "source": [
    "df_agg.select(df_agg.dept,df_agg.salary).withColumn('LEAD_COL',lead('salary',1,0).over(spec1)).show()"
   ]
  },
  {
   "cell_type": "code",
   "execution_count": 205,
   "id": "bc6f1ee9-395f-4798-b9bc-8c3416a3733f",
   "metadata": {},
   "outputs": [
    {
     "data": {
      "text/plain": [
       "<pyspark.sql.window.WindowSpec at 0x7fe5b681a740>"
      ]
     },
     "execution_count": 205,
     "metadata": {},
     "output_type": "execute_result"
    }
   ],
   "source": [
    "# printing salary by dept\n",
    "spec3 = Window.partitionBy('dept')\n",
    "spec3"
   ]
  },
  {
   "cell_type": "code",
   "execution_count": 207,
   "id": "14d56c7a-ed52-4cfc-9efe-58074eca008f",
   "metadata": {},
   "outputs": [
    {
     "name": "stdout",
     "output_type": "stream",
     "text": [
      "+--------+------+-------+-------+-------+-------+---------+--------+\n",
      "|    dept|salary|Sum_sal|Avg_sal|Max_sal|Min_sal|First_sal|Last_sal|\n",
      "+--------+------+-------+-------+-------+-------+---------+--------+\n",
      "| Builder| 30000|  55000|27500.0|  30000|  25000|    30000|   25000|\n",
      "| Builder| 25000|  55000|27500.0|  30000|  25000|    30000|   25000|\n",
      "| Finance| 20000|  40000|20000.0|  20000|  20000|    20000|   20000|\n",
      "| Finance| 20000|  40000|20000.0|  20000|  20000|    20000|   20000|\n",
      "|      IT| 15000|  50000|25000.0|  35000|  15000|    15000|   35000|\n",
      "|      IT| 35000|  50000|25000.0|  35000|  15000|    15000|   35000|\n",
      "|Software| 25000|  55000|27500.0|  30000|  25000|    25000|   30000|\n",
      "|Software| 30000|  55000|27500.0|  30000|  25000|    25000|   30000|\n",
      "+--------+------+-------+-------+-------+-------+---------+--------+\n",
      "\n"
     ]
    }
   ],
   "source": [
    "# aggregate function with window\n",
    "df_agg.select(df_agg.dept,df_agg.salary).withColumn('Sum_sal',sum('salary').over(spec3))\\\n",
    ".withColumn('Avg_sal',avg('salary').over(spec3))\\\n",
    ".withColumn('Max_sal',max('salary').over(spec3))\\\n",
    ".withColumn('Min_sal',min('salary').over(spec3))\\\n",
    ".withColumn('First_sal',first('salary').over(spec3))\\\n",
    ".withColumn('Last_sal',last('salary').over(spec3)).show()"
   ]
  },
  {
   "cell_type": "code",
   "execution_count": 209,
   "id": "dbd22831-8af6-425d-9a6a-7928eb8810bc",
   "metadata": {},
   "outputs": [
    {
     "data": {
      "text/plain": [
       "<pyspark.sql.window.WindowSpec at 0x7fe5b68199f0>"
      ]
     },
     "execution_count": 209,
     "metadata": {},
     "output_type": "execute_result"
    }
   ],
   "source": [
    "# printing salary by dept asc and desc\n",
    "spec4 = Window.partitionBy('dept').orderBy(df_agg.salary.desc())\n",
    "spec4\n"
   ]
  },
  {
   "cell_type": "code",
   "execution_count": 210,
   "id": "b748ec2e-d594-4e93-8ae3-d1985679c2fa",
   "metadata": {},
   "outputs": [
    {
     "name": "stdout",
     "output_type": "stream",
     "text": [
      "+--------+------+-------+-------+-------+-------+---------+--------+\n",
      "|    dept|salary|Sum_sal|Avg_sal|Max_sal|Min_sal|First_sal|Last_sal|\n",
      "+--------+------+-------+-------+-------+-------+---------+--------+\n",
      "| Builder| 30000|  30000|30000.0|  30000|  30000|    30000|   30000|\n",
      "| Builder| 25000|  55000|27500.0|  30000|  25000|    30000|   25000|\n",
      "| Finance| 20000|  40000|20000.0|  20000|  20000|    20000|   20000|\n",
      "| Finance| 20000|  40000|20000.0|  20000|  20000|    20000|   20000|\n",
      "|      IT| 35000|  35000|35000.0|  35000|  35000|    35000|   35000|\n",
      "|      IT| 15000|  50000|25000.0|  35000|  15000|    35000|   15000|\n",
      "|Software| 30000|  30000|30000.0|  30000|  30000|    30000|   30000|\n",
      "|Software| 25000|  55000|27500.0|  30000|  25000|    30000|   25000|\n",
      "+--------+------+-------+-------+-------+-------+---------+--------+\n",
      "\n"
     ]
    }
   ],
   "source": [
    "df_agg.select(df_agg.dept,df_agg.salary).withColumn('Sum_sal',sum('salary').over(spec4))\\\n",
    ".withColumn('Avg_sal',avg('salary').over(spec4))\\\n",
    ".withColumn('Max_sal',max('salary').over(spec4))\\\n",
    ".withColumn('Min_sal',min('salary').over(spec4))\\\n",
    ".withColumn('First_sal',first('salary').over(spec4))\\\n",
    ".withColumn('Last_sal',last('salary').over(spec4)).show()"
   ]
  },
  {
   "cell_type": "code",
   "execution_count": 216,
   "id": "dd6d1b4e-f98c-4661-99c7-99a662405a15",
   "metadata": {},
   "outputs": [
    {
     "data": {
      "text/plain": [
       "<pyspark.sql.window.WindowSpec at 0x7fe5b667ee00>"
      ]
     },
     "execution_count": 216,
     "metadata": {},
     "output_type": "execute_result"
    }
   ],
   "source": [
    "# rangeBetween and rowsBetween\n",
    "\n",
    "# creating spec for rangeBetween\n",
    "\n",
    "spec_r = Window.partitionBy('dept').orderBy('salary').rangeBetween(Window.unboundedPreceding,Window.unboundedFollowing)\n",
    "\n",
    "spec_r"
   ]
  },
  {
   "cell_type": "code",
   "execution_count": 217,
   "id": "6cdce6a9-465e-4194-a588-000ddc609c04",
   "metadata": {},
   "outputs": [
    {
     "data": {
      "text/plain": [
       "<pyspark.sql.window.WindowSpec at 0x7fe5b667e470>"
      ]
     },
     "execution_count": 217,
     "metadata": {},
     "output_type": "execute_result"
    }
   ],
   "source": [
    "spec_row = Window.partitionBy('dept').orderBy('salary').rowsBetween(Window.unboundedPreceding,Window.unboundedFollowing)\n",
    "\n",
    "spec_row"
   ]
  },
  {
   "cell_type": "code",
   "execution_count": 218,
   "id": "c08d0a6e-20b6-49e1-a186-2267fda8c5e2",
   "metadata": {},
   "outputs": [
    {
     "name": "stdout",
     "output_type": "stream",
     "text": [
      "+--------+------+-------+-------+-------+-------+---------+--------+\n",
      "|    dept|salary|Sum_sal|Avg_sal|Max_sal|Min_sal|First_sal|Last_sal|\n",
      "+--------+------+-------+-------+-------+-------+---------+--------+\n",
      "| Builder| 25000|  55000|27500.0|  30000|  25000|    25000|   30000|\n",
      "| Builder| 30000|  55000|27500.0|  30000|  25000|    25000|   30000|\n",
      "| Finance| 20000|  40000|20000.0|  20000|  20000|    20000|   20000|\n",
      "| Finance| 20000|  40000|20000.0|  20000|  20000|    20000|   20000|\n",
      "|      IT| 15000|  50000|25000.0|  35000|  15000|    15000|   35000|\n",
      "|      IT| 35000|  50000|25000.0|  35000|  15000|    15000|   35000|\n",
      "|Software| 25000|  55000|27500.0|  30000|  25000|    25000|   30000|\n",
      "|Software| 30000|  55000|27500.0|  30000|  25000|    25000|   30000|\n",
      "+--------+------+-------+-------+-------+-------+---------+--------+\n",
      "\n"
     ]
    }
   ],
   "source": [
    "df_agg.select(df_agg.dept,df_agg.salary).withColumn('Sum_sal',sum('salary').over(spec_r))\\\n",
    ".withColumn('Avg_sal',avg('salary').over(spec_r))\\\n",
    ".withColumn('Max_sal',max('salary').over(spec_r))\\\n",
    ".withColumn('Min_sal',min('salary').over(spec_r))\\\n",
    ".withColumn('First_sal',first('salary').over(spec_r))\\\n",
    ".withColumn('Last_sal',last('salary').over(spec_r)).show()"
   ]
  },
  {
   "cell_type": "code",
   "execution_count": 219,
   "id": "5e1c1dd7-ac55-41ff-9c0a-60679a628d75",
   "metadata": {},
   "outputs": [
    {
     "name": "stdout",
     "output_type": "stream",
     "text": [
      "+--------+------+-------+-------+-------+-------+---------+--------+\n",
      "|    dept|salary|Sum_sal|Avg_sal|Max_sal|Min_sal|First_sal|Last_sal|\n",
      "+--------+------+-------+-------+-------+-------+---------+--------+\n",
      "| Builder| 25000|  55000|27500.0|  30000|  25000|    25000|   30000|\n",
      "| Builder| 30000|  55000|27500.0|  30000|  25000|    25000|   30000|\n",
      "| Finance| 20000|  40000|20000.0|  20000|  20000|    20000|   20000|\n",
      "| Finance| 20000|  40000|20000.0|  20000|  20000|    20000|   20000|\n",
      "|      IT| 15000|  50000|25000.0|  35000|  15000|    15000|   35000|\n",
      "|      IT| 35000|  50000|25000.0|  35000|  15000|    15000|   35000|\n",
      "|Software| 25000|  55000|27500.0|  30000|  25000|    25000|   30000|\n",
      "|Software| 30000|  55000|27500.0|  30000|  25000|    25000|   30000|\n",
      "+--------+------+-------+-------+-------+-------+---------+--------+\n",
      "\n"
     ]
    }
   ],
   "source": [
    "df_agg.select(df_agg.dept,df_agg.salary).withColumn('Sum_sal',sum('salary').over(spec_row))\\\n",
    ".withColumn('Avg_sal',avg('salary').over(spec_row))\\\n",
    ".withColumn('Max_sal',max('salary').over(spec_row))\\\n",
    ".withColumn('Min_sal',min('salary').over(spec_row))\\\n",
    ".withColumn('First_sal',first('salary').over(spec_row))\\\n",
    ".withColumn('Last_sal',last('salary').over(spec_row)).show()"
   ]
  },
  {
   "cell_type": "code",
   "execution_count": 220,
   "id": "426bec10-7e10-4507-85c1-001aff4ea99e",
   "metadata": {},
   "outputs": [],
   "source": [
    "# creatig spec by currentrow in ubounded preceding\n",
    "\n",
    "spec_rc = Window.partitionBy('dept').orderBy('salary').rangeBetween(Window.currentRow,Window.unboundedFollowing)\n",
    "spec_roc = Window.partitionBy('dept').orderBy('salary').rowsBetween(Window.currentRow,Window.unboundedFollowing)\n",
    "\n"
   ]
  },
  {
   "cell_type": "code",
   "execution_count": 221,
   "id": "90a4f2ac-3778-4503-b713-1d4ef74b4dff",
   "metadata": {},
   "outputs": [
    {
     "data": {
      "text/plain": [
       "<pyspark.sql.window.WindowSpec at 0x7fe5b667dfc0>"
      ]
     },
     "execution_count": 221,
     "metadata": {},
     "output_type": "execute_result"
    }
   ],
   "source": [
    "spec_rc"
   ]
  },
  {
   "cell_type": "code",
   "execution_count": 222,
   "id": "fc7bc5d5-494c-4deb-adea-02d29d0a30c2",
   "metadata": {},
   "outputs": [
    {
     "data": {
      "text/plain": [
       "<pyspark.sql.window.WindowSpec at 0x7fe5b667fc40>"
      ]
     },
     "execution_count": 222,
     "metadata": {},
     "output_type": "execute_result"
    }
   ],
   "source": [
    "spec_roc"
   ]
  },
  {
   "cell_type": "code",
   "execution_count": 223,
   "id": "19f01bf4-581c-443d-9879-984f85e5cfe2",
   "metadata": {},
   "outputs": [
    {
     "name": "stdout",
     "output_type": "stream",
     "text": [
      "+--------+------+-------+-------+-------+-------+---------+--------+\n",
      "|    dept|salary|Sum_sal|Avg_sal|Max_sal|Min_sal|First_sal|Last_sal|\n",
      "+--------+------+-------+-------+-------+-------+---------+--------+\n",
      "| Builder| 25000|  55000|27500.0|  30000|  25000|    25000|   30000|\n",
      "| Builder| 30000|  30000|30000.0|  30000|  30000|    30000|   30000|\n",
      "| Finance| 20000|  40000|20000.0|  20000|  20000|    20000|   20000|\n",
      "| Finance| 20000|  40000|20000.0|  20000|  20000|    20000|   20000|\n",
      "|      IT| 15000|  50000|25000.0|  35000|  15000|    15000|   35000|\n",
      "|      IT| 35000|  35000|35000.0|  35000|  35000|    35000|   35000|\n",
      "|Software| 25000|  55000|27500.0|  30000|  25000|    25000|   30000|\n",
      "|Software| 30000|  30000|30000.0|  30000|  30000|    30000|   30000|\n",
      "+--------+------+-------+-------+-------+-------+---------+--------+\n",
      "\n"
     ]
    }
   ],
   "source": [
    "# range between current row\n",
    "\n",
    "df_agg.select(df_agg.dept,df_agg.salary).withColumn('Sum_sal',sum('salary').over(spec_rc))\\\n",
    ".withColumn('Avg_sal',avg('salary').over(spec_rc))\\\n",
    ".withColumn('Max_sal',max('salary').over(spec_rc))\\\n",
    ".withColumn('Min_sal',min('salary').over(spec_rc))\\\n",
    ".withColumn('First_sal',first('salary').over(spec_rc))\\\n",
    ".withColumn('Last_sal',last('salary').over(spec_rc)).show()"
   ]
  },
  {
   "cell_type": "code",
   "execution_count": 224,
   "id": "9d826051-274a-4243-900d-93a2f1b3a9db",
   "metadata": {},
   "outputs": [
    {
     "name": "stdout",
     "output_type": "stream",
     "text": [
      "+--------+------+-------+-------+-------+-------+---------+--------+\n",
      "|    dept|salary|Sum_sal|Avg_sal|Max_sal|Min_sal|First_sal|Last_sal|\n",
      "+--------+------+-------+-------+-------+-------+---------+--------+\n",
      "| Builder| 25000|  55000|27500.0|  30000|  25000|    25000|   30000|\n",
      "| Builder| 30000|  30000|30000.0|  30000|  30000|    30000|   30000|\n",
      "| Finance| 20000|  40000|20000.0|  20000|  20000|    20000|   20000|\n",
      "| Finance| 20000|  20000|20000.0|  20000|  20000|    20000|   20000|\n",
      "|      IT| 15000|  50000|25000.0|  35000|  15000|    15000|   35000|\n",
      "|      IT| 35000|  35000|35000.0|  35000|  35000|    35000|   35000|\n",
      "|Software| 25000|  55000|27500.0|  30000|  25000|    25000|   30000|\n",
      "|Software| 30000|  30000|30000.0|  30000|  30000|    30000|   30000|\n",
      "+--------+------+-------+-------+-------+-------+---------+--------+\n",
      "\n"
     ]
    }
   ],
   "source": [
    "# row between current row\n",
    "df_agg.select(df_agg.dept,df_agg.salary).withColumn('Sum_sal',sum('salary').over(spec_roc))\\\n",
    ".withColumn('Avg_sal',avg('salary').over(spec_roc))\\\n",
    ".withColumn('Max_sal',max('salary').over(spec_roc))\\\n",
    ".withColumn('Min_sal',min('salary').over(spec_roc))\\\n",
    ".withColumn('First_sal',first('salary').over(spec_roc))\\\n",
    ".withColumn('Last_sal',last('salary').over(spec_roc)).show()"
   ]
  },
  {
   "cell_type": "code",
   "execution_count": 225,
   "id": "20138c17-816a-44e7-b144-253681a7be10",
   "metadata": {},
   "outputs": [
    {
     "name": "stdout",
     "output_type": "stream",
     "text": [
      "+---+\n",
      "| id|\n",
      "+---+\n",
      "|  0|\n",
      "|  1|\n",
      "|  2|\n",
      "|  3|\n",
      "|  4|\n",
      "|  5|\n",
      "|  6|\n",
      "|  7|\n",
      "|  8|\n",
      "|  9|\n",
      "| 10|\n",
      "| 11|\n",
      "| 12|\n",
      "| 13|\n",
      "| 14|\n",
      "| 15|\n",
      "| 16|\n",
      "| 17|\n",
      "| 18|\n",
      "| 19|\n",
      "+---+\n",
      "only showing top 20 rows\n",
      "\n"
     ]
    }
   ],
   "source": [
    "# sampling functions\n",
    "\n",
    "df_sample = spark.range(100)\n",
    "\n",
    "df_sample.show()"
   ]
  },
  {
   "cell_type": "code",
   "execution_count": 227,
   "id": "42836d0f-e0b2-493d-8f81-1dda7cb83db1",
   "metadata": {},
   "outputs": [
    {
     "name": "stdout",
     "output_type": "stream",
     "text": [
      "+---+\n",
      "| id|\n",
      "+---+\n",
      "|  0|\n",
      "|  5|\n",
      "| 11|\n",
      "| 12|\n",
      "| 23|\n",
      "| 36|\n",
      "| 47|\n",
      "| 52|\n",
      "| 75|\n",
      "| 83|\n",
      "| 91|\n",
      "+---+\n",
      "\n",
      "+---+\n",
      "| id|\n",
      "+---+\n",
      "|  7|\n",
      "| 15|\n",
      "| 19|\n",
      "| 27|\n",
      "| 34|\n",
      "| 36|\n",
      "| 38|\n",
      "| 54|\n",
      "| 58|\n",
      "| 58|\n",
      "| 64|\n",
      "| 82|\n",
      "| 83|\n",
      "| 96|\n",
      "| 98|\n",
      "| 98|\n",
      "+---+\n",
      "\n"
     ]
    }
   ],
   "source": [
    "# to implement sample in the df_sample\n",
    "\n",
    "df_sample.sample(withReplacement=False,fraction=0.08,seed=5).show()\n",
    "df_sample.sample(withReplacement=True,fraction=0.08,seed=5).show()"
   ]
  },
  {
   "cell_type": "code",
   "execution_count": 231,
   "id": "5f23e469-255c-471d-b41f-ceecb33252fb",
   "metadata": {},
   "outputs": [],
   "source": [
    "#df_sample.sampleBy('key',fractions=0.2,seed=20).show()"
   ]
  },
  {
   "cell_type": "code",
   "execution_count": 232,
   "id": "8ad8bb27-00fd-4018-8af4-b5c00eaa9045",
   "metadata": {},
   "outputs": [],
   "source": [
    "# ----  builtin functions -----\n"
   ]
  },
  {
   "cell_type": "code",
   "execution_count": 234,
   "id": "f202c509-4501-4a59-a6c3-f277afab031e",
   "metadata": {},
   "outputs": [
    {
     "name": "stdout",
     "output_type": "stream",
     "text": [
      "+--------+--------+------+---+-----+-----------+\n",
      "|    name|    dept|salary|age|state|         id|\n",
      "+--------+--------+------+---+-----+-----------+\n",
      "|   Nijan| Finance| 20000| 24|   TN|          0|\n",
      "| Pradeep|Software| 25000| 25|   KA| 8589934592|\n",
      "|  Pravin|      IT| 15000| 23|   TS|17179869184|\n",
      "| Avinash| Builder| 30000| 24|   KL|25769803776|\n",
      "|  Pratap| Builder| 25000| 25|   KA|34359738368|\n",
      "|    Bala|Software| 30000| 24|   TN|42949672960|\n",
      "|Kirthika|      IT| 35000| 23|   KL|51539607552|\n",
      "|  Mahesh| Finance| 20000| 25|   TS|60129542144|\n",
      "+--------+--------+------+---+-----+-----------+\n",
      "\n"
     ]
    }
   ],
   "source": [
    "# new column \n",
    "\n",
    "df_agg.withColumn('id',monotonically_increasing_id()).show()\n"
   ]
  },
  {
   "cell_type": "code",
   "execution_count": 235,
   "id": "d70ea3b8-4cd2-4eaa-b2be-e106e26f75ec",
   "metadata": {},
   "outputs": [
    {
     "name": "stdout",
     "output_type": "stream",
     "text": [
      "+--------------------+\n",
      "|concat(name, |, age)|\n",
      "+--------------------+\n",
      "|            Nijan|24|\n",
      "|          Pradeep|25|\n",
      "|           Pravin|23|\n",
      "|          Avinash|24|\n",
      "|           Pratap|25|\n",
      "|             Bala|24|\n",
      "|         Kirthika|23|\n",
      "|           Mahesh|25|\n",
      "+--------------------+\n",
      "\n"
     ]
    }
   ],
   "source": [
    "# concat column\n",
    "\n",
    "df_agg.select(concat('name',lit('|'),'age')).show()"
   ]
  },
  {
   "cell_type": "code",
   "execution_count": 236,
   "id": "a261fd94-9f4a-4807-99f9-7867ad90f84c",
   "metadata": {},
   "outputs": [
    {
     "name": "stdout",
     "output_type": "stream",
     "text": [
      "+-----------------------------+\n",
      "|concat(name, |, length(name))|\n",
      "+-----------------------------+\n",
      "|                      Nijan|5|\n",
      "|                    Pradeep|7|\n",
      "|                     Pravin|6|\n",
      "|                    Avinash|7|\n",
      "|                     Pratap|6|\n",
      "|                       Bala|4|\n",
      "|                   Kirthika|8|\n",
      "|                     Mahesh|6|\n",
      "+-----------------------------+\n",
      "\n"
     ]
    }
   ],
   "source": [
    "df_agg.select(concat('name',lit('|'),expr(\"length(name)\"))).show()"
   ]
  },
  {
   "cell_type": "code",
   "execution_count": 237,
   "id": "2f67cf0d-2410-411f-8f6a-61a2aeb82940",
   "metadata": {},
   "outputs": [
    {
     "name": "stdout",
     "output_type": "stream",
     "text": [
      "+--------+----------+\n",
      "|    name|(age + 10)|\n",
      "+--------+----------+\n",
      "|   Nijan|        34|\n",
      "| Pradeep|        35|\n",
      "|  Pravin|        33|\n",
      "| Avinash|        34|\n",
      "|  Pratap|        35|\n",
      "|    Bala|        34|\n",
      "|Kirthika|        33|\n",
      "|  Mahesh|        35|\n",
      "+--------+----------+\n",
      "\n"
     ]
    }
   ],
   "source": [
    "df_agg.select('name',expr('age+10')).show()"
   ]
  },
  {
   "cell_type": "code",
   "execution_count": 238,
   "id": "505099a7-6c5f-4f28-8afe-36891bf4e7a3",
   "metadata": {},
   "outputs": [
    {
     "name": "stdout",
     "output_type": "stream",
     "text": [
      "+--------+--------+------+---+-----+-------------------+\n",
      "|name    |dept    |salary|age|state|Rand_Col           |\n",
      "+--------+--------+------+---+-----+-------------------+\n",
      "|Nijan   |Finance |20000 |24 |TN   |0.05805319874181292|\n",
      "|Pradeep |Software|25000 |25 |KA   |0.6290959157964514 |\n",
      "|Pravin  |IT      |15000 |23 |TS   |0.7497268430518292 |\n",
      "|Avinash |Builder |30000 |24 |KL   |0.49679656258740523|\n",
      "|Pratap  |Builder |25000 |25 |KA   |0.3963690922633877 |\n",
      "|Bala    |Software|30000 |24 |TN   |0.9760317347604822 |\n",
      "|Kirthika|IT      |35000 |23 |KL   |0.5298809098336544 |\n",
      "|Mahesh  |Finance |20000 |25 |TS   |0.4183706270349019 |\n",
      "+--------+--------+------+---+-----+-------------------+\n",
      "\n"
     ]
    }
   ],
   "source": [
    "df_agg.withColumn('Rand_Col',rand(80)).show(truncate=False)"
   ]
  },
  {
   "cell_type": "code",
   "execution_count": 240,
   "id": "ca574799-381f-4604-8001-15f852903dc1",
   "metadata": {},
   "outputs": [
    {
     "name": "stdout",
     "output_type": "stream",
     "text": [
      "+--------+--------------------+\n",
      "|    name|       EncryptedName|\n",
      "+--------+--------------------+\n",
      "|   Nijan|4fe5353ae829f248f...|\n",
      "| Pradeep|c3451a1e9d2cd06ba...|\n",
      "|  Pravin|7cbc6c78f1c5b225f...|\n",
      "| Avinash|d307c260590934729...|\n",
      "|  Pratap|c59ce76ca0f380f40...|\n",
      "|    Bala|861df4c2359459ecb...|\n",
      "|Kirthika|b957e6151162f1d18...|\n",
      "|  Mahesh|196c1f625283f4574...|\n",
      "+--------+--------------------+\n",
      "\n"
     ]
    }
   ],
   "source": [
    "# column encryption\n",
    "\n",
    "df_agg.select(df_agg.name,sha1(df_agg.name).alias('EncryptedName')).show()"
   ]
  },
  {
   "cell_type": "code",
   "execution_count": 245,
   "id": "50666310-962e-4f38-909c-a48f21fd0fd8",
   "metadata": {},
   "outputs": [
    {
     "name": "stdout",
     "output_type": "stream",
     "text": [
      "+--------+-------------+\n",
      "|name    |EncryptedName|\n",
      "+--------+-------------+\n",
      "|Nijan   |-1260226481  |\n",
      "|Pradeep |-160400060   |\n",
      "|Pravin  |61319915     |\n",
      "|Avinash |618121494    |\n",
      "|Pratap  |-475388592   |\n",
      "|Bala    |-1569279994  |\n",
      "|Kirthika|1491311092   |\n",
      "|Mahesh  |-1817049405  |\n",
      "+--------+-------------+\n",
      "\n"
     ]
    }
   ],
   "source": [
    "df_agg.select(df_agg.name,hash(df_agg.name).alias('EncryptedName')).show(truncate=False)"
   ]
  },
  {
   "cell_type": "code",
   "execution_count": 246,
   "id": "378d90e9-4ad4-4fa7-9fc8-b16637de891d",
   "metadata": {},
   "outputs": [
    {
     "name": "stdout",
     "output_type": "stream",
     "text": [
      "+-------+-------------------+-----------+---------------+\n",
      "|orderid|          orderdate|ordercustid|    orderstatus|\n",
      "+-------+-------------------+-----------+---------------+\n",
      "|      1|2013-07-25 00:00:00|      11599|         CLOSED|\n",
      "|      2|2013-07-25 00:00:00|        256|PENDING_PAYMENT|\n",
      "|      3|2013-07-25 00:00:00|      12111|       COMPLETE|\n",
      "|      4|2013-07-25 00:00:00|       8827|         CLOSED|\n",
      "|      5|2013-07-25 00:00:00|      11318|       COMPLETE|\n",
      "|      6|2013-07-25 00:00:00|       7130|       COMPLETE|\n",
      "|      7|2013-07-25 00:00:00|       4530|       COMPLETE|\n",
      "|      8|2013-07-25 00:00:00|       2911|     PROCESSING|\n",
      "|      9|2013-07-25 00:00:00|       5657|PENDING_PAYMENT|\n",
      "|     10|2013-07-25 00:00:00|       5648|PENDING_PAYMENT|\n",
      "|     11|2013-07-25 00:00:00|        918| PAYMENT_REVIEW|\n",
      "|     12|2013-07-25 00:00:00|       1837|         CLOSED|\n",
      "|     13|2013-07-25 00:00:00|       9149|PENDING_PAYMENT|\n",
      "|     14|2013-07-25 00:00:00|       9842|     PROCESSING|\n",
      "|     15|2013-07-25 00:00:00|       2568|       COMPLETE|\n",
      "|     16|2013-07-25 00:00:00|       7276|PENDING_PAYMENT|\n",
      "|     17|2013-07-25 00:00:00|       2667|       COMPLETE|\n",
      "|     18|2013-07-25 00:00:00|       1205|         CLOSED|\n",
      "|     19|2013-07-25 00:00:00|       9488|PENDING_PAYMENT|\n",
      "|     20|2013-07-25 00:00:00|       9198|     PROCESSING|\n",
      "+-------+-------------------+-----------+---------------+\n",
      "only showing top 20 rows\n",
      "\n"
     ]
    }
   ],
   "source": [
    "# string Functions \n",
    "\n",
    "ord.show()\n"
   ]
  },
  {
   "cell_type": "code",
   "execution_count": 247,
   "id": "4c2ac742-2d98-4699-b41f-cc7c773da01f",
   "metadata": {},
   "outputs": [
    {
     "name": "stdout",
     "output_type": "stream",
     "text": [
      "+--------------------+\n",
      "|        Splited Date|\n",
      "+--------------------+\n",
      "|[2013, 07, 25 00:...|\n",
      "|[2013, 07, 25 00:...|\n",
      "|[2013, 07, 25 00:...|\n",
      "|[2013, 07, 25 00:...|\n",
      "|[2013, 07, 25 00:...|\n",
      "|[2013, 07, 25 00:...|\n",
      "|[2013, 07, 25 00:...|\n",
      "|[2013, 07, 25 00:...|\n",
      "|[2013, 07, 25 00:...|\n",
      "|[2013, 07, 25 00:...|\n",
      "|[2013, 07, 25 00:...|\n",
      "|[2013, 07, 25 00:...|\n",
      "|[2013, 07, 25 00:...|\n",
      "|[2013, 07, 25 00:...|\n",
      "|[2013, 07, 25 00:...|\n",
      "|[2013, 07, 25 00:...|\n",
      "|[2013, 07, 25 00:...|\n",
      "|[2013, 07, 25 00:...|\n",
      "|[2013, 07, 25 00:...|\n",
      "|[2013, 07, 25 00:...|\n",
      "+--------------------+\n",
      "only showing top 20 rows\n",
      "\n"
     ]
    }
   ],
   "source": [
    "ord.select(split(ord.orderdate,'-').alias('Splited Date')).show()"
   ]
  },
  {
   "cell_type": "code",
   "execution_count": 249,
   "id": "4599a328-0645-4bb7-a6d2-061f0ccf8c8b",
   "metadata": {},
   "outputs": [
    {
     "name": "stdout",
     "output_type": "stream",
     "text": [
      "+----+\n",
      "|Year|\n",
      "+----+\n",
      "|2013|\n",
      "|2013|\n",
      "|2013|\n",
      "|2013|\n",
      "|2013|\n",
      "|2013|\n",
      "|2013|\n",
      "|2013|\n",
      "|2013|\n",
      "|2013|\n",
      "|2013|\n",
      "|2013|\n",
      "|2013|\n",
      "|2013|\n",
      "|2013|\n",
      "|2013|\n",
      "|2013|\n",
      "|2013|\n",
      "|2013|\n",
      "|2013|\n",
      "+----+\n",
      "only showing top 20 rows\n",
      "\n"
     ]
    }
   ],
   "source": [
    "ord.select(split(ord.orderdate,'-')[0].alias('Year')).show()"
   ]
  },
  {
   "cell_type": "code",
   "execution_count": 250,
   "id": "fafbcf0d-68cd-491f-94cc-bec508c48c7f",
   "metadata": {},
   "outputs": [
    {
     "name": "stdout",
     "output_type": "stream",
     "text": [
      "+--------------------+\n",
      "|                   s|\n",
      "+--------------------+\n",
      "|1iou23y19837qiug9...|\n",
      "+--------------------+\n",
      "\n"
     ]
    }
   ],
   "source": [
    "# split using regex\n",
    "\n",
    "exm = spark.createDataFrame([('1iou23y19837qiug98731',)],['s',])\n",
    "exm.show()\n"
   ]
  },
  {
   "cell_type": "code",
   "execution_count": 251,
   "id": "5edca396-b8b9-47fa-95c1-ebb02a883290",
   "metadata": {},
   "outputs": [
    {
     "name": "stdout",
     "output_type": "stream",
     "text": [
      "+--------------------+\n",
      "|split(s, [0-9]+, -1)|\n",
      "+--------------------+\n",
      "|  [, iou, y, qiug, ]|\n",
      "+--------------------+\n",
      "\n"
     ]
    }
   ],
   "source": [
    "exm.select(split(exm.s,'[0-9]+')).show()"
   ]
  },
  {
   "cell_type": "code",
   "execution_count": 255,
   "id": "35ed510f-030d-4759-8a89-b5035c72c005",
   "metadata": {},
   "outputs": [
    {
     "name": "stdout",
     "output_type": "stream",
     "text": [
      "+------------------+------------------+--------------------+\n",
      "|lower(orderstatus)|upper(orderstatus)|initcap(orderstatus)|\n",
      "+------------------+------------------+--------------------+\n",
      "|            closed|            CLOSED|              Closed|\n",
      "|   pending_payment|   PENDING_PAYMENT|     Pending_payment|\n",
      "|          complete|          COMPLETE|            Complete|\n",
      "|            closed|            CLOSED|              Closed|\n",
      "|          complete|          COMPLETE|            Complete|\n",
      "|          complete|          COMPLETE|            Complete|\n",
      "|          complete|          COMPLETE|            Complete|\n",
      "|        processing|        PROCESSING|          Processing|\n",
      "|   pending_payment|   PENDING_PAYMENT|     Pending_payment|\n",
      "|   pending_payment|   PENDING_PAYMENT|     Pending_payment|\n",
      "|    payment_review|    PAYMENT_REVIEW|      Payment_review|\n",
      "|            closed|            CLOSED|              Closed|\n",
      "|   pending_payment|   PENDING_PAYMENT|     Pending_payment|\n",
      "|        processing|        PROCESSING|          Processing|\n",
      "|          complete|          COMPLETE|            Complete|\n",
      "|   pending_payment|   PENDING_PAYMENT|     Pending_payment|\n",
      "|          complete|          COMPLETE|            Complete|\n",
      "|            closed|            CLOSED|              Closed|\n",
      "|   pending_payment|   PENDING_PAYMENT|     Pending_payment|\n",
      "|        processing|        PROCESSING|          Processing|\n",
      "+------------------+------------------+--------------------+\n",
      "only showing top 20 rows\n",
      "\n"
     ]
    }
   ],
   "source": [
    "#lower upper initCap\n",
    "\n",
    "ord.select(lower(ord.orderstatus),upper(ord.orderstatus),initcap(ord.orderstatus)).show()"
   ]
  },
  {
   "cell_type": "code",
   "execution_count": 268,
   "id": "5895a347-378f-4cb3-909a-b1d3c6bcfbca",
   "metadata": {},
   "outputs": [
    {
     "data": {
      "text/plain": [
       "' String Syntax as Follows:\\n\\nltrim(col) rtrim(col) trim(col)\\n\\nlpad(col,len,pad) rpad(col,len,pad) \\n\\nreverse(col)\\n\\n\\n'"
      ]
     },
     "execution_count": 268,
     "metadata": {},
     "output_type": "execute_result"
    }
   ],
   "source": [
    "\"\"\" String Syntax as Follows:\n",
    "\n",
    "ltrim(col) rtrim(col) trim(col)\n",
    "\n",
    "lpad(col,len,pad) rpad(col,len,pad) \n",
    "\n",
    "reverse(col)\n",
    "\n",
    "\n",
    "\"\"\""
   ]
  },
  {
   "cell_type": "code",
   "execution_count": 269,
   "id": "b999a117-7771-4cef-b0d5-903d58a8f31d",
   "metadata": {},
   "outputs": [
    {
     "name": "stdout",
     "output_type": "stream",
     "text": [
      "+-------+-------------------+-----------+---------------+---------+\n",
      "|orderid|          orderdate|ordercustid|    orderstatus|padded_id|\n",
      "+-------+-------------------+-----------+---------------+---------+\n",
      "|      1|2013-07-25 00:00:00|      11599|         CLOSED|    ----1|\n",
      "|      2|2013-07-25 00:00:00|        256|PENDING_PAYMENT|    ----2|\n",
      "|      3|2013-07-25 00:00:00|      12111|       COMPLETE|    ----3|\n",
      "|      4|2013-07-25 00:00:00|       8827|         CLOSED|    ----4|\n",
      "|      5|2013-07-25 00:00:00|      11318|       COMPLETE|    ----5|\n",
      "|      6|2013-07-25 00:00:00|       7130|       COMPLETE|    ----6|\n",
      "|      7|2013-07-25 00:00:00|       4530|       COMPLETE|    ----7|\n",
      "|      8|2013-07-25 00:00:00|       2911|     PROCESSING|    ----8|\n",
      "|      9|2013-07-25 00:00:00|       5657|PENDING_PAYMENT|    ----9|\n",
      "|     10|2013-07-25 00:00:00|       5648|PENDING_PAYMENT|    ---10|\n",
      "|     11|2013-07-25 00:00:00|        918| PAYMENT_REVIEW|    ---11|\n",
      "|     12|2013-07-25 00:00:00|       1837|         CLOSED|    ---12|\n",
      "|     13|2013-07-25 00:00:00|       9149|PENDING_PAYMENT|    ---13|\n",
      "|     14|2013-07-25 00:00:00|       9842|     PROCESSING|    ---14|\n",
      "|     15|2013-07-25 00:00:00|       2568|       COMPLETE|    ---15|\n",
      "|     16|2013-07-25 00:00:00|       7276|PENDING_PAYMENT|    ---16|\n",
      "|     17|2013-07-25 00:00:00|       2667|       COMPLETE|    ---17|\n",
      "|     18|2013-07-25 00:00:00|       1205|         CLOSED|    ---18|\n",
      "|     19|2013-07-25 00:00:00|       9488|PENDING_PAYMENT|    ---19|\n",
      "|     20|2013-07-25 00:00:00|       9198|     PROCESSING|    ---20|\n",
      "+-------+-------------------+-----------+---------------+---------+\n",
      "only showing top 20 rows\n",
      "\n"
     ]
    }
   ],
   "source": [
    "ord.withColumn('padded_id',lpad(ord.orderid,5,'-')).show()"
   ]
  },
  {
   "cell_type": "code",
   "execution_count": 271,
   "id": "319d4c76-0698-4184-9556-2d11a061c508",
   "metadata": {},
   "outputs": [
    {
     "name": "stdout",
     "output_type": "stream",
     "text": [
      "+-------+-------------------+-----------+---------------+---------------+\n",
      "|orderid|          orderdate|ordercustid|    orderstatus|Reversed_status|\n",
      "+-------+-------------------+-----------+---------------+---------------+\n",
      "|      1|2013-07-25 00:00:00|      11599|         CLOSED|         DESOLC|\n",
      "|      2|2013-07-25 00:00:00|        256|PENDING_PAYMENT|TNEMYAP_GNIDNEP|\n",
      "|      3|2013-07-25 00:00:00|      12111|       COMPLETE|       ETELPMOC|\n",
      "|      4|2013-07-25 00:00:00|       8827|         CLOSED|         DESOLC|\n",
      "|      5|2013-07-25 00:00:00|      11318|       COMPLETE|       ETELPMOC|\n",
      "|      6|2013-07-25 00:00:00|       7130|       COMPLETE|       ETELPMOC|\n",
      "|      7|2013-07-25 00:00:00|       4530|       COMPLETE|       ETELPMOC|\n",
      "|      8|2013-07-25 00:00:00|       2911|     PROCESSING|     GNISSECORP|\n",
      "|      9|2013-07-25 00:00:00|       5657|PENDING_PAYMENT|TNEMYAP_GNIDNEP|\n",
      "|     10|2013-07-25 00:00:00|       5648|PENDING_PAYMENT|TNEMYAP_GNIDNEP|\n",
      "|     11|2013-07-25 00:00:00|        918| PAYMENT_REVIEW| WEIVER_TNEMYAP|\n",
      "|     12|2013-07-25 00:00:00|       1837|         CLOSED|         DESOLC|\n",
      "|     13|2013-07-25 00:00:00|       9149|PENDING_PAYMENT|TNEMYAP_GNIDNEP|\n",
      "|     14|2013-07-25 00:00:00|       9842|     PROCESSING|     GNISSECORP|\n",
      "|     15|2013-07-25 00:00:00|       2568|       COMPLETE|       ETELPMOC|\n",
      "|     16|2013-07-25 00:00:00|       7276|PENDING_PAYMENT|TNEMYAP_GNIDNEP|\n",
      "|     17|2013-07-25 00:00:00|       2667|       COMPLETE|       ETELPMOC|\n",
      "|     18|2013-07-25 00:00:00|       1205|         CLOSED|         DESOLC|\n",
      "|     19|2013-07-25 00:00:00|       9488|PENDING_PAYMENT|TNEMYAP_GNIDNEP|\n",
      "|     20|2013-07-25 00:00:00|       9198|     PROCESSING|     GNISSECORP|\n",
      "+-------+-------------------+-----------+---------------+---------------+\n",
      "only showing top 20 rows\n",
      "\n"
     ]
    }
   ],
   "source": [
    "ord.withColumn('Reversed_status',reverse(ord.orderstatus)).show()"
   ]
  },
  {
   "cell_type": "code",
   "execution_count": 273,
   "id": "228fcb38-87e0-424e-8a52-49e596879178",
   "metadata": {},
   "outputs": [
    {
     "name": "stdout",
     "output_type": "stream",
     "text": [
      "+-------+-------------------+-----------+---------------+--------------------+\n",
      "|orderid|          orderdate|ordercustid|    orderstatus|      OrderId_status|\n",
      "+-------+-------------------+-----------+---------------+--------------------+\n",
      "|      1|2013-07-25 00:00:00|      11599|         CLOSED|          1-->CLOSED|\n",
      "|      2|2013-07-25 00:00:00|        256|PENDING_PAYMENT| 2-->PENDING_PAYMENT|\n",
      "|      3|2013-07-25 00:00:00|      12111|       COMPLETE|        3-->COMPLETE|\n",
      "|      4|2013-07-25 00:00:00|       8827|         CLOSED|          4-->CLOSED|\n",
      "|      5|2013-07-25 00:00:00|      11318|       COMPLETE|        5-->COMPLETE|\n",
      "|      6|2013-07-25 00:00:00|       7130|       COMPLETE|        6-->COMPLETE|\n",
      "|      7|2013-07-25 00:00:00|       4530|       COMPLETE|        7-->COMPLETE|\n",
      "|      8|2013-07-25 00:00:00|       2911|     PROCESSING|      8-->PROCESSING|\n",
      "|      9|2013-07-25 00:00:00|       5657|PENDING_PAYMENT| 9-->PENDING_PAYMENT|\n",
      "|     10|2013-07-25 00:00:00|       5648|PENDING_PAYMENT|10-->PENDING_PAYMENT|\n",
      "|     11|2013-07-25 00:00:00|        918| PAYMENT_REVIEW| 11-->PAYMENT_REVIEW|\n",
      "|     12|2013-07-25 00:00:00|       1837|         CLOSED|         12-->CLOSED|\n",
      "|     13|2013-07-25 00:00:00|       9149|PENDING_PAYMENT|13-->PENDING_PAYMENT|\n",
      "|     14|2013-07-25 00:00:00|       9842|     PROCESSING|     14-->PROCESSING|\n",
      "|     15|2013-07-25 00:00:00|       2568|       COMPLETE|       15-->COMPLETE|\n",
      "|     16|2013-07-25 00:00:00|       7276|PENDING_PAYMENT|16-->PENDING_PAYMENT|\n",
      "|     17|2013-07-25 00:00:00|       2667|       COMPLETE|       17-->COMPLETE|\n",
      "|     18|2013-07-25 00:00:00|       1205|         CLOSED|         18-->CLOSED|\n",
      "|     19|2013-07-25 00:00:00|       9488|PENDING_PAYMENT|19-->PENDING_PAYMENT|\n",
      "|     20|2013-07-25 00:00:00|       9198|     PROCESSING|     20-->PROCESSING|\n",
      "+-------+-------------------+-----------+---------------+--------------------+\n",
      "only showing top 20 rows\n",
      "\n"
     ]
    }
   ],
   "source": [
    "# concat_ws\n",
    "\n",
    "ord.withColumn('OrderId_status',concat_ws('-->',ord.orderid,ord.orderstatus)).show()"
   ]
  },
  {
   "cell_type": "code",
   "execution_count": 274,
   "id": "db842ec8-bcc0-47b0-9f1b-3c72f2eb85bb",
   "metadata": {},
   "outputs": [
    {
     "name": "stdout",
     "output_type": "stream",
     "text": [
      "+-------+-------------------+-----------+---------------+---------+\n",
      "|orderid|          orderdate|ordercustid|    orderstatus|OrderYear|\n",
      "+-------+-------------------+-----------+---------------+---------+\n",
      "|      1|2013-07-25 00:00:00|      11599|         CLOSED|     2013|\n",
      "|      2|2013-07-25 00:00:00|        256|PENDING_PAYMENT|     2013|\n",
      "|      3|2013-07-25 00:00:00|      12111|       COMPLETE|     2013|\n",
      "|      4|2013-07-25 00:00:00|       8827|         CLOSED|     2013|\n",
      "|      5|2013-07-25 00:00:00|      11318|       COMPLETE|     2013|\n",
      "|      6|2013-07-25 00:00:00|       7130|       COMPLETE|     2013|\n",
      "|      7|2013-07-25 00:00:00|       4530|       COMPLETE|     2013|\n",
      "|      8|2013-07-25 00:00:00|       2911|     PROCESSING|     2013|\n",
      "|      9|2013-07-25 00:00:00|       5657|PENDING_PAYMENT|     2013|\n",
      "|     10|2013-07-25 00:00:00|       5648|PENDING_PAYMENT|     2013|\n",
      "|     11|2013-07-25 00:00:00|        918| PAYMENT_REVIEW|     2013|\n",
      "|     12|2013-07-25 00:00:00|       1837|         CLOSED|     2013|\n",
      "|     13|2013-07-25 00:00:00|       9149|PENDING_PAYMENT|     2013|\n",
      "|     14|2013-07-25 00:00:00|       9842|     PROCESSING|     2013|\n",
      "|     15|2013-07-25 00:00:00|       2568|       COMPLETE|     2013|\n",
      "|     16|2013-07-25 00:00:00|       7276|PENDING_PAYMENT|     2013|\n",
      "|     17|2013-07-25 00:00:00|       2667|       COMPLETE|     2013|\n",
      "|     18|2013-07-25 00:00:00|       1205|         CLOSED|     2013|\n",
      "|     19|2013-07-25 00:00:00|       9488|PENDING_PAYMENT|     2013|\n",
      "|     20|2013-07-25 00:00:00|       9198|     PROCESSING|     2013|\n",
      "+-------+-------------------+-----------+---------------+---------+\n",
      "only showing top 20 rows\n",
      "\n"
     ]
    }
   ],
   "source": [
    "ord.withColumn('OrderYear',substring(ord.orderdate,1,4)).show()"
   ]
  },
  {
   "cell_type": "code",
   "execution_count": 276,
   "id": "9826d603-c1b7-4494-aca2-7c4e306b2fb6",
   "metadata": {},
   "outputs": [
    {
     "name": "stdout",
     "output_type": "stream",
     "text": [
      "+-------+-------------------+-----------+---------------+-------------------+\n",
      "|orderid|          orderdate|ordercustid|    orderstatus|              Dummy|\n",
      "+-------+-------------------+-----------+---------------+-------------------+\n",
      "|      1|2013-07-25 00:00:00|      11599|         CLOSED|2013-07-25 00:00:00|\n",
      "|      2|2013-07-25 00:00:00|        256|PENDING_PAYMENT|2013-07-25 00:00:00|\n",
      "|      3|2013-07-25 00:00:00|      12111|       COMPLETE|2013-07-25 00:00:00|\n",
      "|      4|2013-07-25 00:00:00|       8827|         CLOSED|2013-07-25 00:00:00|\n",
      "|      5|2013-07-25 00:00:00|      11318|       COMPLETE|2013-07-25 00:00:00|\n",
      "|      6|2013-07-25 00:00:00|       7130|       COMPLETE|2013-07-25 00:00:00|\n",
      "|      7|2013-07-25 00:00:00|       4530|       COMPLETE|2013-07-25 00:00:00|\n",
      "|      8|2013-07-25 00:00:00|       2911|     PROCESSING|2013-07-25 00:00:00|\n",
      "|      9|2013-07-25 00:00:00|       5657|PENDING_PAYMENT|2013-07-25 00:00:00|\n",
      "|     10|2013-07-25 00:00:00|       5648|PENDING_PAYMENT|2013-07-25 00:00:00|\n",
      "|     11|2013-07-25 00:00:00|        918| PAYMENT_REVIEW|2013-07-25 00:00:00|\n",
      "|     12|2013-07-25 00:00:00|       1837|         CLOSED|2013-07-25 00:00:00|\n",
      "|     13|2013-07-25 00:00:00|       9149|PENDING_PAYMENT|2013-07-25 00:00:00|\n",
      "|     14|2013-07-25 00:00:00|       9842|     PROCESSING|2013-07-25 00:00:00|\n",
      "|     15|2013-07-25 00:00:00|       2568|       COMPLETE|2013-07-25 00:00:00|\n",
      "|     16|2013-07-25 00:00:00|       7276|PENDING_PAYMENT|2013-07-25 00:00:00|\n",
      "|     17|2013-07-25 00:00:00|       2667|       COMPLETE|2013-07-25 00:00:00|\n",
      "|     18|2013-07-25 00:00:00|       1205|         CLOSED|2013-07-25 00:00:00|\n",
      "|     19|2013-07-25 00:00:00|       9488|PENDING_PAYMENT|2013-07-25 00:00:00|\n",
      "|     20|2013-07-25 00:00:00|       9198|     PROCESSING|2013-07-25 00:00:00|\n",
      "+-------+-------------------+-----------+---------------+-------------------+\n",
      "only showing top 20 rows\n",
      "\n"
     ]
    }
   ],
   "source": [
    "ord.withColumn('Dummy',substring_index(ord.orderdate,'-',3)).show()"
   ]
  },
  {
   "cell_type": "code",
   "execution_count": 277,
   "id": "54b59633-d1d5-451c-a526-ae638947d512",
   "metadata": {},
   "outputs": [
    {
     "name": "stdout",
     "output_type": "stream",
     "text": [
      "+-------+-------------------+-----------+---------------+-----+\n",
      "|orderid|          orderdate|ordercustid|    orderstatus|Dummy|\n",
      "+-------+-------------------+-----------+---------------+-----+\n",
      "|      1|2013-07-25 00:00:00|      11599|         CLOSED|    5|\n",
      "|      2|2013-07-25 00:00:00|        256|PENDING_PAYMENT|    5|\n",
      "|      3|2013-07-25 00:00:00|      12111|       COMPLETE|    5|\n",
      "|      4|2013-07-25 00:00:00|       8827|         CLOSED|    5|\n",
      "|      5|2013-07-25 00:00:00|      11318|       COMPLETE|    5|\n",
      "|      6|2013-07-25 00:00:00|       7130|       COMPLETE|    5|\n",
      "|      7|2013-07-25 00:00:00|       4530|       COMPLETE|    5|\n",
      "|      8|2013-07-25 00:00:00|       2911|     PROCESSING|    5|\n",
      "|      9|2013-07-25 00:00:00|       5657|PENDING_PAYMENT|    5|\n",
      "|     10|2013-07-25 00:00:00|       5648|PENDING_PAYMENT|    5|\n",
      "|     11|2013-07-25 00:00:00|        918| PAYMENT_REVIEW|    5|\n",
      "|     12|2013-07-25 00:00:00|       1837|         CLOSED|    5|\n",
      "|     13|2013-07-25 00:00:00|       9149|PENDING_PAYMENT|    5|\n",
      "|     14|2013-07-25 00:00:00|       9842|     PROCESSING|    5|\n",
      "|     15|2013-07-25 00:00:00|       2568|       COMPLETE|    5|\n",
      "|     16|2013-07-25 00:00:00|       7276|PENDING_PAYMENT|    5|\n",
      "|     17|2013-07-25 00:00:00|       2667|       COMPLETE|    5|\n",
      "|     18|2013-07-25 00:00:00|       1205|         CLOSED|    5|\n",
      "|     19|2013-07-25 00:00:00|       9488|PENDING_PAYMENT|    5|\n",
      "|     20|2013-07-25 00:00:00|       9198|     PROCESSING|    5|\n",
      "+-------+-------------------+-----------+---------------+-----+\n",
      "only showing top 20 rows\n",
      "\n"
     ]
    }
   ],
   "source": [
    "ord.withColumn('Dummy',instr(ord.orderdate,'-')).show()"
   ]
  },
  {
   "cell_type": "code",
   "execution_count": 278,
   "id": "ceaffb47-ec24-477c-a2b9-ed7b3e969338",
   "metadata": {},
   "outputs": [
    {
     "name": "stdout",
     "output_type": "stream",
     "text": [
      "+-------+-------------------+-----------+---------------+-----+\n",
      "|orderid|          orderdate|ordercustid|    orderstatus|Dummy|\n",
      "+-------+-------------------+-----------+---------------+-----+\n",
      "|      1|2013-07-25 00:00:00|      11599|         CLOSED|   12|\n",
      "|      2|2013-07-25 00:00:00|        256|PENDING_PAYMENT|   12|\n",
      "|      3|2013-07-25 00:00:00|      12111|       COMPLETE|   12|\n",
      "|      4|2013-07-25 00:00:00|       8827|         CLOSED|   12|\n",
      "|      5|2013-07-25 00:00:00|      11318|       COMPLETE|   12|\n",
      "|      6|2013-07-25 00:00:00|       7130|       COMPLETE|   12|\n",
      "|      7|2013-07-25 00:00:00|       4530|       COMPLETE|   12|\n",
      "|      8|2013-07-25 00:00:00|       2911|     PROCESSING|   12|\n",
      "|      9|2013-07-25 00:00:00|       5657|PENDING_PAYMENT|   12|\n",
      "|     10|2013-07-25 00:00:00|       5648|PENDING_PAYMENT|   12|\n",
      "|     11|2013-07-25 00:00:00|        918| PAYMENT_REVIEW|   12|\n",
      "|     12|2013-07-25 00:00:00|       1837|         CLOSED|   12|\n",
      "|     13|2013-07-25 00:00:00|       9149|PENDING_PAYMENT|   12|\n",
      "|     14|2013-07-25 00:00:00|       9842|     PROCESSING|   12|\n",
      "|     15|2013-07-25 00:00:00|       2568|       COMPLETE|   12|\n",
      "|     16|2013-07-25 00:00:00|       7276|PENDING_PAYMENT|   12|\n",
      "|     17|2013-07-25 00:00:00|       2667|       COMPLETE|   12|\n",
      "|     18|2013-07-25 00:00:00|       1205|         CLOSED|   12|\n",
      "|     19|2013-07-25 00:00:00|       9488|PENDING_PAYMENT|   12|\n",
      "|     20|2013-07-25 00:00:00|       9198|     PROCESSING|   12|\n",
      "+-------+-------------------+-----------+---------------+-----+\n",
      "only showing top 20 rows\n",
      "\n"
     ]
    }
   ],
   "source": [
    "ord.withColumn('Dummy',locate('00',ord.orderdate,2)).show()"
   ]
  },
  {
   "cell_type": "code",
   "execution_count": 280,
   "id": "9f5975b1-92be-4095-bbc7-59c3cb2c120b",
   "metadata": {},
   "outputs": [
    {
     "name": "stdout",
     "output_type": "stream",
     "text": [
      "+-------+-------------------+-----------+---------------+------------+\n",
      "|orderid|          orderdate|ordercustid|    orderstatus|   Translate|\n",
      "+-------+-------------------+-----------+---------------+------------+\n",
      "|      1|2013-07-25 00:00:00|      11599|         CLOSED|           0|\n",
      "|      2|2013-07-25 00:00:00|        256|PENDING_PAYMENT|PNING_PAYMNT|\n",
      "|      3|2013-07-25 00:00:00|      12111|       COMPLETE|        0MPT|\n",
      "|      4|2013-07-25 00:00:00|       8827|         CLOSED|           0|\n",
      "|      5|2013-07-25 00:00:00|      11318|       COMPLETE|        0MPT|\n",
      "|      6|2013-07-25 00:00:00|       7130|       COMPLETE|        0MPT|\n",
      "|      7|2013-07-25 00:00:00|       4530|       COMPLETE|        0MPT|\n",
      "|      8|2013-07-25 00:00:00|       2911|     PROCESSING|      PR0ING|\n",
      "|      9|2013-07-25 00:00:00|       5657|PENDING_PAYMENT|PNING_PAYMNT|\n",
      "|     10|2013-07-25 00:00:00|       5648|PENDING_PAYMENT|PNING_PAYMNT|\n",
      "|     11|2013-07-25 00:00:00|        918| PAYMENT_REVIEW| PAYMNT_RVIW|\n",
      "|     12|2013-07-25 00:00:00|       1837|         CLOSED|           0|\n",
      "|     13|2013-07-25 00:00:00|       9149|PENDING_PAYMENT|PNING_PAYMNT|\n",
      "|     14|2013-07-25 00:00:00|       9842|     PROCESSING|      PR0ING|\n",
      "|     15|2013-07-25 00:00:00|       2568|       COMPLETE|        0MPT|\n",
      "|     16|2013-07-25 00:00:00|       7276|PENDING_PAYMENT|PNING_PAYMNT|\n",
      "|     17|2013-07-25 00:00:00|       2667|       COMPLETE|        0MPT|\n",
      "|     18|2013-07-25 00:00:00|       1205|         CLOSED|           0|\n",
      "|     19|2013-07-25 00:00:00|       9488|PENDING_PAYMENT|PNING_PAYMNT|\n",
      "|     20|2013-07-25 00:00:00|       9198|     PROCESSING|      PR0ING|\n",
      "+-------+-------------------+-----------+---------------+------------+\n",
      "only showing top 20 rows\n",
      "\n"
     ]
    }
   ],
   "source": [
    "ord.withColumn('Translate',translate(ord.orderstatus,'CLOSED','0')).show()"
   ]
  },
  {
   "cell_type": "code",
   "execution_count": 281,
   "id": "0254e427-6314-4ec8-8274-4ba3b733d00d",
   "metadata": {},
   "outputs": [
    {
     "name": "stdout",
     "output_type": "stream",
     "text": [
      "+-------+------+------+\n",
      "|   name|deptid|salary|\n",
      "+-------+------+------+\n",
      "|Pradeep|   101| 10000|\n",
      "|  Nijan|   102| 20000|\n",
      "|    Sai|   105| 25000|\n",
      "|  Saran|   108| 15000|\n",
      "+-------+------+------+\n",
      "\n"
     ]
    }
   ],
   "source": [
    "# RegEx\n",
    "\n",
    "df_emp.show()"
   ]
  },
  {
   "cell_type": "code",
   "execution_count": 282,
   "id": "168bd76a-8997-4d43-91d0-1b0606f05c4a",
   "metadata": {},
   "outputs": [
    {
     "name": "stdout",
     "output_type": "stream",
     "text": [
      "+--------------------+\n",
      "|                   s|\n",
      "+--------------------+\n",
      "|1iou23y19837qiug9...|\n",
      "+--------------------+\n",
      "\n"
     ]
    }
   ],
   "source": [
    "exm.show()"
   ]
  },
  {
   "cell_type": "code",
   "execution_count": 288,
   "id": "830159f8-7f05-466e-92c0-9445f039daf0",
   "metadata": {},
   "outputs": [
    {
     "name": "stdout",
     "output_type": "stream",
     "text": [
      "+--------------------+------------------------------------+\n",
      "|                   s|regexp_extract(s, (\\d+)(\\w+)(\\s), 1)|\n",
      "+--------------------+------------------------------------+\n",
      "|1iou23y19837qiug9...|                                    |\n",
      "+--------------------+------------------------------------+\n",
      "\n"
     ]
    }
   ],
   "source": [
    "exm.select(exm.s,regexp_extract(exm.s,'(\\d+)(\\w+)(\\s)',1)).show()"
   ]
  },
  {
   "cell_type": "code",
   "execution_count": 289,
   "id": "0b8b9dd8-720d-4471-9671-445158cf94d2",
   "metadata": {},
   "outputs": [
    {
     "name": "stdout",
     "output_type": "stream",
     "text": [
      "+-------+------+------+------------+\n",
      "|   name|deptid|salary|current_date|\n",
      "+-------+------+------+------------+\n",
      "|Pradeep|   101| 10000|  2024-01-11|\n",
      "|  Nijan|   102| 20000|  2024-01-11|\n",
      "|    Sai|   105| 25000|  2024-01-11|\n",
      "|  Saran|   108| 15000|  2024-01-11|\n",
      "+-------+------+------+------------+\n",
      "\n"
     ]
    }
   ],
   "source": [
    "# date Functions\n",
    "\n",
    "df_emp.withColumn('current_date',current_date()).show()\n"
   ]
  },
  {
   "cell_type": "code",
   "execution_count": 290,
   "id": "0c0db8e4-1f5f-4f3b-9b21-3b23d7edc4f4",
   "metadata": {},
   "outputs": [
    {
     "name": "stdout",
     "output_type": "stream",
     "text": [
      "+-------+------+------+--------------------+\n",
      "|   name|deptid|salary|        current_date|\n",
      "+-------+------+------+--------------------+\n",
      "|Pradeep|   101| 10000|2024-01-11 16:20:...|\n",
      "|  Nijan|   102| 20000|2024-01-11 16:20:...|\n",
      "|    Sai|   105| 25000|2024-01-11 16:20:...|\n",
      "|  Saran|   108| 15000|2024-01-11 16:20:...|\n",
      "+-------+------+------+--------------------+\n",
      "\n"
     ]
    }
   ],
   "source": [
    "df_emp.withColumn('current_date',current_timestamp()).show()"
   ]
  },
  {
   "cell_type": "code",
   "execution_count": 291,
   "id": "fd3e0dfc-990d-49ad-892a-cc7413e9a161",
   "metadata": {},
   "outputs": [
    {
     "name": "stdout",
     "output_type": "stream",
     "text": [
      "+-------+------+------+------------+----------+\n",
      "|   name|deptid|salary|current_date|  next_day|\n",
      "+-------+------+------+------------+----------+\n",
      "|Pradeep|   101| 10000|  2024-01-11|2024-01-15|\n",
      "|  Nijan|   102| 20000|  2024-01-11|2024-01-15|\n",
      "|    Sai|   105| 25000|  2024-01-11|2024-01-15|\n",
      "|  Saran|   108| 15000|  2024-01-11|2024-01-15|\n",
      "+-------+------+------+------------+----------+\n",
      "\n"
     ]
    }
   ],
   "source": [
    "df_emp.withColumn('current_date',current_date()).withColumn('next_day',next_day(current_date(),'Mon')).show()"
   ]
  },
  {
   "cell_type": "code",
   "execution_count": 292,
   "id": "8082a6d8-fc31-40f6-849d-c2c8cef6df9c",
   "metadata": {},
   "outputs": [
    {
     "name": "stdout",
     "output_type": "stream",
     "text": [
      "+-------+------+------+------------+----------+\n",
      "|   name|deptid|salary|current_date|  last_day|\n",
      "+-------+------+------+------------+----------+\n",
      "|Pradeep|   101| 10000|  2024-01-11|2024-01-31|\n",
      "|  Nijan|   102| 20000|  2024-01-11|2024-01-31|\n",
      "|    Sai|   105| 25000|  2024-01-11|2024-01-31|\n",
      "|  Saran|   108| 15000|  2024-01-11|2024-01-31|\n",
      "+-------+------+------+------------+----------+\n",
      "\n"
     ]
    }
   ],
   "source": [
    "df_emp.withColumn('current_date',current_date()).withColumn('last_day',last_day(current_date())).show()"
   ]
  },
  {
   "cell_type": "code",
   "execution_count": 293,
   "id": "a0a7cc4c-f8a5-458a-914c-0c77fb09e434",
   "metadata": {},
   "outputs": [
    {
     "name": "stdout",
     "output_type": "stream",
     "text": [
      "+-------+-------------------+-----------+---------------+\n",
      "|orderid|          orderdate|ordercustid|    orderstatus|\n",
      "+-------+-------------------+-----------+---------------+\n",
      "|      1|2013-07-25 00:00:00|      11599|         CLOSED|\n",
      "|      2|2013-07-25 00:00:00|        256|PENDING_PAYMENT|\n",
      "|      3|2013-07-25 00:00:00|      12111|       COMPLETE|\n",
      "|      4|2013-07-25 00:00:00|       8827|         CLOSED|\n",
      "|      5|2013-07-25 00:00:00|      11318|       COMPLETE|\n",
      "|      6|2013-07-25 00:00:00|       7130|       COMPLETE|\n",
      "|      7|2013-07-25 00:00:00|       4530|       COMPLETE|\n",
      "|      8|2013-07-25 00:00:00|       2911|     PROCESSING|\n",
      "|      9|2013-07-25 00:00:00|       5657|PENDING_PAYMENT|\n",
      "|     10|2013-07-25 00:00:00|       5648|PENDING_PAYMENT|\n",
      "|     11|2013-07-25 00:00:00|        918| PAYMENT_REVIEW|\n",
      "|     12|2013-07-25 00:00:00|       1837|         CLOSED|\n",
      "|     13|2013-07-25 00:00:00|       9149|PENDING_PAYMENT|\n",
      "|     14|2013-07-25 00:00:00|       9842|     PROCESSING|\n",
      "|     15|2013-07-25 00:00:00|       2568|       COMPLETE|\n",
      "|     16|2013-07-25 00:00:00|       7276|PENDING_PAYMENT|\n",
      "|     17|2013-07-25 00:00:00|       2667|       COMPLETE|\n",
      "|     18|2013-07-25 00:00:00|       1205|         CLOSED|\n",
      "|     19|2013-07-25 00:00:00|       9488|PENDING_PAYMENT|\n",
      "|     20|2013-07-25 00:00:00|       9198|     PROCESSING|\n",
      "+-------+-------------------+-----------+---------------+\n",
      "only showing top 20 rows\n",
      "\n"
     ]
    }
   ],
   "source": [
    "ord.show()"
   ]
  },
  {
   "cell_type": "code",
   "execution_count": 294,
   "id": "d4cce962-804f-4007-b446-7fdfa2535fd5",
   "metadata": {},
   "outputs": [
    {
     "name": "stdout",
     "output_type": "stream",
     "text": [
      "+-------+-------------------+-----------+---------------+---------+\n",
      "|orderid|          orderdate|ordercustid|    orderstatus|DayOfWeek|\n",
      "+-------+-------------------+-----------+---------------+---------+\n",
      "|      1|2013-07-25 00:00:00|      11599|         CLOSED|        5|\n",
      "|      2|2013-07-25 00:00:00|        256|PENDING_PAYMENT|        5|\n",
      "|      3|2013-07-25 00:00:00|      12111|       COMPLETE|        5|\n",
      "|      4|2013-07-25 00:00:00|       8827|         CLOSED|        5|\n",
      "|      5|2013-07-25 00:00:00|      11318|       COMPLETE|        5|\n",
      "|      6|2013-07-25 00:00:00|       7130|       COMPLETE|        5|\n",
      "|      7|2013-07-25 00:00:00|       4530|       COMPLETE|        5|\n",
      "|      8|2013-07-25 00:00:00|       2911|     PROCESSING|        5|\n",
      "|      9|2013-07-25 00:00:00|       5657|PENDING_PAYMENT|        5|\n",
      "|     10|2013-07-25 00:00:00|       5648|PENDING_PAYMENT|        5|\n",
      "|     11|2013-07-25 00:00:00|        918| PAYMENT_REVIEW|        5|\n",
      "|     12|2013-07-25 00:00:00|       1837|         CLOSED|        5|\n",
      "|     13|2013-07-25 00:00:00|       9149|PENDING_PAYMENT|        5|\n",
      "|     14|2013-07-25 00:00:00|       9842|     PROCESSING|        5|\n",
      "|     15|2013-07-25 00:00:00|       2568|       COMPLETE|        5|\n",
      "|     16|2013-07-25 00:00:00|       7276|PENDING_PAYMENT|        5|\n",
      "|     17|2013-07-25 00:00:00|       2667|       COMPLETE|        5|\n",
      "|     18|2013-07-25 00:00:00|       1205|         CLOSED|        5|\n",
      "|     19|2013-07-25 00:00:00|       9488|PENDING_PAYMENT|        5|\n",
      "|     20|2013-07-25 00:00:00|       9198|     PROCESSING|        5|\n",
      "+-------+-------------------+-----------+---------------+---------+\n",
      "only showing top 20 rows\n",
      "\n"
     ]
    }
   ],
   "source": [
    "ord.withColumn('DayOfWeek',dayofweek(ord.orderdate)).show()"
   ]
  },
  {
   "cell_type": "code",
   "execution_count": 295,
   "id": "e8374869-8f3b-4ebb-852a-a7bdb7561fe8",
   "metadata": {},
   "outputs": [
    {
     "name": "stdout",
     "output_type": "stream",
     "text": [
      "+-------+-------------------+-----------+---------------+----------+\n",
      "|orderid|          orderdate|ordercustid|    orderstatus|DayOfMonth|\n",
      "+-------+-------------------+-----------+---------------+----------+\n",
      "|      1|2013-07-25 00:00:00|      11599|         CLOSED|        25|\n",
      "|      2|2013-07-25 00:00:00|        256|PENDING_PAYMENT|        25|\n",
      "|      3|2013-07-25 00:00:00|      12111|       COMPLETE|        25|\n",
      "|      4|2013-07-25 00:00:00|       8827|         CLOSED|        25|\n",
      "|      5|2013-07-25 00:00:00|      11318|       COMPLETE|        25|\n",
      "|      6|2013-07-25 00:00:00|       7130|       COMPLETE|        25|\n",
      "|      7|2013-07-25 00:00:00|       4530|       COMPLETE|        25|\n",
      "|      8|2013-07-25 00:00:00|       2911|     PROCESSING|        25|\n",
      "|      9|2013-07-25 00:00:00|       5657|PENDING_PAYMENT|        25|\n",
      "|     10|2013-07-25 00:00:00|       5648|PENDING_PAYMENT|        25|\n",
      "|     11|2013-07-25 00:00:00|        918| PAYMENT_REVIEW|        25|\n",
      "|     12|2013-07-25 00:00:00|       1837|         CLOSED|        25|\n",
      "|     13|2013-07-25 00:00:00|       9149|PENDING_PAYMENT|        25|\n",
      "|     14|2013-07-25 00:00:00|       9842|     PROCESSING|        25|\n",
      "|     15|2013-07-25 00:00:00|       2568|       COMPLETE|        25|\n",
      "|     16|2013-07-25 00:00:00|       7276|PENDING_PAYMENT|        25|\n",
      "|     17|2013-07-25 00:00:00|       2667|       COMPLETE|        25|\n",
      "|     18|2013-07-25 00:00:00|       1205|         CLOSED|        25|\n",
      "|     19|2013-07-25 00:00:00|       9488|PENDING_PAYMENT|        25|\n",
      "|     20|2013-07-25 00:00:00|       9198|     PROCESSING|        25|\n",
      "+-------+-------------------+-----------+---------------+----------+\n",
      "only showing top 20 rows\n",
      "\n"
     ]
    }
   ],
   "source": [
    "ord.withColumn('DayOfMonth',dayofmonth(ord.orderdate)).show()"
   ]
  },
  {
   "cell_type": "code",
   "execution_count": 296,
   "id": "cdfbd8b0-ca1b-4d75-a6e4-42edc01da38d",
   "metadata": {},
   "outputs": [
    {
     "name": "stdout",
     "output_type": "stream",
     "text": [
      "+-------+-------------------+-----------+---------------+---------+\n",
      "|orderid|          orderdate|ordercustid|    orderstatus|DayOfyear|\n",
      "+-------+-------------------+-----------+---------------+---------+\n",
      "|      1|2013-07-25 00:00:00|      11599|         CLOSED|      206|\n",
      "|      2|2013-07-25 00:00:00|        256|PENDING_PAYMENT|      206|\n",
      "|      3|2013-07-25 00:00:00|      12111|       COMPLETE|      206|\n",
      "|      4|2013-07-25 00:00:00|       8827|         CLOSED|      206|\n",
      "|      5|2013-07-25 00:00:00|      11318|       COMPLETE|      206|\n",
      "|      6|2013-07-25 00:00:00|       7130|       COMPLETE|      206|\n",
      "|      7|2013-07-25 00:00:00|       4530|       COMPLETE|      206|\n",
      "|      8|2013-07-25 00:00:00|       2911|     PROCESSING|      206|\n",
      "|      9|2013-07-25 00:00:00|       5657|PENDING_PAYMENT|      206|\n",
      "|     10|2013-07-25 00:00:00|       5648|PENDING_PAYMENT|      206|\n",
      "|     11|2013-07-25 00:00:00|        918| PAYMENT_REVIEW|      206|\n",
      "|     12|2013-07-25 00:00:00|       1837|         CLOSED|      206|\n",
      "|     13|2013-07-25 00:00:00|       9149|PENDING_PAYMENT|      206|\n",
      "|     14|2013-07-25 00:00:00|       9842|     PROCESSING|      206|\n",
      "|     15|2013-07-25 00:00:00|       2568|       COMPLETE|      206|\n",
      "|     16|2013-07-25 00:00:00|       7276|PENDING_PAYMENT|      206|\n",
      "|     17|2013-07-25 00:00:00|       2667|       COMPLETE|      206|\n",
      "|     18|2013-07-25 00:00:00|       1205|         CLOSED|      206|\n",
      "|     19|2013-07-25 00:00:00|       9488|PENDING_PAYMENT|      206|\n",
      "|     20|2013-07-25 00:00:00|       9198|     PROCESSING|      206|\n",
      "+-------+-------------------+-----------+---------------+---------+\n",
      "only showing top 20 rows\n",
      "\n"
     ]
    }
   ],
   "source": [
    "ord.withColumn('DayOfyear',dayofyear(ord.orderdate)).show()"
   ]
  },
  {
   "cell_type": "code",
   "execution_count": 297,
   "id": "ad5d1499-aad0-49f0-97e4-625f2dca57a3",
   "metadata": {},
   "outputs": [
    {
     "name": "stdout",
     "output_type": "stream",
     "text": [
      "+-------+-------------------+-----------+---------------+----------+\n",
      "|orderid|          orderdate|ordercustid|    orderstatus|WeekOfYear|\n",
      "+-------+-------------------+-----------+---------------+----------+\n",
      "|      1|2013-07-25 00:00:00|      11599|         CLOSED|        30|\n",
      "|      2|2013-07-25 00:00:00|        256|PENDING_PAYMENT|        30|\n",
      "|      3|2013-07-25 00:00:00|      12111|       COMPLETE|        30|\n",
      "|      4|2013-07-25 00:00:00|       8827|         CLOSED|        30|\n",
      "|      5|2013-07-25 00:00:00|      11318|       COMPLETE|        30|\n",
      "|      6|2013-07-25 00:00:00|       7130|       COMPLETE|        30|\n",
      "|      7|2013-07-25 00:00:00|       4530|       COMPLETE|        30|\n",
      "|      8|2013-07-25 00:00:00|       2911|     PROCESSING|        30|\n",
      "|      9|2013-07-25 00:00:00|       5657|PENDING_PAYMENT|        30|\n",
      "|     10|2013-07-25 00:00:00|       5648|PENDING_PAYMENT|        30|\n",
      "|     11|2013-07-25 00:00:00|        918| PAYMENT_REVIEW|        30|\n",
      "|     12|2013-07-25 00:00:00|       1837|         CLOSED|        30|\n",
      "|     13|2013-07-25 00:00:00|       9149|PENDING_PAYMENT|        30|\n",
      "|     14|2013-07-25 00:00:00|       9842|     PROCESSING|        30|\n",
      "|     15|2013-07-25 00:00:00|       2568|       COMPLETE|        30|\n",
      "|     16|2013-07-25 00:00:00|       7276|PENDING_PAYMENT|        30|\n",
      "|     17|2013-07-25 00:00:00|       2667|       COMPLETE|        30|\n",
      "|     18|2013-07-25 00:00:00|       1205|         CLOSED|        30|\n",
      "|     19|2013-07-25 00:00:00|       9488|PENDING_PAYMENT|        30|\n",
      "|     20|2013-07-25 00:00:00|       9198|     PROCESSING|        30|\n",
      "+-------+-------------------+-----------+---------------+----------+\n",
      "only showing top 20 rows\n",
      "\n"
     ]
    }
   ],
   "source": [
    "ord.withColumn('WeekOfYear',weekofyear(ord.orderdate)).show()"
   ]
  },
  {
   "cell_type": "code",
   "execution_count": 298,
   "id": "62375268-bd82-4e56-af1d-7224a7ed7522",
   "metadata": {},
   "outputs": [
    {
     "name": "stdout",
     "output_type": "stream",
     "text": [
      "+-------+-------------------+-----------+---------------+------+\n",
      "|orderid|          orderdate|ordercustid|    orderstatus|Second|\n",
      "+-------+-------------------+-----------+---------------+------+\n",
      "|      1|2013-07-25 00:00:00|      11599|         CLOSED|     0|\n",
      "|      2|2013-07-25 00:00:00|        256|PENDING_PAYMENT|     0|\n",
      "|      3|2013-07-25 00:00:00|      12111|       COMPLETE|     0|\n",
      "|      4|2013-07-25 00:00:00|       8827|         CLOSED|     0|\n",
      "|      5|2013-07-25 00:00:00|      11318|       COMPLETE|     0|\n",
      "|      6|2013-07-25 00:00:00|       7130|       COMPLETE|     0|\n",
      "|      7|2013-07-25 00:00:00|       4530|       COMPLETE|     0|\n",
      "|      8|2013-07-25 00:00:00|       2911|     PROCESSING|     0|\n",
      "|      9|2013-07-25 00:00:00|       5657|PENDING_PAYMENT|     0|\n",
      "|     10|2013-07-25 00:00:00|       5648|PENDING_PAYMENT|     0|\n",
      "|     11|2013-07-25 00:00:00|        918| PAYMENT_REVIEW|     0|\n",
      "|     12|2013-07-25 00:00:00|       1837|         CLOSED|     0|\n",
      "|     13|2013-07-25 00:00:00|       9149|PENDING_PAYMENT|     0|\n",
      "|     14|2013-07-25 00:00:00|       9842|     PROCESSING|     0|\n",
      "|     15|2013-07-25 00:00:00|       2568|       COMPLETE|     0|\n",
      "|     16|2013-07-25 00:00:00|       7276|PENDING_PAYMENT|     0|\n",
      "|     17|2013-07-25 00:00:00|       2667|       COMPLETE|     0|\n",
      "|     18|2013-07-25 00:00:00|       1205|         CLOSED|     0|\n",
      "|     19|2013-07-25 00:00:00|       9488|PENDING_PAYMENT|     0|\n",
      "|     20|2013-07-25 00:00:00|       9198|     PROCESSING|     0|\n",
      "+-------+-------------------+-----------+---------------+------+\n",
      "only showing top 20 rows\n",
      "\n"
     ]
    }
   ],
   "source": [
    "ord.withColumn('Second',second(ord.orderdate)).show()"
   ]
  },
  {
   "cell_type": "code",
   "execution_count": 305,
   "id": "3bafa382-816c-4986-aaec-c8e6b29285e5",
   "metadata": {},
   "outputs": [
    {
     "name": "stdout",
     "output_type": "stream",
     "text": [
      "+-------+-------------------+-----------+---------------+----------+\n",
      "|orderid|          orderdate|ordercustid|    orderstatus|order_date|\n",
      "+-------+-------------------+-----------+---------------+----------+\n",
      "|      1|2013-07-25 00:00:00|      11599|         CLOSED|2013-07-25|\n",
      "|      2|2013-07-25 00:00:00|        256|PENDING_PAYMENT|2013-07-25|\n",
      "|      3|2013-07-25 00:00:00|      12111|       COMPLETE|2013-07-25|\n",
      "|      4|2013-07-25 00:00:00|       8827|         CLOSED|2013-07-25|\n",
      "|      5|2013-07-25 00:00:00|      11318|       COMPLETE|2013-07-25|\n",
      "|      6|2013-07-25 00:00:00|       7130|       COMPLETE|2013-07-25|\n",
      "|      7|2013-07-25 00:00:00|       4530|       COMPLETE|2013-07-25|\n",
      "|      8|2013-07-25 00:00:00|       2911|     PROCESSING|2013-07-25|\n",
      "|      9|2013-07-25 00:00:00|       5657|PENDING_PAYMENT|2013-07-25|\n",
      "|     10|2013-07-25 00:00:00|       5648|PENDING_PAYMENT|2013-07-25|\n",
      "|     11|2013-07-25 00:00:00|        918| PAYMENT_REVIEW|2013-07-25|\n",
      "|     12|2013-07-25 00:00:00|       1837|         CLOSED|2013-07-25|\n",
      "|     13|2013-07-25 00:00:00|       9149|PENDING_PAYMENT|2013-07-25|\n",
      "|     14|2013-07-25 00:00:00|       9842|     PROCESSING|2013-07-25|\n",
      "|     15|2013-07-25 00:00:00|       2568|       COMPLETE|2013-07-25|\n",
      "|     16|2013-07-25 00:00:00|       7276|PENDING_PAYMENT|2013-07-25|\n",
      "|     17|2013-07-25 00:00:00|       2667|       COMPLETE|2013-07-25|\n",
      "|     18|2013-07-25 00:00:00|       1205|         CLOSED|2013-07-25|\n",
      "|     19|2013-07-25 00:00:00|       9488|PENDING_PAYMENT|2013-07-25|\n",
      "|     20|2013-07-25 00:00:00|       9198|     PROCESSING|2013-07-25|\n",
      "+-------+-------------------+-----------+---------------+----------+\n",
      "only showing top 20 rows\n",
      "\n"
     ]
    }
   ],
   "source": [
    "ord.withColumn('order_date',split(ord.orderdate,' ')[0]).show()"
   ]
  },
  {
   "cell_type": "code",
   "execution_count": 306,
   "id": "6c6656a7-1a2d-4f4e-a8a9-2ee827fe4540",
   "metadata": {},
   "outputs": [
    {
     "name": "stdout",
     "output_type": "stream",
     "text": [
      "+-------+-------------------+-----------+---------------+----------+\n",
      "|orderid|          orderdate|ordercustid|    orderstatus|order_date|\n",
      "+-------+-------------------+-----------+---------------+----------+\n",
      "|      1|2013-07-25 00:00:00|      11599|         CLOSED|2013-07-25|\n",
      "|      2|2013-07-25 00:00:00|        256|PENDING_PAYMENT|2013-07-25|\n",
      "|      3|2013-07-25 00:00:00|      12111|       COMPLETE|2013-07-25|\n",
      "|      4|2013-07-25 00:00:00|       8827|         CLOSED|2013-07-25|\n",
      "|      5|2013-07-25 00:00:00|      11318|       COMPLETE|2013-07-25|\n",
      "|      6|2013-07-25 00:00:00|       7130|       COMPLETE|2013-07-25|\n",
      "|      7|2013-07-25 00:00:00|       4530|       COMPLETE|2013-07-25|\n",
      "|      8|2013-07-25 00:00:00|       2911|     PROCESSING|2013-07-25|\n",
      "|      9|2013-07-25 00:00:00|       5657|PENDING_PAYMENT|2013-07-25|\n",
      "|     10|2013-07-25 00:00:00|       5648|PENDING_PAYMENT|2013-07-25|\n",
      "|     11|2013-07-25 00:00:00|        918| PAYMENT_REVIEW|2013-07-25|\n",
      "|     12|2013-07-25 00:00:00|       1837|         CLOSED|2013-07-25|\n",
      "|     13|2013-07-25 00:00:00|       9149|PENDING_PAYMENT|2013-07-25|\n",
      "|     14|2013-07-25 00:00:00|       9842|     PROCESSING|2013-07-25|\n",
      "|     15|2013-07-25 00:00:00|       2568|       COMPLETE|2013-07-25|\n",
      "|     16|2013-07-25 00:00:00|       7276|PENDING_PAYMENT|2013-07-25|\n",
      "|     17|2013-07-25 00:00:00|       2667|       COMPLETE|2013-07-25|\n",
      "|     18|2013-07-25 00:00:00|       1205|         CLOSED|2013-07-25|\n",
      "|     19|2013-07-25 00:00:00|       9488|PENDING_PAYMENT|2013-07-25|\n",
      "|     20|2013-07-25 00:00:00|       9198|     PROCESSING|2013-07-25|\n",
      "+-------+-------------------+-----------+---------------+----------+\n",
      "only showing top 20 rows\n",
      "\n"
     ]
    }
   ],
   "source": [
    "ordnew = ord.withColumn('order_date',split(ord.orderdate,' ')[0])\n",
    "ordnew.show()"
   ]
  },
  {
   "cell_type": "code",
   "execution_count": 307,
   "id": "24157489-4a38-437c-9843-b76497089e34",
   "metadata": {},
   "outputs": [
    {
     "name": "stdout",
     "output_type": "stream",
     "text": [
      "+-------------------------------------------+\n",
      "|months_between(orderdate, order_date, true)|\n",
      "+-------------------------------------------+\n",
      "|                                        0.0|\n",
      "|                                        0.0|\n",
      "|                                        0.0|\n",
      "|                                        0.0|\n",
      "|                                        0.0|\n",
      "|                                        0.0|\n",
      "|                                        0.0|\n",
      "|                                        0.0|\n",
      "|                                        0.0|\n",
      "|                                        0.0|\n",
      "|                                        0.0|\n",
      "|                                        0.0|\n",
      "|                                        0.0|\n",
      "|                                        0.0|\n",
      "|                                        0.0|\n",
      "|                                        0.0|\n",
      "|                                        0.0|\n",
      "|                                        0.0|\n",
      "|                                        0.0|\n",
      "|                                        0.0|\n",
      "+-------------------------------------------+\n",
      "only showing top 20 rows\n",
      "\n"
     ]
    }
   ],
   "source": [
    "ordnew.select(months_between('orderdate','order_date')).show()"
   ]
  },
  {
   "cell_type": "code",
   "execution_count": 308,
   "id": "1bb16bf7-00ae-40f9-a8a2-91298de9b124",
   "metadata": {},
   "outputs": [
    {
     "name": "stdout",
     "output_type": "stream",
     "text": [
      "+------------------------+\n",
      "|date_add(order_date, 10)|\n",
      "+------------------------+\n",
      "|              2013-08-04|\n",
      "|              2013-08-04|\n",
      "|              2013-08-04|\n",
      "|              2013-08-04|\n",
      "|              2013-08-04|\n",
      "|              2013-08-04|\n",
      "|              2013-08-04|\n",
      "|              2013-08-04|\n",
      "|              2013-08-04|\n",
      "|              2013-08-04|\n",
      "|              2013-08-04|\n",
      "|              2013-08-04|\n",
      "|              2013-08-04|\n",
      "|              2013-08-04|\n",
      "|              2013-08-04|\n",
      "|              2013-08-04|\n",
      "|              2013-08-04|\n",
      "|              2013-08-04|\n",
      "|              2013-08-04|\n",
      "|              2013-08-04|\n",
      "+------------------------+\n",
      "only showing top 20 rows\n",
      "\n"
     ]
    }
   ],
   "source": [
    "ordnew.select(date_add('order_date',10)).show()"
   ]
  },
  {
   "cell_type": "code",
   "execution_count": 309,
   "id": "f4227ab7-ca9b-4a7b-90cf-24654269fd88",
   "metadata": {},
   "outputs": [
    {
     "name": "stdout",
     "output_type": "stream",
     "text": [
      "+------------------------+\n",
      "|date_sub(order_date, 10)|\n",
      "+------------------------+\n",
      "|              2013-07-15|\n",
      "|              2013-07-15|\n",
      "|              2013-07-15|\n",
      "|              2013-07-15|\n",
      "|              2013-07-15|\n",
      "|              2013-07-15|\n",
      "|              2013-07-15|\n",
      "|              2013-07-15|\n",
      "|              2013-07-15|\n",
      "|              2013-07-15|\n",
      "|              2013-07-15|\n",
      "|              2013-07-15|\n",
      "|              2013-07-15|\n",
      "|              2013-07-15|\n",
      "|              2013-07-15|\n",
      "|              2013-07-15|\n",
      "|              2013-07-15|\n",
      "|              2013-07-15|\n",
      "|              2013-07-15|\n",
      "|              2013-07-15|\n",
      "+------------------------+\n",
      "only showing top 20 rows\n",
      "\n"
     ]
    }
   ],
   "source": [
    "ordnew.select(date_sub('order_date',10)).show()"
   ]
  },
  {
   "cell_type": "code",
   "execution_count": 310,
   "id": "7f609cfe-7cdb-4b52-9d59-089c6c02d350",
   "metadata": {},
   "outputs": [
    {
     "name": "stdout",
     "output_type": "stream",
     "text": [
      "+-------------------------+\n",
      "|add_months(order_date, 5)|\n",
      "+-------------------------+\n",
      "|               2013-12-25|\n",
      "|               2013-12-25|\n",
      "|               2013-12-25|\n",
      "|               2013-12-25|\n",
      "|               2013-12-25|\n",
      "|               2013-12-25|\n",
      "|               2013-12-25|\n",
      "|               2013-12-25|\n",
      "|               2013-12-25|\n",
      "|               2013-12-25|\n",
      "|               2013-12-25|\n",
      "|               2013-12-25|\n",
      "|               2013-12-25|\n",
      "|               2013-12-25|\n",
      "|               2013-12-25|\n",
      "|               2013-12-25|\n",
      "|               2013-12-25|\n",
      "|               2013-12-25|\n",
      "|               2013-12-25|\n",
      "|               2013-12-25|\n",
      "+-------------------------+\n",
      "only showing top 20 rows\n",
      "\n"
     ]
    }
   ],
   "source": [
    "ordnew.select(add_months('order_date',5)).show()"
   ]
  },
  {
   "cell_type": "code",
   "execution_count": 311,
   "id": "2832aa66-4d4c-444d-bc1d-4c2e3695e326",
   "metadata": {},
   "outputs": [
    {
     "name": "stdout",
     "output_type": "stream",
     "text": [
      "+-------------------------------+\n",
      "|datediff(order_date, orderdate)|\n",
      "+-------------------------------+\n",
      "|                              0|\n",
      "|                              0|\n",
      "|                              0|\n",
      "|                              0|\n",
      "|                              0|\n",
      "|                              0|\n",
      "|                              0|\n",
      "|                              0|\n",
      "|                              0|\n",
      "|                              0|\n",
      "|                              0|\n",
      "|                              0|\n",
      "|                              0|\n",
      "|                              0|\n",
      "|                              0|\n",
      "|                              0|\n",
      "|                              0|\n",
      "|                              0|\n",
      "|                              0|\n",
      "|                              0|\n",
      "+-------------------------------+\n",
      "only showing top 20 rows\n",
      "\n"
     ]
    }
   ],
   "source": [
    "ordnew.select(datediff('order_date','orderdate')).show()"
   ]
  },
  {
   "cell_type": "code",
   "execution_count": 312,
   "id": "c6d60a7e-e67d-4615-bde1-333957a3c2dc",
   "metadata": {},
   "outputs": [
    {
     "name": "stdout",
     "output_type": "stream",
     "text": [
      "+----------------------------+\n",
      "|date_trunc(YYYY, order_date)|\n",
      "+----------------------------+\n",
      "|         2013-01-01 00:00:00|\n",
      "|         2013-01-01 00:00:00|\n",
      "|         2013-01-01 00:00:00|\n",
      "|         2013-01-01 00:00:00|\n",
      "|         2013-01-01 00:00:00|\n",
      "|         2013-01-01 00:00:00|\n",
      "|         2013-01-01 00:00:00|\n",
      "|         2013-01-01 00:00:00|\n",
      "|         2013-01-01 00:00:00|\n",
      "|         2013-01-01 00:00:00|\n",
      "|         2013-01-01 00:00:00|\n",
      "|         2013-01-01 00:00:00|\n",
      "|         2013-01-01 00:00:00|\n",
      "|         2013-01-01 00:00:00|\n",
      "|         2013-01-01 00:00:00|\n",
      "|         2013-01-01 00:00:00|\n",
      "|         2013-01-01 00:00:00|\n",
      "|         2013-01-01 00:00:00|\n",
      "|         2013-01-01 00:00:00|\n",
      "|         2013-01-01 00:00:00|\n",
      "+----------------------------+\n",
      "only showing top 20 rows\n",
      "\n"
     ]
    }
   ],
   "source": [
    "# date truncate\n",
    "ordnew.select(date_trunc('YYYY','order_date')).show()"
   ]
  },
  {
   "cell_type": "code",
   "execution_count": 313,
   "id": "ffd95f7a-5497-49d5-a872-f4573af24134",
   "metadata": {},
   "outputs": [
    {
     "name": "stdout",
     "output_type": "stream",
     "text": [
      "+-------+-------------------+-----------+---------------+----------+\n",
      "|orderid|          orderdate|ordercustid|    orderstatus|order_date|\n",
      "+-------+-------------------+-----------+---------------+----------+\n",
      "|      1|2013-07-25 00:00:00|      11599|         CLOSED|2013-07-25|\n",
      "|      2|2013-07-25 00:00:00|        256|PENDING_PAYMENT|2013-07-25|\n",
      "|      3|2013-07-25 00:00:00|      12111|       COMPLETE|2013-07-25|\n",
      "|      4|2013-07-25 00:00:00|       8827|         CLOSED|2013-07-25|\n",
      "|      5|2013-07-25 00:00:00|      11318|       COMPLETE|2013-07-25|\n",
      "|      6|2013-07-25 00:00:00|       7130|       COMPLETE|2013-07-25|\n",
      "|      7|2013-07-25 00:00:00|       4530|       COMPLETE|2013-07-25|\n",
      "|      8|2013-07-25 00:00:00|       2911|     PROCESSING|2013-07-25|\n",
      "|      9|2013-07-25 00:00:00|       5657|PENDING_PAYMENT|2013-07-25|\n",
      "|     10|2013-07-25 00:00:00|       5648|PENDING_PAYMENT|2013-07-25|\n",
      "|     11|2013-07-25 00:00:00|        918| PAYMENT_REVIEW|2013-07-25|\n",
      "|     12|2013-07-25 00:00:00|       1837|         CLOSED|2013-07-25|\n",
      "|     13|2013-07-25 00:00:00|       9149|PENDING_PAYMENT|2013-07-25|\n",
      "|     14|2013-07-25 00:00:00|       9842|     PROCESSING|2013-07-25|\n",
      "|     15|2013-07-25 00:00:00|       2568|       COMPLETE|2013-07-25|\n",
      "|     16|2013-07-25 00:00:00|       7276|PENDING_PAYMENT|2013-07-25|\n",
      "|     17|2013-07-25 00:00:00|       2667|       COMPLETE|2013-07-25|\n",
      "|     18|2013-07-25 00:00:00|       1205|         CLOSED|2013-07-25|\n",
      "|     19|2013-07-25 00:00:00|       9488|PENDING_PAYMENT|2013-07-25|\n",
      "|     20|2013-07-25 00:00:00|       9198|     PROCESSING|2013-07-25|\n",
      "+-------+-------------------+-----------+---------------+----------+\n",
      "only showing top 20 rows\n",
      "\n"
     ]
    }
   ],
   "source": [
    "ordnew.show()"
   ]
  },
  {
   "cell_type": "code",
   "execution_count": 315,
   "id": "199d3cf2-91ef-40a3-9e9a-28cc58179dcf",
   "metadata": {},
   "outputs": [
    {
     "name": "stdout",
     "output_type": "stream",
     "text": [
      "+---------------------+\n",
      "|(orderstatus IS NULL)|\n",
      "+---------------------+\n",
      "|                false|\n",
      "|                false|\n",
      "|                false|\n",
      "|                false|\n",
      "|                false|\n",
      "|                false|\n",
      "|                false|\n",
      "|                false|\n",
      "|                false|\n",
      "|                false|\n",
      "|                false|\n",
      "|                false|\n",
      "|                false|\n",
      "|                false|\n",
      "|                false|\n",
      "|                false|\n",
      "|                false|\n",
      "|                false|\n",
      "|                false|\n",
      "|                false|\n",
      "+---------------------+\n",
      "only showing top 20 rows\n",
      "\n"
     ]
    }
   ],
   "source": [
    "ordnew.select(isnull(ordnew.orderstatus)).show()"
   ]
  },
  {
   "cell_type": "code",
   "execution_count": 317,
   "id": "88a00b18-33f1-418d-8877-ff6dc6bfaa2f",
   "metadata": {},
   "outputs": [
    {
     "name": "stdout",
     "output_type": "stream",
     "text": [
      "+--------------+\n",
      "|isnan(orderid)|\n",
      "+--------------+\n",
      "|         false|\n",
      "|         false|\n",
      "|         false|\n",
      "|         false|\n",
      "|         false|\n",
      "|         false|\n",
      "|         false|\n",
      "|         false|\n",
      "|         false|\n",
      "|         false|\n",
      "|         false|\n",
      "|         false|\n",
      "|         false|\n",
      "|         false|\n",
      "|         false|\n",
      "|         false|\n",
      "|         false|\n",
      "|         false|\n",
      "|         false|\n",
      "|         false|\n",
      "+--------------+\n",
      "only showing top 20 rows\n",
      "\n"
     ]
    }
   ],
   "source": [
    "ordnew.select(isnan(ordnew.orderid)).show()"
   ]
  },
  {
   "cell_type": "code",
   "execution_count": 318,
   "id": "4cd3bcf9-29bf-48db-9de5-25b0cb5fbce6",
   "metadata": {},
   "outputs": [
    {
     "name": "stdout",
     "output_type": "stream",
     "text": [
      "+---------------------------+\n",
      "|nanvl(orderstatus, orderid)|\n",
      "+---------------------------+\n",
      "|                       NULL|\n",
      "|                       NULL|\n",
      "|                       NULL|\n",
      "|                       NULL|\n",
      "|                       NULL|\n",
      "|                       NULL|\n",
      "|                       NULL|\n",
      "|                       NULL|\n",
      "|                       NULL|\n",
      "|                       NULL|\n",
      "|                       NULL|\n",
      "|                       NULL|\n",
      "|                       NULL|\n",
      "|                       NULL|\n",
      "|                       NULL|\n",
      "|                       NULL|\n",
      "|                       NULL|\n",
      "|                       NULL|\n",
      "|                       NULL|\n",
      "|                       NULL|\n",
      "+---------------------------+\n",
      "only showing top 20 rows\n",
      "\n"
     ]
    }
   ],
   "source": [
    "ordnew.select(nanvl(ordnew.orderstatus,ordnew.orderid)).show()"
   ]
  },
  {
   "cell_type": "code",
   "execution_count": 319,
   "id": "a51ecf24-bcdc-4895-8459-29ca53e89354",
   "metadata": {},
   "outputs": [
    {
     "name": "stdout",
     "output_type": "stream",
     "text": [
      "+-------+-------------------+-----------+---------------+----------+\n",
      "|orderid|          orderdate|ordercustid|    orderstatus|order_date|\n",
      "+-------+-------------------+-----------+---------------+----------+\n",
      "|      1|2013-07-25 00:00:00|      11599|         CLOSED|2013-07-25|\n",
      "|      2|2013-07-25 00:00:00|        256|PENDING_PAYMENT|2013-07-25|\n",
      "|      3|2013-07-25 00:00:00|      12111|       COMPLETE|2013-07-25|\n",
      "|      4|2013-07-25 00:00:00|       8827|         CLOSED|2013-07-25|\n",
      "|      5|2013-07-25 00:00:00|      11318|       COMPLETE|2013-07-25|\n",
      "|      6|2013-07-25 00:00:00|       7130|       COMPLETE|2013-07-25|\n",
      "|      7|2013-07-25 00:00:00|       4530|       COMPLETE|2013-07-25|\n",
      "|      8|2013-07-25 00:00:00|       2911|     PROCESSING|2013-07-25|\n",
      "|      9|2013-07-25 00:00:00|       5657|PENDING_PAYMENT|2013-07-25|\n",
      "|     10|2013-07-25 00:00:00|       5648|PENDING_PAYMENT|2013-07-25|\n",
      "|     11|2013-07-25 00:00:00|        918| PAYMENT_REVIEW|2013-07-25|\n",
      "|     12|2013-07-25 00:00:00|       1837|         CLOSED|2013-07-25|\n",
      "|     13|2013-07-25 00:00:00|       9149|PENDING_PAYMENT|2013-07-25|\n",
      "|     14|2013-07-25 00:00:00|       9842|     PROCESSING|2013-07-25|\n",
      "|     15|2013-07-25 00:00:00|       2568|       COMPLETE|2013-07-25|\n",
      "|     16|2013-07-25 00:00:00|       7276|PENDING_PAYMENT|2013-07-25|\n",
      "|     17|2013-07-25 00:00:00|       2667|       COMPLETE|2013-07-25|\n",
      "|     18|2013-07-25 00:00:00|       1205|         CLOSED|2013-07-25|\n",
      "|     19|2013-07-25 00:00:00|       9488|PENDING_PAYMENT|2013-07-25|\n",
      "|     20|2013-07-25 00:00:00|       9198|     PROCESSING|2013-07-25|\n",
      "+-------+-------------------+-----------+---------------+----------+\n",
      "only showing top 20 rows\n",
      "\n"
     ]
    }
   ],
   "source": [
    "ordnew.show()"
   ]
  },
  {
   "cell_type": "code",
   "execution_count": 320,
   "id": "06051369-f050-4331-b7d0-ccc798dcc0a9",
   "metadata": {},
   "outputs": [
    {
     "name": "stdout",
     "output_type": "stream",
     "text": [
      "+------------------------------+\n",
      "|coalesce(orderid, ordercustid)|\n",
      "+------------------------------+\n",
      "|                             1|\n",
      "|                             2|\n",
      "|                             3|\n",
      "|                             4|\n",
      "|                             5|\n",
      "|                             6|\n",
      "|                             7|\n",
      "|                             8|\n",
      "|                             9|\n",
      "|                            10|\n",
      "|                            11|\n",
      "|                            12|\n",
      "|                            13|\n",
      "|                            14|\n",
      "|                            15|\n",
      "|                            16|\n",
      "|                            17|\n",
      "|                            18|\n",
      "|                            19|\n",
      "|                            20|\n",
      "+------------------------------+\n",
      "only showing top 20 rows\n",
      "\n"
     ]
    }
   ],
   "source": [
    "ordnew.select(coalesce('orderid','ordercustid')).show()"
   ]
  },
  {
   "cell_type": "code",
   "execution_count": 322,
   "id": "926a4454-c316-458e-94ac-a31f01da1776",
   "metadata": {},
   "outputs": [],
   "source": [
    "# function collections - array and struct\n",
    "\n",
    "df_arr = spark.sql(\"\"\" select array(struct('a',1),struct('b',2)) as data \"\"\")"
   ]
  },
  {
   "cell_type": "code",
   "execution_count": 323,
   "id": "9f20f1a4-68a2-4dbb-bf09-bf25406d4e73",
   "metadata": {},
   "outputs": [
    {
     "name": "stdout",
     "output_type": "stream",
     "text": [
      "+----------------+\n",
      "|            data|\n",
      "+----------------+\n",
      "|[{a, 1}, {b, 2}]|\n",
      "+----------------+\n",
      "\n"
     ]
    }
   ],
   "source": [
    "df_arr.show()"
   ]
  },
  {
   "cell_type": "code",
   "execution_count": 326,
   "id": "3939e072-8c88-4577-bd33-e1196495c5d5",
   "metadata": {},
   "outputs": [
    {
     "name": "stdout",
     "output_type": "stream",
     "text": [
      "+----------------+----+\n",
      "|            data|Size|\n",
      "+----------------+----+\n",
      "|[{a, 1}, {b, 2}]|   2|\n",
      "+----------------+----+\n",
      "\n"
     ]
    }
   ],
   "source": [
    "df_arr.withColumn('Size',size(df_arr.data)).show()"
   ]
  },
  {
   "cell_type": "code",
   "execution_count": 327,
   "id": "ca990625-14e2-4393-9341-5fe4587f75b3",
   "metadata": {},
   "outputs": [
    {
     "name": "stdout",
     "output_type": "stream",
     "text": [
      "+-------+-------------------+-----------+---------------+\n",
      "|orderid|          orderdate|ordercustid|    orderstatus|\n",
      "+-------+-------------------+-----------+---------------+\n",
      "|      1|2013-07-25 00:00:00|      11599|         CLOSED|\n",
      "|      2|2013-07-25 00:00:00|        256|PENDING_PAYMENT|\n",
      "|      3|2013-07-25 00:00:00|      12111|       COMPLETE|\n",
      "|      4|2013-07-25 00:00:00|       8827|         CLOSED|\n",
      "|      5|2013-07-25 00:00:00|      11318|       COMPLETE|\n",
      "|      6|2013-07-25 00:00:00|       7130|       COMPLETE|\n",
      "|      7|2013-07-25 00:00:00|       4530|       COMPLETE|\n",
      "|      8|2013-07-25 00:00:00|       2911|     PROCESSING|\n",
      "|      9|2013-07-25 00:00:00|       5657|PENDING_PAYMENT|\n",
      "|     10|2013-07-25 00:00:00|       5648|PENDING_PAYMENT|\n",
      "|     11|2013-07-25 00:00:00|        918| PAYMENT_REVIEW|\n",
      "|     12|2013-07-25 00:00:00|       1837|         CLOSED|\n",
      "|     13|2013-07-25 00:00:00|       9149|PENDING_PAYMENT|\n",
      "|     14|2013-07-25 00:00:00|       9842|     PROCESSING|\n",
      "|     15|2013-07-25 00:00:00|       2568|       COMPLETE|\n",
      "|     16|2013-07-25 00:00:00|       7276|PENDING_PAYMENT|\n",
      "|     17|2013-07-25 00:00:00|       2667|       COMPLETE|\n",
      "|     18|2013-07-25 00:00:00|       1205|         CLOSED|\n",
      "|     19|2013-07-25 00:00:00|       9488|PENDING_PAYMENT|\n",
      "|     20|2013-07-25 00:00:00|       9198|     PROCESSING|\n",
      "+-------+-------------------+-----------+---------------+\n",
      "only showing top 20 rows\n",
      "\n"
     ]
    }
   ],
   "source": [
    "ord.show()\n"
   ]
  },
  {
   "cell_type": "code",
   "execution_count": 333,
   "id": "6d0a6ae4-fbbf-40ad-b534-aca0b65c658c",
   "metadata": {},
   "outputs": [
    {
     "name": "stdout",
     "output_type": "stream",
     "text": [
      "+-------+------+------+\n",
      "|   name|deptid|salary|\n",
      "+-------+------+------+\n",
      "|Pradeep|   101| 10000|\n",
      "|  Nijan|   102| 20000|\n",
      "|    Sai|   105| 25000|\n",
      "|  Saran|   108| 15000|\n",
      "+-------+------+------+\n",
      "\n"
     ]
    }
   ],
   "source": [
    "df_emp.show()\n"
   ]
  },
  {
   "cell_type": "code",
   "execution_count": 336,
   "id": "3a11cc33-3c35-40c6-84b8-573ba87bd69d",
   "metadata": {},
   "outputs": [],
   "source": [
    "# df_emp.select('name',element_at('deptid',1)).show()"
   ]
  },
  {
   "cell_type": "code",
   "execution_count": 337,
   "id": "1dbdb09e-c962-4173-8bd7-5a3532bd7145",
   "metadata": {},
   "outputs": [
    {
     "name": "stdout",
     "output_type": "stream",
     "text": [
      "root\n",
      " |-- struct(name, salary): struct (nullable = false)\n",
      " |    |-- name: string (nullable = true)\n",
      " |    |-- salary: integer (nullable = true)\n",
      "\n"
     ]
    }
   ],
   "source": [
    "df_emp.select(struct('name','salary')).printSchema()"
   ]
  },
  {
   "cell_type": "code",
   "execution_count": 338,
   "id": "0a428e40-af92-4a34-ad24-f01495c03257",
   "metadata": {},
   "outputs": [
    {
     "name": "stdout",
     "output_type": "stream",
     "text": [
      "root\n",
      " |-- array(name, salary): array (nullable = false)\n",
      " |    |-- element: string (containsNull = true)\n",
      "\n"
     ]
    }
   ],
   "source": [
    "df_emp.select(array('name','salary')).printSchema()"
   ]
  },
  {
   "cell_type": "code",
   "execution_count": 345,
   "id": "52130d72-0a67-4567-99cc-1445253f6af1",
   "metadata": {},
   "outputs": [],
   "source": [
    "# df_emp.select('salary',array_max('salary')).show()  #array_distinct(col)  array_repeat(col) array_position(col,value)  \n",
    "# array_remove(col,index) array_sort(col,asc=True) array_contains(col,value)       "
   ]
  },
  {
   "cell_type": "code",
   "execution_count": 346,
   "id": "d2965002-d173-4ae7-8797-d703fe3c35f9",
   "metadata": {},
   "outputs": [],
   "source": [
    "data_arr = [('Nijan',24,[50,50,45]),('Pradip',25,[50,45,45]),('Pravin',24,[50,50,50])]\n",
    "sche_arr = ['name','age','scores']\n",
    "\n",
    "arr_df = spark.createDataFrame(data=data_arr,schema=sche_arr)\n"
   ]
  },
  {
   "cell_type": "code",
   "execution_count": 347,
   "id": "bf63ee6d-273e-4a98-a8eb-84a69a8ce602",
   "metadata": {},
   "outputs": [
    {
     "name": "stdout",
     "output_type": "stream",
     "text": [
      "+------+---+------------+\n",
      "|  name|age|      scores|\n",
      "+------+---+------------+\n",
      "| Nijan| 24|[50, 50, 45]|\n",
      "|Pradip| 25|[50, 45, 45]|\n",
      "|Pravin| 24|[50, 50, 50]|\n",
      "+------+---+------------+\n",
      "\n"
     ]
    }
   ],
   "source": [
    "arr_df.show()"
   ]
  },
  {
   "cell_type": "code",
   "execution_count": 349,
   "id": "382da80f-6ab9-4b96-8732-2c60eb871e76",
   "metadata": {},
   "outputs": [
    {
     "name": "stdout",
     "output_type": "stream",
     "text": [
      "+-----------------------------------------------------------------------------------------------------------------------------------------------------------------------------------------------------------------------------------------------------------------------------------------------------------------------------------------------------------------------------+\n",
      "|array_sort(scores, lambdafunction((IF(((namedlambdavariable() IS NULL) AND (namedlambdavariable() IS NULL)), 0, (IF((namedlambdavariable() IS NULL), 1, (IF((namedlambdavariable() IS NULL), -1, (IF((namedlambdavariable() < namedlambdavariable()), -1, (IF((namedlambdavariable() > namedlambdavariable()), 1, 0)))))))))), namedlambdavariable(), namedlambdavariable()))|\n",
      "+-----------------------------------------------------------------------------------------------------------------------------------------------------------------------------------------------------------------------------------------------------------------------------------------------------------------------------------------------------------------------------+\n",
      "|                                                                                                                                                                                                                                                                                                                                                                 [45, 50, 50]|\n",
      "|                                                                                                                                                                                                                                                                                                                                                                 [45, 45, 50]|\n",
      "|                                                                                                                                                                                                                                                                                                                                                                 [50, 50, 50]|\n",
      "+-----------------------------------------------------------------------------------------------------------------------------------------------------------------------------------------------------------------------------------------------------------------------------------------------------------------------------------------------------------------------------+\n",
      "\n"
     ]
    }
   ],
   "source": [
    "arr_df.select(array_sort(arr_df.scores)).show()"
   ]
  },
  {
   "cell_type": "code",
   "execution_count": 350,
   "id": "9db3f35c-12a5-4c76-892f-e422b9824c08",
   "metadata": {},
   "outputs": [
    {
     "name": "stdout",
     "output_type": "stream",
     "text": [
      "+------+---+------------+------------+\n",
      "|  name|age|      scores|     scores2|\n",
      "+------+---+------------+------------+\n",
      "| Nijan| 24|[50, 50, 45]|[45, 50, 50]|\n",
      "|Pradip| 25|[50, 45, 45]|[45, 45, 50]|\n",
      "|Pravin| 24|[50, 50, 50]|[50, 50, 50]|\n",
      "+------+---+------------+------------+\n",
      "\n"
     ]
    }
   ],
   "source": [
    "arr_df1 = arr_df.withColumn('scores2',array_sort(arr_df.scores))\n",
    "arr_df1.show()"
   ]
  },
  {
   "cell_type": "code",
   "execution_count": 352,
   "id": "13913fb2-b661-4cf2-8305-feb88bf40d88",
   "metadata": {},
   "outputs": [
    {
     "name": "stdout",
     "output_type": "stream",
     "text": [
      "+----------------------------+\n",
      "|array_union(scores, scores2)|\n",
      "+----------------------------+\n",
      "|                    [50, 45]|\n",
      "|                    [50, 45]|\n",
      "|                        [50]|\n",
      "+----------------------------+\n",
      "\n"
     ]
    }
   ],
   "source": [
    "arr_df1.select(array_union('scores','scores2')).show()"
   ]
  },
  {
   "cell_type": "code",
   "execution_count": 353,
   "id": "b1750895-16ba-4a77-9dd7-b4e0e64b4378",
   "metadata": {},
   "outputs": [
    {
     "name": "stdout",
     "output_type": "stream",
     "text": [
      "+-----------------------------+\n",
      "|array_except(scores, scores2)|\n",
      "+-----------------------------+\n",
      "|                           []|\n",
      "|                           []|\n",
      "|                           []|\n",
      "+-----------------------------+\n",
      "\n"
     ]
    }
   ],
   "source": [
    "arr_df1.select(array_except('scores','scores2')).show()"
   ]
  },
  {
   "cell_type": "code",
   "execution_count": 354,
   "id": "4e77cae6-12e8-495f-bb58-4115356d92f5",
   "metadata": {},
   "outputs": [
    {
     "name": "stdout",
     "output_type": "stream",
     "text": [
      "+--------------------------------+\n",
      "|array_intersect(scores, scores2)|\n",
      "+--------------------------------+\n",
      "|                        [50, 45]|\n",
      "|                        [50, 45]|\n",
      "|                            [50]|\n",
      "+--------------------------------+\n",
      "\n"
     ]
    }
   ],
   "source": [
    "arr_df1.select(array_intersect('scores','scores2')).show()"
   ]
  },
  {
   "cell_type": "code",
   "execution_count": 355,
   "id": "06b95721-a22f-4445-9398-f743225d00ce",
   "metadata": {},
   "outputs": [
    {
     "name": "stdout",
     "output_type": "stream",
     "text": [
      "+---------------------------+\n",
      "|array_join(scores, scores2)|\n",
      "+---------------------------+\n",
      "|       50scores250scores245|\n",
      "|       50scores245scores245|\n",
      "|       50scores250scores250|\n",
      "+---------------------------+\n",
      "\n"
     ]
    }
   ],
   "source": [
    "arr_df1.select(array_join('scores','scores2')).show()"
   ]
  },
  {
   "cell_type": "code",
   "execution_count": 357,
   "id": "1bfe29d3-ea8c-4f95-8764-12e1647c909a",
   "metadata": {},
   "outputs": [
    {
     "name": "stdout",
     "output_type": "stream",
     "text": [
      "+---------------------------+\n",
      "|arrays_zip(scores, scores2)|\n",
      "+---------------------------+\n",
      "|       [{50, 45}, {50, 5...|\n",
      "|       [{50, 45}, {45, 4...|\n",
      "|       [{50, 50}, {50, 5...|\n",
      "+---------------------------+\n",
      "\n"
     ]
    }
   ],
   "source": [
    "arr_df1.select(arrays_zip('scores','scores2')).show()"
   ]
  },
  {
   "cell_type": "code",
   "execution_count": 358,
   "id": "3b3a1dda-7dc3-4e2e-baba-6678a97199cd",
   "metadata": {},
   "outputs": [
    {
     "name": "stdout",
     "output_type": "stream",
     "text": [
      "+-------------------------------+\n",
      "|arrays_overlap(scores, scores2)|\n",
      "+-------------------------------+\n",
      "|                           true|\n",
      "|                           true|\n",
      "|                           true|\n",
      "+-------------------------------+\n",
      "\n"
     ]
    }
   ],
   "source": [
    "arr_df1.select(arrays_overlap('scores','scores2')).show()"
   ]
  },
  {
   "cell_type": "code",
   "execution_count": 359,
   "id": "bc0a6f42-0f48-4487-a8c9-ba9342bf4367",
   "metadata": {},
   "outputs": [
    {
     "name": "stdout",
     "output_type": "stream",
     "text": [
      "+---------------+\n",
      "|shuffle(scores)|\n",
      "+---------------+\n",
      "|   [45, 50, 50]|\n",
      "|   [50, 45, 45]|\n",
      "|   [50, 50, 50]|\n",
      "+---------------+\n",
      "\n"
     ]
    }
   ],
   "source": [
    "arr_df1.select(shuffle('scores')).show()"
   ]
  },
  {
   "cell_type": "code",
   "execution_count": 360,
   "id": "eb6a4e0e-d258-413c-9892-e25e8c244f53",
   "metadata": {},
   "outputs": [
    {
     "name": "stdout",
     "output_type": "stream",
     "text": [
      "+--------------------+\n",
      "|map(scores, scores2)|\n",
      "+--------------------+\n",
      "|{[50, 50, 45] -> ...|\n",
      "|{[50, 45, 45] -> ...|\n",
      "|{[50, 50, 50] -> ...|\n",
      "+--------------------+\n",
      "\n"
     ]
    }
   ],
   "source": [
    "arr_df1.select(create_map('scores','scores2')).show()"
   ]
  },
  {
   "cell_type": "code",
   "execution_count": 362,
   "id": "6559be35-348d-4668-a540-3ff86028f91b",
   "metadata": {},
   "outputs": [
    {
     "name": "stdout",
     "output_type": "stream",
     "text": [
      "root\n",
      " |-- map_from_arrays(scores, scores2): map (nullable = true)\n",
      " |    |-- key: long\n",
      " |    |-- value: long (valueContainsNull = true)\n",
      "\n"
     ]
    }
   ],
   "source": [
    "arr_df1.select(map_from_arrays('scores','scores2')).printSchema()"
   ]
  },
  {
   "cell_type": "code",
   "execution_count": 363,
   "id": "fd61d1b9-6787-4cbf-bb00-b60d03b01127",
   "metadata": {},
   "outputs": [
    {
     "name": "stdout",
     "output_type": "stream",
     "text": [
      "+-------+-------------------+-----------+---------------+----------+\n",
      "|orderid|          orderdate|ordercustid|    orderstatus|order_date|\n",
      "+-------+-------------------+-----------+---------------+----------+\n",
      "|      1|2013-07-25 00:00:00|      11599|         CLOSED|2013-07-25|\n",
      "|      2|2013-07-25 00:00:00|        256|PENDING_PAYMENT|2013-07-25|\n",
      "|      3|2013-07-25 00:00:00|      12111|       COMPLETE|2013-07-25|\n",
      "|      4|2013-07-25 00:00:00|       8827|         CLOSED|2013-07-25|\n",
      "|      5|2013-07-25 00:00:00|      11318|       COMPLETE|2013-07-25|\n",
      "|      6|2013-07-25 00:00:00|       7130|       COMPLETE|2013-07-25|\n",
      "|      7|2013-07-25 00:00:00|       4530|       COMPLETE|2013-07-25|\n",
      "|      8|2013-07-25 00:00:00|       2911|     PROCESSING|2013-07-25|\n",
      "|      9|2013-07-25 00:00:00|       5657|PENDING_PAYMENT|2013-07-25|\n",
      "|     10|2013-07-25 00:00:00|       5648|PENDING_PAYMENT|2013-07-25|\n",
      "|     11|2013-07-25 00:00:00|        918| PAYMENT_REVIEW|2013-07-25|\n",
      "|     12|2013-07-25 00:00:00|       1837|         CLOSED|2013-07-25|\n",
      "|     13|2013-07-25 00:00:00|       9149|PENDING_PAYMENT|2013-07-25|\n",
      "|     14|2013-07-25 00:00:00|       9842|     PROCESSING|2013-07-25|\n",
      "|     15|2013-07-25 00:00:00|       2568|       COMPLETE|2013-07-25|\n",
      "|     16|2013-07-25 00:00:00|       7276|PENDING_PAYMENT|2013-07-25|\n",
      "|     17|2013-07-25 00:00:00|       2667|       COMPLETE|2013-07-25|\n",
      "|     18|2013-07-25 00:00:00|       1205|         CLOSED|2013-07-25|\n",
      "|     19|2013-07-25 00:00:00|       9488|PENDING_PAYMENT|2013-07-25|\n",
      "|     20|2013-07-25 00:00:00|       9198|     PROCESSING|2013-07-25|\n",
      "+-------+-------------------+-----------+---------------+----------+\n",
      "only showing top 20 rows\n",
      "\n"
     ]
    }
   ],
   "source": [
    "# null value operations\n",
    "\n",
    "ordnew.show()\n"
   ]
  },
  {
   "cell_type": "code",
   "execution_count": 365,
   "id": "864c5297-797b-4431-a7a5-15deed086caf",
   "metadata": {},
   "outputs": [
    {
     "name": "stdout",
     "output_type": "stream",
     "text": [
      "+-------+-------------------+-----------+---------------+----------+\n",
      "|orderid|          orderdate|ordercustid|    orderstatus|order_date|\n",
      "+-------+-------------------+-----------+---------------+----------+\n",
      "|      1|2013-07-25 00:00:00|      11599|         CLOSED|2013-07-25|\n",
      "|      2|2013-07-25 00:00:00|        256|PENDING_PAYMENT|2013-07-25|\n",
      "|      3|2013-07-25 00:00:00|      12111|       COMPLETE|2013-07-25|\n",
      "|      4|2013-07-25 00:00:00|       8827|         CLOSED|2013-07-25|\n",
      "|      5|2013-07-25 00:00:00|      11318|       COMPLETE|2013-07-25|\n",
      "|      6|2013-07-25 00:00:00|       7130|       COMPLETE|2013-07-25|\n",
      "|      7|2013-07-25 00:00:00|       4530|       COMPLETE|2013-07-25|\n",
      "|      8|2013-07-25 00:00:00|       2911|     PROCESSING|2013-07-25|\n",
      "|      9|2013-07-25 00:00:00|       5657|PENDING_PAYMENT|2013-07-25|\n",
      "|     10|2013-07-25 00:00:00|       5648|PENDING_PAYMENT|2013-07-25|\n",
      "|     11|2013-07-25 00:00:00|        918| PAYMENT_REVIEW|2013-07-25|\n",
      "|     12|2013-07-25 00:00:00|       1837|         CLOSED|2013-07-25|\n",
      "|     13|2013-07-25 00:00:00|       9149|PENDING_PAYMENT|2013-07-25|\n",
      "|     14|2013-07-25 00:00:00|       9842|     PROCESSING|2013-07-25|\n",
      "|     15|2013-07-25 00:00:00|       2568|       COMPLETE|2013-07-25|\n",
      "|     16|2013-07-25 00:00:00|       7276|PENDING_PAYMENT|2013-07-25|\n",
      "|     17|2013-07-25 00:00:00|       2667|       COMPLETE|2013-07-25|\n",
      "|     18|2013-07-25 00:00:00|       1205|         CLOSED|2013-07-25|\n",
      "|     19|2013-07-25 00:00:00|       9488|PENDING_PAYMENT|2013-07-25|\n",
      "|     20|2013-07-25 00:00:00|       9198|     PROCESSING|2013-07-25|\n",
      "+-------+-------------------+-----------+---------------+----------+\n",
      "only showing top 20 rows\n",
      "\n"
     ]
    }
   ],
   "source": [
    "ordnew.na.drop(how='all').show()"
   ]
  },
  {
   "cell_type": "code",
   "execution_count": 366,
   "id": "c794a63c-10c0-4388-bbc7-149a84d508f1",
   "metadata": {},
   "outputs": [
    {
     "name": "stdout",
     "output_type": "stream",
     "text": [
      "+-------+-------------------+-----------+---------------+----------+\n",
      "|orderid|          orderdate|ordercustid|    orderstatus|order_date|\n",
      "+-------+-------------------+-----------+---------------+----------+\n",
      "|      1|2013-07-25 00:00:00|      11599|         CLOSED|2013-07-25|\n",
      "|      2|2013-07-25 00:00:00|        256|PENDING_PAYMENT|2013-07-25|\n",
      "|      3|2013-07-25 00:00:00|      12111|       COMPLETE|2013-07-25|\n",
      "|      4|2013-07-25 00:00:00|       8827|         CLOSED|2013-07-25|\n",
      "|      5|2013-07-25 00:00:00|      11318|       COMPLETE|2013-07-25|\n",
      "|      6|2013-07-25 00:00:00|       7130|       COMPLETE|2013-07-25|\n",
      "|      7|2013-07-25 00:00:00|       4530|       COMPLETE|2013-07-25|\n",
      "|      8|2013-07-25 00:00:00|       2911|     PROCESSING|2013-07-25|\n",
      "|      9|2013-07-25 00:00:00|       5657|PENDING_PAYMENT|2013-07-25|\n",
      "|     10|2013-07-25 00:00:00|       5648|PENDING_PAYMENT|2013-07-25|\n",
      "|     11|2013-07-25 00:00:00|        918| PAYMENT_REVIEW|2013-07-25|\n",
      "|     12|2013-07-25 00:00:00|       1837|         CLOSED|2013-07-25|\n",
      "|     13|2013-07-25 00:00:00|       9149|PENDING_PAYMENT|2013-07-25|\n",
      "|     14|2013-07-25 00:00:00|       9842|     PROCESSING|2013-07-25|\n",
      "|     15|2013-07-25 00:00:00|       2568|       COMPLETE|2013-07-25|\n",
      "|     16|2013-07-25 00:00:00|       7276|PENDING_PAYMENT|2013-07-25|\n",
      "|     17|2013-07-25 00:00:00|       2667|       COMPLETE|2013-07-25|\n",
      "|     18|2013-07-25 00:00:00|       1205|         CLOSED|2013-07-25|\n",
      "|     19|2013-07-25 00:00:00|       9488|PENDING_PAYMENT|2013-07-25|\n",
      "|     20|2013-07-25 00:00:00|       9198|     PROCESSING|2013-07-25|\n",
      "+-------+-------------------+-----------+---------------+----------+\n",
      "only showing top 20 rows\n",
      "\n"
     ]
    }
   ],
   "source": [
    "ordnew.na.drop(how='all',thresh=1).show() # here the dataframe null values are dropped if it has more than 1"
   ]
  },
  {
   "cell_type": "code",
   "execution_count": 367,
   "id": "8a552cac-a55d-41b2-9d16-5162b094f53a",
   "metadata": {},
   "outputs": [
    {
     "name": "stdout",
     "output_type": "stream",
     "text": [
      "+-------+-------------------+-----------+---------------+----------+\n",
      "|orderid|          orderdate|ordercustid|    orderstatus|order_date|\n",
      "+-------+-------------------+-----------+---------------+----------+\n",
      "|      1|2013-07-25 00:00:00|      11599|         CLOSED|2013-07-25|\n",
      "|      2|2013-07-25 00:00:00|        256|PENDING_PAYMENT|2013-07-25|\n",
      "|      3|2013-07-25 00:00:00|      12111|       COMPLETE|2013-07-25|\n",
      "|      4|2013-07-25 00:00:00|       8827|         CLOSED|2013-07-25|\n",
      "|      5|2013-07-25 00:00:00|      11318|       COMPLETE|2013-07-25|\n",
      "|      6|2013-07-25 00:00:00|       7130|       COMPLETE|2013-07-25|\n",
      "|      7|2013-07-25 00:00:00|       4530|       COMPLETE|2013-07-25|\n",
      "|      8|2013-07-25 00:00:00|       2911|     PROCESSING|2013-07-25|\n",
      "|      9|2013-07-25 00:00:00|       5657|PENDING_PAYMENT|2013-07-25|\n",
      "|     10|2013-07-25 00:00:00|       5648|PENDING_PAYMENT|2013-07-25|\n",
      "|     11|2013-07-25 00:00:00|        918| PAYMENT_REVIEW|2013-07-25|\n",
      "|     12|2013-07-25 00:00:00|       1837|         CLOSED|2013-07-25|\n",
      "|     13|2013-07-25 00:00:00|       9149|PENDING_PAYMENT|2013-07-25|\n",
      "|     14|2013-07-25 00:00:00|       9842|     PROCESSING|2013-07-25|\n",
      "|     15|2013-07-25 00:00:00|       2568|       COMPLETE|2013-07-25|\n",
      "|     16|2013-07-25 00:00:00|       7276|PENDING_PAYMENT|2013-07-25|\n",
      "|     17|2013-07-25 00:00:00|       2667|       COMPLETE|2013-07-25|\n",
      "|     18|2013-07-25 00:00:00|       1205|         CLOSED|2013-07-25|\n",
      "|     19|2013-07-25 00:00:00|       9488|PENDING_PAYMENT|2013-07-25|\n",
      "|     20|2013-07-25 00:00:00|       9198|     PROCESSING|2013-07-25|\n",
      "+-------+-------------------+-----------+---------------+----------+\n",
      "only showing top 20 rows\n",
      "\n"
     ]
    }
   ],
   "source": [
    "ordnew.na.drop(how='all',subset='order_date').show()  #dropping nulls in column"
   ]
  },
  {
   "cell_type": "code",
   "execution_count": 369,
   "id": "a32a7050-cb8e-42c6-bd83-dc25b223e296",
   "metadata": {},
   "outputs": [
    {
     "name": "stdout",
     "output_type": "stream",
     "text": [
      "+-------+-------------------+-----------+---------------+----------+\n",
      "|orderid|          orderdate|ordercustid|    orderstatus|order_date|\n",
      "+-------+-------------------+-----------+---------------+----------+\n",
      "|      1|2013-07-25 00:00:00|      11599|         CLOSED|2013-07-25|\n",
      "|      2|2013-07-25 00:00:00|        256|PENDING_PAYMENT|2013-07-25|\n",
      "|      3|2013-07-25 00:00:00|      12111|       COMPLETE|2013-07-25|\n",
      "|      4|2013-07-25 00:00:00|       8827|         CLOSED|2013-07-25|\n",
      "|      5|2013-07-25 00:00:00|      11318|       COMPLETE|2013-07-25|\n",
      "|      6|2013-07-25 00:00:00|       7130|       COMPLETE|2013-07-25|\n",
      "|      7|2013-07-25 00:00:00|       4530|       COMPLETE|2013-07-25|\n",
      "|      8|2013-07-25 00:00:00|       2911|     PROCESSING|2013-07-25|\n",
      "|      9|2013-07-25 00:00:00|       5657|PENDING_PAYMENT|2013-07-25|\n",
      "|     10|2013-07-25 00:00:00|       5648|PENDING_PAYMENT|2013-07-25|\n",
      "|     11|2013-07-25 00:00:00|        918| PAYMENT_REVIEW|2013-07-25|\n",
      "|     12|2013-07-25 00:00:00|       1837|         CLOSED|2013-07-25|\n",
      "|     13|2013-07-25 00:00:00|       9149|PENDING_PAYMENT|2013-07-25|\n",
      "|     14|2013-07-25 00:00:00|       9842|     PROCESSING|2013-07-25|\n",
      "|     15|2013-07-25 00:00:00|       2568|       COMPLETE|2013-07-25|\n",
      "|     16|2013-07-25 00:00:00|       7276|PENDING_PAYMENT|2013-07-25|\n",
      "|     17|2013-07-25 00:00:00|       2667|       COMPLETE|2013-07-25|\n",
      "|     18|2013-07-25 00:00:00|       1205|         CLOSED|2013-07-25|\n",
      "|     19|2013-07-25 00:00:00|       9488|PENDING_PAYMENT|2013-07-25|\n",
      "|     20|2013-07-25 00:00:00|       9198|     PROCESSING|2013-07-25|\n",
      "+-------+-------------------+-----------+---------------+----------+\n",
      "only showing top 20 rows\n",
      "\n"
     ]
    }
   ],
   "source": [
    "ordnew.na.fill('No Values').show()"
   ]
  },
  {
   "cell_type": "code",
   "execution_count": 370,
   "id": "e5816ca0-d799-470b-98e1-46b0d7363e6a",
   "metadata": {},
   "outputs": [
    {
     "name": "stdout",
     "output_type": "stream",
     "text": [
      "+-------+-------------------+-----------+---------------+----------+\n",
      "|orderid|          orderdate|ordercustid|    orderstatus|order_date|\n",
      "+-------+-------------------+-----------+---------------+----------+\n",
      "|      1|2013-07-25 00:00:00|      11599|         Closed|2013-07-25|\n",
      "|      2|2013-07-25 00:00:00|        256|PENDING_PAYMENT|2013-07-25|\n",
      "|      3|2013-07-25 00:00:00|      12111|       COMPLETE|2013-07-25|\n",
      "|      4|2013-07-25 00:00:00|       8827|         Closed|2013-07-25|\n",
      "|      5|2013-07-25 00:00:00|      11318|       COMPLETE|2013-07-25|\n",
      "|      6|2013-07-25 00:00:00|       7130|       COMPLETE|2013-07-25|\n",
      "|      7|2013-07-25 00:00:00|       4530|       COMPLETE|2013-07-25|\n",
      "|      8|2013-07-25 00:00:00|       2911|     PROCESSING|2013-07-25|\n",
      "|      9|2013-07-25 00:00:00|       5657|PENDING_PAYMENT|2013-07-25|\n",
      "|     10|2013-07-25 00:00:00|       5648|PENDING_PAYMENT|2013-07-25|\n",
      "|     11|2013-07-25 00:00:00|        918| PAYMENT_REVIEW|2013-07-25|\n",
      "|     12|2013-07-25 00:00:00|       1837|         Closed|2013-07-25|\n",
      "|     13|2013-07-25 00:00:00|       9149|PENDING_PAYMENT|2013-07-25|\n",
      "|     14|2013-07-25 00:00:00|       9842|     PROCESSING|2013-07-25|\n",
      "|     15|2013-07-25 00:00:00|       2568|       COMPLETE|2013-07-25|\n",
      "|     16|2013-07-25 00:00:00|       7276|PENDING_PAYMENT|2013-07-25|\n",
      "|     17|2013-07-25 00:00:00|       2667|       COMPLETE|2013-07-25|\n",
      "|     18|2013-07-25 00:00:00|       1205|         Closed|2013-07-25|\n",
      "|     19|2013-07-25 00:00:00|       9488|PENDING_PAYMENT|2013-07-25|\n",
      "|     20|2013-07-25 00:00:00|       9198|     PROCESSING|2013-07-25|\n",
      "+-------+-------------------+-----------+---------------+----------+\n",
      "only showing top 20 rows\n",
      "\n"
     ]
    }
   ],
   "source": [
    "ordnew.na.replace('CLOSED','Closed').show()"
   ]
  },
  {
   "cell_type": "code",
   "execution_count": 371,
   "id": "7d7b21f5-adfa-45c9-a154-16ca96e1f4c7",
   "metadata": {},
   "outputs": [
    {
     "name": "stdout",
     "output_type": "stream",
     "text": [
      "+----------+-------------+--------------+--------+--------+------+\n",
      "|orditem_id|orditem_ordid|orditem_prodid|quantity|subtotal| price|\n",
      "+----------+-------------+--------------+--------+--------+------+\n",
      "|         1|            1|           957|       1|  299.98|299.98|\n",
      "|         2|            2|          1073|       1|  199.99|199.99|\n",
      "|         3|            2|           502|       5|   250.0|  50.0|\n",
      "|         4|            2|           403|       1|  129.99|129.99|\n",
      "|         5|            4|           897|       2|   49.98| 24.99|\n",
      "|         6|            4|           365|       5|  299.95| 59.99|\n",
      "|         7|            4|           502|       3|   150.0|  50.0|\n",
      "|         8|            4|          1014|       4|  199.92| 49.98|\n",
      "|         9|            5|           957|       1|  299.98|299.98|\n",
      "|        10|            5|           365|       5|  299.95| 59.99|\n",
      "|        11|            5|          1014|       2|   99.96| 49.98|\n",
      "|        12|            5|           957|       1|  299.98|299.98|\n",
      "|        13|            5|           403|       1|  129.99|129.99|\n",
      "|        14|            7|          1073|       1|  199.99|199.99|\n",
      "|        15|            7|           957|       1|  299.98|299.98|\n",
      "|        16|            7|           926|       5|   79.95| 15.99|\n",
      "|        17|            8|           365|       3|  179.97| 59.99|\n",
      "|        18|            8|           365|       5|  299.95| 59.99|\n",
      "|        19|            8|          1014|       4|  199.92| 49.98|\n",
      "|        20|            8|           502|       1|    50.0|  50.0|\n",
      "+----------+-------------+--------------+--------+--------+------+\n",
      "only showing top 20 rows\n",
      "\n"
     ]
    }
   ],
   "source": [
    "#Mathematical and Statistical Functions\n",
    "\n",
    "# abs(col)\n",
    "\n",
    "orditems.show()"
   ]
  },
  {
   "cell_type": "code",
   "execution_count": 372,
   "id": "2f0e8ef3-b153-43fd-800d-54d5fe85d7e2",
   "metadata": {},
   "outputs": [
    {
     "name": "stdout",
     "output_type": "stream",
     "text": [
      "+--------+-------------+\n",
      "|subtotal|abs(subtotal)|\n",
      "+--------+-------------+\n",
      "|  299.98|       299.98|\n",
      "|  199.99|       199.99|\n",
      "|   250.0|        250.0|\n",
      "|  129.99|       129.99|\n",
      "|   49.98|        49.98|\n",
      "|  299.95|       299.95|\n",
      "|   150.0|        150.0|\n",
      "|  199.92|       199.92|\n",
      "|  299.98|       299.98|\n",
      "|  299.95|       299.95|\n",
      "|   99.96|        99.96|\n",
      "|  299.98|       299.98|\n",
      "|  129.99|       129.99|\n",
      "|  199.99|       199.99|\n",
      "|  299.98|       299.98|\n",
      "|   79.95|        79.95|\n",
      "|  179.97|       179.97|\n",
      "|  299.95|       299.95|\n",
      "|  199.92|       199.92|\n",
      "|    50.0|         50.0|\n",
      "+--------+-------------+\n",
      "only showing top 20 rows\n",
      "\n"
     ]
    }
   ],
   "source": [
    "orditems.select('subtotal',abs('subtotal')).show()"
   ]
  },
  {
   "cell_type": "code",
   "execution_count": 373,
   "id": "61c7b9cd-fc84-400e-b5d9-0deaccbede33",
   "metadata": {},
   "outputs": [
    {
     "name": "stdout",
     "output_type": "stream",
     "text": [
      "+--------+--------------------+\n",
      "|subtotal|       EXP(subtotal)|\n",
      "+--------+--------------------+\n",
      "|  299.98|1.903984693297183...|\n",
      "|  199.99|7.154113426419584E86|\n",
      "|   250.0|3.746454614502673...|\n",
      "|  129.99|2.844081833172024E56|\n",
      "|   49.98|5.082039154233811E21|\n",
      "|  299.95|1.847715697065926...|\n",
      "|   150.0|1.393709580666379...|\n",
      "|  199.92| 6.67040229003535E86|\n",
      "|  299.98|1.903984693297183...|\n",
      "|  299.95|1.847715697065926...|\n",
      "|   99.96|2.582712196516551...|\n",
      "|  299.98|1.903984693297183...|\n",
      "|  129.99|2.844081833172024E56|\n",
      "|  199.99|7.154113426419584E86|\n",
      "|  299.98|1.903984693297183...|\n",
      "|   79.95|5.270386958113296E34|\n",
      "|  179.97|1.445368009750619E78|\n",
      "|  299.95|1.847715697065926...|\n",
      "|  199.92| 6.67040229003535E86|\n",
      "|    50.0|5.184705528587072E21|\n",
      "+--------+--------------------+\n",
      "only showing top 20 rows\n",
      "\n"
     ]
    }
   ],
   "source": [
    "orditems.select('subtotal',exp('subtotal')).show()"
   ]
  },
  {
   "cell_type": "code",
   "execution_count": 375,
   "id": "61ae2b1b-fffc-42a4-acbf-c6485d0e2447",
   "metadata": {},
   "outputs": [
    {
     "name": "stdout",
     "output_type": "stream",
     "text": [
      "+--------+-------------------+\n",
      "|quantity|factorial(quantity)|\n",
      "+--------+-------------------+\n",
      "|       1|                  1|\n",
      "|       1|                  1|\n",
      "|       5|                120|\n",
      "|       1|                  1|\n",
      "|       2|                  2|\n",
      "|       5|                120|\n",
      "|       3|                  6|\n",
      "|       4|                 24|\n",
      "|       1|                  1|\n",
      "|       5|                120|\n",
      "|       2|                  2|\n",
      "|       1|                  1|\n",
      "|       1|                  1|\n",
      "|       1|                  1|\n",
      "|       1|                  1|\n",
      "|       5|                120|\n",
      "|       3|                  6|\n",
      "|       5|                120|\n",
      "|       4|                 24|\n",
      "|       1|                  1|\n",
      "+--------+-------------------+\n",
      "only showing top 20 rows\n",
      "\n"
     ]
    }
   ],
   "source": [
    "orditems.select('quantity',factorial('quantity')).show()"
   ]
  },
  {
   "cell_type": "code",
   "execution_count": 376,
   "id": "3b5f905c-bff5-4d9c-b727-d03030bfafaa",
   "metadata": {},
   "outputs": [
    {
     "name": "stdout",
     "output_type": "stream",
     "text": [
      "+--------+------------------+------------------+--------------------+\n",
      "|subtotal|    SQRT(subtotal)|    CBRT(subtotal)|  POWER(subtotal, 5)|\n",
      "+--------+------------------+------------------+--------------------+\n",
      "|  299.98|17.319931032955303| 6.694180816359456|2.429190552820481...|\n",
      "|  199.99|14.141782260138362| 5.847938061085441|3.199200519361265E11|\n",
      "|   250.0|15.811388300841896| 6.299605249474366|         9.765625E11|\n",
      "|  129.99|11.401315954448595| 5.065667194894507|3.711502953893119E10|\n",
      "|   49.98| 7.069653424478199|3.6835402176863457|    3.118754855178E8|\n",
      "|  299.95|17.319064992286137| 6.693957663771525|2.427976168942807...|\n",
      "|   150.0| 12.24744871391589| 5.313292845913056|          7.59375E10|\n",
      "|  199.92|14.139306848956398| 5.847255616522475|3.193604971702272E11|\n",
      "|  299.98|17.319931032955303| 6.694180816359456|2.429190552820481...|\n",
      "|  299.95|17.319064992286137| 6.693957663771525|2.427976168942807...|\n",
      "|   99.96| 9.997999754174465|  4.64096985839737|   9.9800155365696E9|\n",
      "|  299.98|17.319931032955303| 6.694180816359456|2.429190552820481...|\n",
      "|  129.99|11.401315954448595| 5.065667194894507|3.711502953893119E10|\n",
      "|  199.99|14.141782260138362| 5.847938061085441|3.199200519361265E11|\n",
      "|  299.98|17.319931032955303| 6.694180816359456|2.429190552820481...|\n",
      "|   79.95| 8.941476217506938| 4.307971457048108| 3.266572168563583E9|\n",
      "|  179.97|13.415289829918068| 5.645902489946707|1.887993948822089...|\n",
      "|  299.95|17.319064992286137| 6.693957663771525|2.427976168942807...|\n",
      "|  199.92|14.139306848956398| 5.847255616522475|3.193604971702272E11|\n",
      "|    50.0|7.0710678118654755|3.6840314986403864|             3.125E8|\n",
      "+--------+------------------+------------------+--------------------+\n",
      "only showing top 20 rows\n",
      "\n"
     ]
    }
   ],
   "source": [
    "orditems.select('subtotal',sqrt('subtotal'),cbrt('subtotal'),pow('subtotal',5)).show()"
   ]
  },
  {
   "cell_type": "code",
   "execution_count": 379,
   "id": "94d52477-423a-418c-a257-119f666c7976",
   "metadata": {},
   "outputs": [
    {
     "name": "stdout",
     "output_type": "stream",
     "text": [
      "+--------+---------------+--------------+------------------+\n",
      "|subtotal|FLOOR(subtotal)|CEIL(subtotal)|round(subtotal, 0)|\n",
      "+--------+---------------+--------------+------------------+\n",
      "|  299.98|            299|           300|             300.0|\n",
      "|  199.99|            199|           200|             200.0|\n",
      "|   250.0|            250|           250|             250.0|\n",
      "|  129.99|            129|           130|             130.0|\n",
      "|   49.98|             49|            50|              50.0|\n",
      "|  299.95|            299|           300|             300.0|\n",
      "|   150.0|            150|           150|             150.0|\n",
      "|  199.92|            199|           200|             200.0|\n",
      "|  299.98|            299|           300|             300.0|\n",
      "|  299.95|            299|           300|             300.0|\n",
      "|   99.96|             99|           100|             100.0|\n",
      "|  299.98|            299|           300|             300.0|\n",
      "|  129.99|            129|           130|             130.0|\n",
      "|  199.99|            199|           200|             200.0|\n",
      "|  299.98|            299|           300|             300.0|\n",
      "|   79.95|             79|            80|              80.0|\n",
      "|  179.97|            179|           180|             180.0|\n",
      "|  299.95|            299|           300|             300.0|\n",
      "|  199.92|            199|           200|             200.0|\n",
      "|    50.0|             50|            50|              50.0|\n",
      "+--------+---------------+--------------+------------------+\n",
      "only showing top 20 rows\n",
      "\n"
     ]
    }
   ],
   "source": [
    "orditems.select('subtotal',floor('subtotal'),ceil('subtotal'),round('subtotal')).show()"
   ]
  },
  {
   "cell_type": "code",
   "execution_count": 380,
   "id": "90c3561d-5425-4b9a-9a6e-78a52fbd1bd5",
   "metadata": {},
   "outputs": [
    {
     "name": "stdout",
     "output_type": "stream",
     "text": [
      "+--------+----------------+\n",
      "|subtotal|SIGNUM(subtotal)|\n",
      "+--------+----------------+\n",
      "|  299.98|             1.0|\n",
      "|  199.99|             1.0|\n",
      "|   250.0|             1.0|\n",
      "|  129.99|             1.0|\n",
      "|   49.98|             1.0|\n",
      "|  299.95|             1.0|\n",
      "|   150.0|             1.0|\n",
      "|  199.92|             1.0|\n",
      "|  299.98|             1.0|\n",
      "|  299.95|             1.0|\n",
      "|   99.96|             1.0|\n",
      "|  299.98|             1.0|\n",
      "|  129.99|             1.0|\n",
      "|  199.99|             1.0|\n",
      "|  299.98|             1.0|\n",
      "|   79.95|             1.0|\n",
      "|  179.97|             1.0|\n",
      "|  299.95|             1.0|\n",
      "|  199.92|             1.0|\n",
      "|    50.0|             1.0|\n",
      "+--------+----------------+\n",
      "only showing top 20 rows\n",
      "\n"
     ]
    }
   ],
   "source": [
    "orditems.select('subtotal',signum('subtotal')).show()"
   ]
  },
  {
   "cell_type": "code",
   "execution_count": 383,
   "id": "f3b71d7f-9487-4d45-9330-15c57737286d",
   "metadata": {},
   "outputs": [
    {
     "name": "stdout",
     "output_type": "stream",
     "text": [
      "+------------------------+\n",
      "|corr(subtotal, quantity)|\n",
      "+------------------------+\n",
      "|     0.16159345250245896|\n",
      "+------------------------+\n",
      "\n"
     ]
    }
   ],
   "source": [
    "orditems.select(corr(orditems.subtotal,orditems.quantity)).show()"
   ]
  },
  {
   "cell_type": "code",
   "execution_count": 384,
   "id": "fb4c7723-7bac-417c-b08f-aa7306e91e05",
   "metadata": {},
   "outputs": [
    {
     "name": "stdout",
     "output_type": "stream",
     "text": [
      "+-----------------------------+\n",
      "|covar_pop(subtotal, quantity)|\n",
      "+-----------------------------+\n",
      "|           26.714638897848747|\n",
      "+-----------------------------+\n",
      "\n"
     ]
    }
   ],
   "source": [
    "orditems.select(covar_pop(orditems.subtotal,orditems.quantity)).show()"
   ]
  },
  {
   "cell_type": "code",
   "execution_count": 385,
   "id": "15386438-d708-4c34-bb77-ac6441600fe2",
   "metadata": {},
   "outputs": [
    {
     "name": "stdout",
     "output_type": "stream",
     "text": [
      "+------------------------------+\n",
      "|covar_samp(subtotal, quantity)|\n",
      "+------------------------------+\n",
      "|            26.714794037827364|\n",
      "+------------------------------+\n",
      "\n"
     ]
    }
   ],
   "source": [
    "orditems.select(covar_samp(orditems.subtotal,orditems.quantity)).show()"
   ]
  },
  {
   "cell_type": "code",
   "execution_count": 386,
   "id": "6e8c8a03-4879-4aee-92b8-0fb8495d60ac",
   "metadata": {},
   "outputs": [
    {
     "data": {
      "text/plain": [
       "' \\nvar_pop(col1,col2)\\nvar_samp(col1,col2)\\nvariance(col)\\nsttdev(col)\\nsttdev_pop(col)\\nsttdev_samp(col)\\n\\n\\n'"
      ]
     },
     "execution_count": 386,
     "metadata": {},
     "output_type": "execute_result"
    }
   ],
   "source": [
    "\"\"\" \n",
    "var_pop(col1,col2)\n",
    "var_samp(col1,col2)\n",
    "variance(col)\n",
    "stddev(col)\n",
    "stddev_pop(col)\n",
    "stddev_samp(col)\n",
    "\n",
    "\n",
    "\"\"\""
   ]
  },
  {
   "cell_type": "code",
   "execution_count": 389,
   "id": "b4da7a97-7699-4be3-b2d7-8484a0af2ed0",
   "metadata": {},
   "outputs": [
    {
     "name": "stdout",
     "output_type": "stream",
     "text": [
      "+---------------------+\n",
      "|stddev_samp(subtotal)|\n",
      "+---------------------+\n",
      "|   112.74303987146804|\n",
      "+---------------------+\n",
      "\n"
     ]
    }
   ],
   "source": [
    "orditems.select(stddev_samp(orditems.subtotal)).show()"
   ]
  },
  {
   "cell_type": "code",
   "execution_count": 390,
   "id": "ef6ef7c0-f9f2-46b5-9d4b-1748e1b3622c",
   "metadata": {},
   "outputs": [
    {
     "name": "stdout",
     "output_type": "stream",
     "text": [
      "+------+---+------------+------------+\n",
      "|  name|age|      scores|     scores2|\n",
      "+------+---+------------+------------+\n",
      "| Nijan| 24|[50, 50, 45]|[45, 50, 50]|\n",
      "|Pradip| 25|[50, 45, 45]|[45, 45, 50]|\n",
      "|Pravin| 24|[50, 50, 50]|[50, 50, 50]|\n",
      "+------+---+------------+------------+\n",
      "\n"
     ]
    }
   ],
   "source": [
    "arr_df1.show()"
   ]
  },
  {
   "cell_type": "code",
   "execution_count": 395,
   "id": "a22dc4db-3747-4077-a834-7172eca1e045",
   "metadata": {},
   "outputs": [
    {
     "name": "stdout",
     "output_type": "stream",
     "text": [
      "+------+---+------------+------------+\n",
      "|  name|age|      scores|     scores2|\n",
      "+------+---+------------+------------+\n",
      "| Nijan| 24|[50, 50, 45]|[45, 50, 50]|\n",
      "|Pradip| 25|[50, 45, 45]|[45, 45, 50]|\n",
      "|Pravin| 24|[50, 50, 50]|[50, 50, 50]|\n",
      "+------+---+------------+------------+\n",
      "\n"
     ]
    }
   ],
   "source": [
    "arrdf2 = arr_df1.select('name','age','scores','scores2')\n",
    "arrdf2.show()"
   ]
  },
  {
   "cell_type": "code",
   "execution_count": 397,
   "id": "b24e7e5b-d19d-47d5-998b-df3c75de4a54",
   "metadata": {
    "scrolled": true
   },
   "outputs": [
    {
     "name": "stdout",
     "output_type": "stream",
     "text": [
      "+------+---+\n",
      "|  name|col|\n",
      "+------+---+\n",
      "| Nijan| 50|\n",
      "| Nijan| 50|\n",
      "| Nijan| 45|\n",
      "|Pradip| 50|\n",
      "|Pradip| 45|\n",
      "|Pradip| 45|\n",
      "|Pravin| 50|\n",
      "|Pravin| 50|\n",
      "|Pravin| 50|\n",
      "+------+---+\n",
      "\n"
     ]
    }
   ],
   "source": [
    "arrdf2.select('name',explode('scores')).show()"
   ]
  },
  {
   "cell_type": "code",
   "execution_count": 398,
   "id": "08f40cf5-5cdb-41ba-9c52-af9229b607a8",
   "metadata": {},
   "outputs": [
    {
     "name": "stdout",
     "output_type": "stream",
     "text": [
      "+------+---+\n",
      "|  name|col|\n",
      "+------+---+\n",
      "| Nijan| 50|\n",
      "| Nijan| 50|\n",
      "| Nijan| 45|\n",
      "|Pradip| 50|\n",
      "|Pradip| 45|\n",
      "|Pradip| 45|\n",
      "|Pravin| 50|\n",
      "|Pravin| 50|\n",
      "|Pravin| 50|\n",
      "+------+---+\n",
      "\n"
     ]
    }
   ],
   "source": [
    "arrdf2.select('name',explode_outer('scores')).show()"
   ]
  },
  {
   "cell_type": "code",
   "execution_count": 400,
   "id": "4e682ecf-7204-4734-846a-a042f870e0dc",
   "metadata": {},
   "outputs": [
    {
     "name": "stdout",
     "output_type": "stream",
     "text": [
      "+------+---+---+\n",
      "|  name|pos|col|\n",
      "+------+---+---+\n",
      "| Nijan|  0| 50|\n",
      "| Nijan|  1| 50|\n",
      "| Nijan|  2| 45|\n",
      "|Pradip|  0| 50|\n",
      "|Pradip|  1| 45|\n",
      "|Pradip|  2| 45|\n",
      "|Pravin|  0| 50|\n",
      "|Pravin|  1| 50|\n",
      "|Pravin|  2| 50|\n",
      "+------+---+---+\n",
      "\n"
     ]
    }
   ],
   "source": [
    "arrdf2.select('name',posexplode('scores')).show()"
   ]
  },
  {
   "cell_type": "code",
   "execution_count": 401,
   "id": "7484c001-58ce-4b60-ade7-c32b1d7e4140",
   "metadata": {},
   "outputs": [
    {
     "name": "stdout",
     "output_type": "stream",
     "text": [
      "+------+---+---+\n",
      "|  name|pos|col|\n",
      "+------+---+---+\n",
      "| Nijan|  0| 50|\n",
      "| Nijan|  1| 50|\n",
      "| Nijan|  2| 45|\n",
      "|Pradip|  0| 50|\n",
      "|Pradip|  1| 45|\n",
      "|Pradip|  2| 45|\n",
      "|Pravin|  0| 50|\n",
      "|Pravin|  1| 50|\n",
      "|Pravin|  2| 50|\n",
      "+------+---+---+\n",
      "\n"
     ]
    }
   ],
   "source": [
    "arrdf2.select('name',posexplode_outer('scores')).show()"
   ]
  },
  {
   "cell_type": "code",
   "execution_count": 402,
   "id": "1e951d03-5b37-4abd-98c5-70562ff56735",
   "metadata": {},
   "outputs": [
    {
     "data": {
      "text/plain": [
       "'\\n\\nflatten(col)\\n\\n\\n'"
      ]
     },
     "execution_count": 402,
     "metadata": {},
     "output_type": "execute_result"
    }
   ],
   "source": [
    "# flatten is used to extract the data in array of array elements\n",
    "\"\"\"\n",
    "\n",
    "flatten(col)\n",
    "\n",
    "\n",
    "\"\"\""
   ]
  },
  {
   "cell_type": "code",
   "execution_count": null,
   "id": "9c55dba7-70bc-4cf9-b355-8f73ede34dc5",
   "metadata": {},
   "outputs": [],
   "source": [
    "# formatting Functions"
   ]
  }
 ],
 "metadata": {
  "kernelspec": {
   "display_name": "Python 3 (ipykernel)",
   "language": "python",
   "name": "python3"
  },
  "language_info": {
   "codemirror_mode": {
    "name": "ipython",
    "version": 3
   },
   "file_extension": ".py",
   "mimetype": "text/x-python",
   "name": "python",
   "nbconvert_exporter": "python",
   "pygments_lexer": "ipython3",
   "version": "3.10.12"
  }
 },
 "nbformat": 4,
 "nbformat_minor": 5
}

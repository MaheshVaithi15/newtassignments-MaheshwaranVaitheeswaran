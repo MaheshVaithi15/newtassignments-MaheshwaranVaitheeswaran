{
 "cells": [
  {
   "cell_type": "code",
   "execution_count": 2,
   "id": "4b1a9e83-0e3f-480f-80e6-0f3824682ab0",
   "metadata": {},
   "outputs": [
    {
     "name": "stdout",
     "output_type": "stream",
     "text": [
      "Spark Session is Created...\n"
     ]
    }
   ],
   "source": [
    "from pyspark.sql import SparkSession\n",
    "spark = SparkSession.builder.appName('Features').getOrCreate()\n",
    "print('Spark Session is Created...')"
   ]
  },
  {
   "cell_type": "code",
   "execution_count": 3,
   "id": "4215b114-6ebe-4360-8327-41a0190924e8",
   "metadata": {},
   "outputs": [],
   "source": [
    "# # to connect jdbc with the spark\n",
    "# df = spark.read.format('jdbc').option('url',url).option('driver','oracle.jdbc.driver.OracleDriver').option('dtable','ORDERS').option('user',user).option('password',password).load()\n",
    "\n",
    "\n",
    "# # to connect jdbc with the sql query\n",
    "# df = spark.read.format('jdbc').option('url',url).option('driver','oracle.jdbc.driver.OracleDriver').option('dtable','()query').option('user',user).option('password',password).load()\n",
    "\n",
    "\n",
    "# # to connect jdbc with the spark\n",
    "# df = spark.read.format('jdbc').option('url',url).option('driver','oracle.jdbc.driver.OracleDriver').option('dtable','ORDERS').\\\n",
    "# .option('partitionColumn',colname)\\\n",
    "# .option('lowerBound',1000)\\\n",
    "# .option('upperBound',10000)\\\n",
    "# .option('numPartitions',4)\\\n",
    "# option('user',user).option('password',password).load()\n"
   ]
  },
  {
   "cell_type": "code",
   "execution_count": 5,
   "id": "a8adec58-c796-4674-b3d9-2ca6d0b227f1",
   "metadata": {},
   "outputs": [
    {
     "data": {
      "text/plain": [
       "'default'"
      ]
     },
     "execution_count": 5,
     "metadata": {},
     "output_type": "execute_result"
    }
   ],
   "source": [
    "# catalog in pyspark\n",
    "\n",
    "spark.catalog.currentDatabase()"
   ]
  },
  {
   "cell_type": "code",
   "execution_count": 7,
   "id": "20a2a06a-7593-4a91-a3e0-edc405bdeda9",
   "metadata": {},
   "outputs": [
    {
     "data": {
      "text/plain": [
       "[Database(name='default', catalog='spark_catalog', description='default database', locationUri='file:/home/mahesh/Python%2520Projects/PySpark%2520Day%25203/PySpark%2520SparkSession%2520Features/spark-warehouse')]"
      ]
     },
     "execution_count": 7,
     "metadata": {},
     "output_type": "execute_result"
    }
   ],
   "source": [
    "spark.catalog.listDatabases()"
   ]
  },
  {
   "cell_type": "code",
   "execution_count": 8,
   "id": "0af705b8-c036-410a-bc2b-c3f97fc55682",
   "metadata": {},
   "outputs": [
    {
     "data": {
      "text/plain": [
       "['default']"
      ]
     },
     "execution_count": 8,
     "metadata": {},
     "output_type": "execute_result"
    }
   ],
   "source": [
    "[i.name for i in spark.catalog.listDatabases()]"
   ]
  },
  {
   "cell_type": "code",
   "execution_count": 11,
   "id": "be614a3c-c5cc-4115-b0e6-f234bae9f0ea",
   "metadata": {},
   "outputs": [
    {
     "data": {
      "text/plain": [
       "<bound method Catalog.listColumns of <pyspark.sql.catalog.Catalog object at 0x7f605a3b63e0>>"
      ]
     },
     "execution_count": 11,
     "metadata": {},
     "output_type": "execute_result"
    }
   ],
   "source": [
    "spark.catalog.listColumns"
   ]
  },
  {
   "cell_type": "code",
   "execution_count": 19,
   "id": "b2358447-53cc-4046-b0d1-a42662c76710",
   "metadata": {},
   "outputs": [
    {
     "data": {
      "text/plain": [
       "<bound method Catalog.dropTempView of <pyspark.sql.catalog.Catalog object at 0x7f605a3b63e0>>"
      ]
     },
     "execution_count": 19,
     "metadata": {},
     "output_type": "execute_result"
    }
   ],
   "source": [
    "spark.catalog.cacheTable\n",
    "spark.catalog.dropTempView\n"
   ]
  }
 ],
 "metadata": {
  "kernelspec": {
   "display_name": "Python 3 (ipykernel)",
   "language": "python",
   "name": "python3"
  },
  "language_info": {
   "codemirror_mode": {
    "name": "ipython",
    "version": 3
   },
   "file_extension": ".py",
   "mimetype": "text/x-python",
   "name": "python",
   "nbconvert_exporter": "python",
   "pygments_lexer": "ipython3",
   "version": "3.10.12"
  }
 },
 "nbformat": 4,
 "nbformat_minor": 5
}

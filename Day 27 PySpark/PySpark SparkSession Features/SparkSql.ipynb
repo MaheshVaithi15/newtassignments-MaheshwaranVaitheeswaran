{
 "cells": [
  {
   "cell_type": "code",
   "execution_count": 1,
   "id": "f82f0b99-cdc7-49ae-97a7-e01b37404549",
   "metadata": {},
   "outputs": [
    {
     "name": "stderr",
     "output_type": "stream",
     "text": [
      "24/01/10 12:25:02 WARN Utils: Your hostname, MaheshPC resolves to a loopback address: 127.0.1.1; using 192.168.1.7 instead (on interface enp5s0)\n",
      "24/01/10 12:25:02 WARN Utils: Set SPARK_LOCAL_IP if you need to bind to another address\n",
      "Setting default log level to \"WARN\".\n",
      "To adjust logging level use sc.setLogLevel(newLevel). For SparkR, use setLogLevel(newLevel).\n",
      "24/01/10 12:25:02 WARN NativeCodeLoader: Unable to load native-hadoop library for your platform... using builtin-java classes where applicable\n",
      "24/01/10 12:25:03 WARN Utils: Service 'SparkUI' could not bind on port 4040. Attempting port 4041.\n"
     ]
    },
    {
     "name": "stdout",
     "output_type": "stream",
     "text": [
      "Spark Session is Created...\n"
     ]
    }
   ],
   "source": [
    "from pyspark.sql import SparkSession\n",
    "spark = SparkSession.builder.appName('Features').getOrCreate()\n",
    "print('Spark Session is Created...')"
   ]
  },
  {
   "cell_type": "code",
   "execution_count": 2,
   "id": "bafe4de7-0b99-4a9b-9a0a-ed81ea86f1ed",
   "metadata": {},
   "outputs": [
    {
     "name": "stdout",
     "output_type": "stream",
     "text": [
      "Help on method sql in module pyspark.sql.session:\n",
      "\n",
      "sql(sqlQuery: str, args: Union[Dict[str, Any], List, NoneType] = None, **kwargs: Any) -> pyspark.sql.dataframe.DataFrame method of pyspark.sql.session.SparkSession instance\n",
      "    Returns a :class:`DataFrame` representing the result of the given query.\n",
      "    When ``kwargs`` is specified, this method formats the given string by using the Python\n",
      "    standard formatter. The method binds named parameters to SQL literals or\n",
      "    positional parameters from `args`. It doesn't support named and positional parameters\n",
      "    in the same SQL query.\n",
      "    \n",
      "    .. versionadded:: 2.0.0\n",
      "    \n",
      "    .. versionchanged:: 3.4.0\n",
      "        Supports Spark Connect and parameterized SQL.\n",
      "    \n",
      "    .. versionchanged:: 3.5.0\n",
      "        Added positional parameters.\n",
      "    \n",
      "    Parameters\n",
      "    ----------\n",
      "    sqlQuery : str\n",
      "        SQL query string.\n",
      "    args : dict or list\n",
      "        A dictionary of parameter names to Python objects or a list of Python objects\n",
      "        that can be converted to SQL literal expressions. See\n",
      "        <a href=\"https://spark.apache.org/docs/latest/sql-ref-datatypes.html\">\n",
      "        Supported Data Types</a> for supported value types in Python.\n",
      "        For example, dictionary keys: \"rank\", \"name\", \"birthdate\";\n",
      "        dictionary or list values: 1, \"Steven\", datetime.date(2023, 4, 2).\n",
      "        A value can be also a `Column` of literal expression, in that case it is taken as is.\n",
      "    \n",
      "        .. versionadded:: 3.4.0\n",
      "    \n",
      "    kwargs : dict\n",
      "        Other variables that the user wants to set that can be referenced in the query\n",
      "    \n",
      "        .. versionchanged:: 3.3.0\n",
      "           Added optional argument ``kwargs`` to specify the mapping of variables in the query.\n",
      "           This feature is experimental and unstable.\n",
      "    \n",
      "    Returns\n",
      "    -------\n",
      "    :class:`DataFrame`\n",
      "    \n",
      "    Examples\n",
      "    --------\n",
      "    Executing a SQL query.\n",
      "    \n",
      "    >>> spark.sql(\"SELECT * FROM range(10) where id > 7\").show()\n",
      "    +---+\n",
      "    | id|\n",
      "    +---+\n",
      "    |  8|\n",
      "    |  9|\n",
      "    +---+\n",
      "    \n",
      "    Executing a SQL query with variables as Python formatter standard.\n",
      "    \n",
      "    >>> spark.sql(\n",
      "    ...     \"SELECT * FROM range(10) WHERE id > {bound1} AND id < {bound2}\", bound1=7, bound2=9\n",
      "    ... ).show()\n",
      "    +---+\n",
      "    | id|\n",
      "    +---+\n",
      "    |  8|\n",
      "    +---+\n",
      "    \n",
      "    >>> mydf = spark.range(10)\n",
      "    >>> spark.sql(\n",
      "    ...     \"SELECT {col} FROM {mydf} WHERE id IN {x}\",\n",
      "    ...     col=mydf.id, mydf=mydf, x=tuple(range(4))).show()\n",
      "    +---+\n",
      "    | id|\n",
      "    +---+\n",
      "    |  0|\n",
      "    |  1|\n",
      "    |  2|\n",
      "    |  3|\n",
      "    +---+\n",
      "    \n",
      "    >>> spark.sql('''\n",
      "    ...   SELECT m1.a, m2.b\n",
      "    ...   FROM {table1} m1 INNER JOIN {table2} m2\n",
      "    ...   ON m1.key = m2.key\n",
      "    ...   ORDER BY m1.a, m2.b''',\n",
      "    ...   table1=spark.createDataFrame([(1, \"a\"), (2, \"b\")], [\"a\", \"key\"]),\n",
      "    ...   table2=spark.createDataFrame([(3, \"a\"), (4, \"b\"), (5, \"b\")], [\"b\", \"key\"])).show()\n",
      "    +---+---+\n",
      "    |  a|  b|\n",
      "    +---+---+\n",
      "    |  1|  3|\n",
      "    |  2|  4|\n",
      "    |  2|  5|\n",
      "    +---+---+\n",
      "    \n",
      "    Also, it is possible to query using class:`Column` from :class:`DataFrame`.\n",
      "    \n",
      "    >>> mydf = spark.createDataFrame([(1, 4), (2, 4), (3, 6)], [\"A\", \"B\"])\n",
      "    >>> spark.sql(\"SELECT {df.A}, {df[B]} FROM {df}\", df=mydf).show()\n",
      "    +---+---+\n",
      "    |  A|  B|\n",
      "    +---+---+\n",
      "    |  1|  4|\n",
      "    |  2|  4|\n",
      "    |  3|  6|\n",
      "    +---+---+\n",
      "    \n",
      "    And substitude named parameters with the `:` prefix by SQL literals.\n",
      "    \n",
      "    >>> spark.sql(\"SELECT * FROM {df} WHERE {df[B]} > :minB\", {\"minB\" : 5}, df=mydf).show()\n",
      "    +---+---+\n",
      "    |  A|  B|\n",
      "    +---+---+\n",
      "    |  3|  6|\n",
      "    +---+---+\n",
      "    \n",
      "    Or positional parameters marked by `?` in the SQL query by SQL literals.\n",
      "    \n",
      "    >>> spark.sql(\n",
      "    ...   \"SELECT * FROM {df} WHERE {df[B]} > ? and ? < {df[A]}\",\n",
      "    ...   args=[5, 2], df=mydf).show()\n",
      "    +---+---+\n",
      "    |  A|  B|\n",
      "    +---+---+\n",
      "    |  3|  6|\n",
      "    +---+---+\n",
      "\n"
     ]
    }
   ],
   "source": [
    "help(spark.sql)"
   ]
  },
  {
   "cell_type": "code",
   "execution_count": 3,
   "id": "96fb8517-6120-4a7c-bcb5-ef6d5db62eff",
   "metadata": {},
   "outputs": [
    {
     "name": "stdout",
     "output_type": "stream",
     "text": [
      "DataFrame Created\n"
     ]
    }
   ],
   "source": [
    "# to perform sql in spark session\n",
    "\n",
    "lst1 = [('Pradeep',25),('Pravin',24)]\n",
    "\n",
    "lst2 = [('Pradeep',101),('Pravin',102)]\n",
    "\n",
    "df_emp = spark.createDataFrame(data=lst1,schema=['Name','Age'])\n",
    "df_dept = spark.createDataFrame(data=lst2,schema=['Name','Deptid'])\n",
    "\n",
    "print('DataFrame Created')\n",
    "\n"
   ]
  },
  {
   "cell_type": "code",
   "execution_count": 4,
   "id": "30f8168b-d603-48fd-bd48-e1e6d1649d49",
   "metadata": {},
   "outputs": [
    {
     "name": "stderr",
     "output_type": "stream",
     "text": [
      "                                                                                \r"
     ]
    },
    {
     "name": "stdout",
     "output_type": "stream",
     "text": [
      "+-------+---+\n",
      "|   Name|Age|\n",
      "+-------+---+\n",
      "|Pradeep| 25|\n",
      "| Pravin| 24|\n",
      "+-------+---+\n",
      "\n",
      "+-------+------+\n",
      "|   Name|Deptid|\n",
      "+-------+------+\n",
      "|Pradeep|   101|\n",
      "| Pravin|   102|\n",
      "+-------+------+\n",
      "\n"
     ]
    }
   ],
   "source": [
    "df_emp.show()\n",
    "df_dept.show()"
   ]
  },
  {
   "cell_type": "code",
   "execution_count": 7,
   "id": "a4de6432-158a-4e1c-bc09-a0fcf75a9313",
   "metadata": {},
   "outputs": [
    {
     "name": "stdout",
     "output_type": "stream",
     "text": [
      "View Created to both dataframe\n"
     ]
    }
   ],
   "source": [
    "# to create temporary view in the data\n",
    "\n",
    "df_emp.createOrReplaceTempView('emp')\n",
    "df_dept.createOrReplaceGlobalTempView('dept')\n",
    "\n",
    "print('View Created to both dataframe')"
   ]
  },
  {
   "cell_type": "code",
   "execution_count": 8,
   "id": "052734be-a409-4559-ad49-8c0485253d70",
   "metadata": {},
   "outputs": [
    {
     "name": "stdout",
     "output_type": "stream",
     "text": [
      "+------+---+\n",
      "|  Name|Age|\n",
      "+------+---+\n",
      "|Pravin| 24|\n",
      "+------+---+\n",
      "\n"
     ]
    }
   ],
   "source": [
    "# implementing sql statements in the pyspark\n",
    "\n",
    "res = spark.sql(\"\"\"select * from emp where age=24\"\"\")\n",
    "res.show()"
   ]
  },
  {
   "cell_type": "code",
   "execution_count": 10,
   "id": "1eb5a532-b0dc-499e-b41f-a62bb3c4135e",
   "metadata": {},
   "outputs": [
    {
     "name": "stdout",
     "output_type": "stream",
     "text": [
      "+-------+------+\n",
      "|   Name|Deptid|\n",
      "+-------+------+\n",
      "|Pradeep|   101|\n",
      "+-------+------+\n",
      "\n"
     ]
    }
   ],
   "source": [
    "res1= spark.sql(\"\"\"select * from global_temp.dept where deptid=101\"\"\")\n",
    "res1.show()"
   ]
  },
  {
   "cell_type": "code",
   "execution_count": 13,
   "id": "d3a757f0-cb75-4ed2-b3b3-3bd756a44f43",
   "metadata": {},
   "outputs": [
    {
     "name": "stdout",
     "output_type": "stream",
     "text": [
      "Help on method table in module pyspark.sql.session:\n",
      "\n",
      "table(tableName: str) -> pyspark.sql.dataframe.DataFrame method of pyspark.sql.session.SparkSession instance\n",
      "    Returns the specified table as a :class:`DataFrame`.\n",
      "    \n",
      "    .. versionadded:: 2.0.0\n",
      "    \n",
      "    .. versionchanged:: 3.4.0\n",
      "        Supports Spark Connect.\n",
      "    \n",
      "    Parameters\n",
      "    ----------\n",
      "    tableName : str\n",
      "        the table name to retrieve.\n",
      "    \n",
      "    Returns\n",
      "    -------\n",
      "    :class:`DataFrame`\n",
      "    \n",
      "    Examples\n",
      "    --------\n",
      "    >>> spark.range(5).createOrReplaceTempView(\"table1\")\n",
      "    >>> spark.table(\"table1\").sort(\"id\").show()\n",
      "    +---+\n",
      "    | id|\n",
      "    +---+\n",
      "    |  0|\n",
      "    |  1|\n",
      "    |  2|\n",
      "    |  3|\n",
      "    |  4|\n",
      "    +---+\n",
      "\n"
     ]
    }
   ],
   "source": [
    "# table functions\n",
    "\n",
    "help(spark.table)"
   ]
  },
  {
   "cell_type": "code",
   "execution_count": 14,
   "id": "6a4c8d21-e632-4d0f-a139-c29e18932de7",
   "metadata": {},
   "outputs": [
    {
     "name": "stdout",
     "output_type": "stream",
     "text": [
      "+-------+---+\n",
      "|   Name|Age|\n",
      "+-------+---+\n",
      "|Pradeep| 25|\n",
      "| Pravin| 24|\n",
      "+-------+---+\n",
      "\n"
     ]
    }
   ],
   "source": [
    "# to create table from sql\n",
    "\n",
    "df_empt = spark.table('emp')\n",
    "\n",
    "df_empt.show()"
   ]
  }
 ],
 "metadata": {
  "kernelspec": {
   "display_name": "Python 3 (ipykernel)",
   "language": "python",
   "name": "python3"
  },
  "language_info": {
   "codemirror_mode": {
    "name": "ipython",
    "version": 3
   },
   "file_extension": ".py",
   "mimetype": "text/x-python",
   "name": "python",
   "nbconvert_exporter": "python",
   "pygments_lexer": "ipython3",
   "version": "3.10.12"
  }
 },
 "nbformat": 4,
 "nbformat_minor": 5
}

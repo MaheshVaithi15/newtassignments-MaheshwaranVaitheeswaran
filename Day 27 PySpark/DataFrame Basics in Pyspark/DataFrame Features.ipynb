{
 "cells": [
  {
   "cell_type": "code",
   "execution_count": 2,
   "id": "4ca861b6-8c76-44eb-ae92-85358cd4321f",
   "metadata": {},
   "outputs": [
    {
     "name": "stderr",
     "output_type": "stream",
     "text": [
      "24/01/10 14:05:21 WARN Utils: Your hostname, MaheshPC resolves to a loopback address: 127.0.1.1; using 192.168.1.7 instead (on interface enp5s0)\n",
      "24/01/10 14:05:21 WARN Utils: Set SPARK_LOCAL_IP if you need to bind to another address\n",
      "Setting default log level to \"WARN\".\n",
      "To adjust logging level use sc.setLogLevel(newLevel). For SparkR, use setLogLevel(newLevel).\n",
      "24/01/10 14:05:22 WARN NativeCodeLoader: Unable to load native-hadoop library for your platform... using builtin-java classes where applicable\n",
      "24/01/10 14:05:23 WARN Utils: Service 'SparkUI' could not bind on port 4040. Attempting port 4041.\n",
      "24/01/10 14:05:23 WARN Utils: Service 'SparkUI' could not bind on port 4041. Attempting port 4042.\n",
      "24/01/10 14:05:23 WARN Utils: Service 'SparkUI' could not bind on port 4042. Attempting port 4043.\n",
      "24/01/10 14:05:23 WARN Utils: Service 'SparkUI' could not bind on port 4043. Attempting port 4044.\n"
     ]
    },
    {
     "name": "stdout",
     "output_type": "stream",
     "text": [
      "Session is Created\n"
     ]
    }
   ],
   "source": [
    "from pyspark.sql import SparkSession\n",
    "\n",
    "spark = SparkSession.builder.appName('DataFrame').getOrCreate()\n",
    "\n",
    "print('Session is Created')"
   ]
  },
  {
   "cell_type": "code",
   "execution_count": 3,
   "id": "d62b39e5-e258-4f4b-bd8a-e8b393cd0094",
   "metadata": {},
   "outputs": [
    {
     "name": "stderr",
     "output_type": "stream",
     "text": [
      "                                                                                \r"
     ]
    },
    {
     "name": "stdout",
     "output_type": "stream",
     "text": [
      "+-------+---+\n",
      "|   Name|Age|\n",
      "+-------+---+\n",
      "| Mahesh| 25|\n",
      "|Pradeep| 26|\n",
      "+-------+---+\n",
      "\n"
     ]
    }
   ],
   "source": [
    "lst = [('Mahesh',25),('Pradeep',26)]\n",
    "\n",
    "df = spark.createDataFrame(data=lst,schema=['Name','Age'])\n",
    "\n",
    "df.show()"
   ]
  },
  {
   "cell_type": "code",
   "execution_count": 5,
   "id": "7af510ac-f91e-4423-a936-0f148fe64d63",
   "metadata": {},
   "outputs": [
    {
     "data": {
      "text/plain": [
       "8"
      ]
     },
     "execution_count": 5,
     "metadata": {},
     "output_type": "execute_result"
    }
   ],
   "source": [
    "df.rdd.getNumPartitions()"
   ]
  },
  {
   "cell_type": "code",
   "execution_count": 6,
   "id": "254b5e3b-1f7c-4320-8c35-06ba936cb90d",
   "metadata": {},
   "outputs": [
    {
     "name": "stderr",
     "output_type": "stream",
     "text": [
      "                                                                                \r"
     ]
    },
    {
     "data": {
      "text/plain": [
       "[[],\n",
       " [],\n",
       " [],\n",
       " [Row(Name='Mahesh', Age=25)],\n",
       " [],\n",
       " [],\n",
       " [],\n",
       " [Row(Name='Pradeep', Age=26)]]"
      ]
     },
     "execution_count": 6,
     "metadata": {},
     "output_type": "execute_result"
    }
   ],
   "source": [
    "df.rdd.glom().collect()"
   ]
  },
  {
   "cell_type": "code",
   "execution_count": 8,
   "id": "9f441ad7-692d-4393-87a6-c184d27a62c3",
   "metadata": {},
   "outputs": [
    {
     "data": {
      "text/plain": [
       "StorageLevel(False, False, False, False, 1)"
      ]
     },
     "execution_count": 8,
     "metadata": {},
     "output_type": "execute_result"
    }
   ],
   "source": [
    "df.rdd.getStorageLevel()"
   ]
  },
  {
   "cell_type": "code",
   "execution_count": 12,
   "id": "e0cf90ac-6e50-4583-9ab1-7c067dcd6411",
   "metadata": {},
   "outputs": [
    {
     "data": {
      "text/plain": [
       "StorageLevel(False, True, False, False, 1)"
      ]
     },
     "execution_count": 12,
     "metadata": {},
     "output_type": "execute_result"
    }
   ],
   "source": [
    "df.rdd.persist().getStorageLevel()"
   ]
  },
  {
   "cell_type": "code",
   "execution_count": 19,
   "id": "96326302-4d9e-4949-aecd-f20312b12129",
   "metadata": {},
   "outputs": [],
   "source": [
    "spark.conf.set(\"spark.sql.legacy.createHiveTableByDefault\", \"false\")\n"
   ]
  },
  {
   "cell_type": "code",
   "execution_count": 22,
   "id": "4585ce0e-e3a4-4965-872e-ff4c67bf4d07",
   "metadata": {},
   "outputs": [
    {
     "data": {
      "text/plain": [
       "DataFrame[]"
      ]
     },
     "execution_count": 22,
     "metadata": {},
     "output_type": "execute_result"
    }
   ],
   "source": [
    "# pyspark Datatypes\n",
    "\n",
    "# to create sql \n",
    "\n",
    "spark.sql(\"\"\" create table demo2 (c1 varchar(20),c2 char(10),c3 string) \"\"\")\n",
    "\n"
   ]
  },
  {
   "cell_type": "code",
   "execution_count": 23,
   "id": "a3f89b55-b305-4bd2-9b1d-65949f692187",
   "metadata": {},
   "outputs": [
    {
     "name": "stderr",
     "output_type": "stream",
     "text": [
      "                                                                                \r"
     ]
    },
    {
     "data": {
      "text/plain": [
       "DataFrame[]"
      ]
     },
     "execution_count": 23,
     "metadata": {},
     "output_type": "execute_result"
    }
   ],
   "source": [
    "spark.sql(\"\"\"insert into demo2 values('Mahesh','Mahesh','Mahesh')\"\"\")"
   ]
  },
  {
   "cell_type": "code",
   "execution_count": 25,
   "id": "19899197-7ffe-4dc4-93e7-a0ed5b438163",
   "metadata": {},
   "outputs": [
    {
     "name": "stdout",
     "output_type": "stream",
     "text": [
      "+------+----------+------+\n",
      "|    c1|        c2|    c3|\n",
      "+------+----------+------+\n",
      "|Mahesh|Mahesh    |Mahesh|\n",
      "+------+----------+------+\n",
      "\n"
     ]
    }
   ],
   "source": [
    "spark.sql(\"\"\"select * from demo2\"\"\").show()"
   ]
  }
 ],
 "metadata": {
  "kernelspec": {
   "display_name": "Python 3 (ipykernel)",
   "language": "python",
   "name": "python3"
  },
  "language_info": {
   "codemirror_mode": {
    "name": "ipython",
    "version": 3
   },
   "file_extension": ".py",
   "mimetype": "text/x-python",
   "name": "python",
   "nbconvert_exporter": "python",
   "pygments_lexer": "ipython3",
   "version": "3.10.12"
  }
 },
 "nbformat": 4,
 "nbformat_minor": 5
}

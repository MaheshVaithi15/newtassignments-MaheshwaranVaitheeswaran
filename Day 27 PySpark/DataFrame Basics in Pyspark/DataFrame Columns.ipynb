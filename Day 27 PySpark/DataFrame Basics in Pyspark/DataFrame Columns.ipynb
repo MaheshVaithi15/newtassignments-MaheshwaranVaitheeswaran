{
 "cells": [
  {
   "cell_type": "code",
   "execution_count": 1,
   "id": "ce9b5169-8a6a-4c1f-bdda-407a0a31d249",
   "metadata": {},
   "outputs": [
    {
     "name": "stderr",
     "output_type": "stream",
     "text": [
      "24/01/10 14:33:07 WARN Utils: Your hostname, MaheshPC resolves to a loopback address: 127.0.1.1; using 192.168.1.7 instead (on interface enp5s0)\n",
      "24/01/10 14:33:07 WARN Utils: Set SPARK_LOCAL_IP if you need to bind to another address\n",
      "Setting default log level to \"WARN\".\n",
      "To adjust logging level use sc.setLogLevel(newLevel). For SparkR, use setLogLevel(newLevel).\n",
      "24/01/10 14:33:08 WARN NativeCodeLoader: Unable to load native-hadoop library for your platform... using builtin-java classes where applicable\n",
      "24/01/10 14:33:09 WARN Utils: Service 'SparkUI' could not bind on port 4040. Attempting port 4041.\n",
      "24/01/10 14:33:09 WARN Utils: Service 'SparkUI' could not bind on port 4041. Attempting port 4042.\n",
      "24/01/10 14:33:09 WARN Utils: Service 'SparkUI' could not bind on port 4042. Attempting port 4043.\n",
      "24/01/10 14:33:09 WARN Utils: Service 'SparkUI' could not bind on port 4043. Attempting port 4044.\n",
      "24/01/10 14:33:09 WARN Utils: Service 'SparkUI' could not bind on port 4044. Attempting port 4045.\n",
      "24/01/10 14:33:09 WARN Utils: Service 'SparkUI' could not bind on port 4045. Attempting port 4046.\n"
     ]
    },
    {
     "name": "stdout",
     "output_type": "stream",
     "text": [
      "Session is Created\n"
     ]
    }
   ],
   "source": [
    "from pyspark.sql import SparkSession\n",
    "\n",
    "spark = SparkSession.builder.appName('DataFrame').getOrCreate()\n",
    "\n",
    "print('Session is Created')"
   ]
  },
  {
   "cell_type": "code",
   "execution_count": 7,
   "id": "7190a137-f72e-4571-973e-b7e021d79634",
   "metadata": {
    "scrolled": true
   },
   "outputs": [
    {
     "name": "stdout",
     "output_type": "stream",
     "text": [
      "+-------+-------------------+-------------+---------------+\n",
      "|orderid|          orderdate|order_cust_id|   order_status|\n",
      "+-------+-------------------+-------------+---------------+\n",
      "|      1|2013-07-25 00:00:00|        11599|         CLOSED|\n",
      "|      2|2013-07-25 00:00:00|          256|PENDING_PAYMENT|\n",
      "|      3|2013-07-25 00:00:00|        12111|       COMPLETE|\n",
      "|      4|2013-07-25 00:00:00|         8827|         CLOSED|\n",
      "|      5|2013-07-25 00:00:00|        11318|       COMPLETE|\n",
      "|      6|2013-07-25 00:00:00|         7130|       COMPLETE|\n",
      "|      7|2013-07-25 00:00:00|         4530|       COMPLETE|\n",
      "|      8|2013-07-25 00:00:00|         2911|     PROCESSING|\n",
      "|      9|2013-07-25 00:00:00|         5657|PENDING_PAYMENT|\n",
      "|     10|2013-07-25 00:00:00|         5648|PENDING_PAYMENT|\n",
      "|     11|2013-07-25 00:00:00|          918| PAYMENT_REVIEW|\n",
      "|     12|2013-07-25 00:00:00|         1837|         CLOSED|\n",
      "|     13|2013-07-25 00:00:00|         9149|PENDING_PAYMENT|\n",
      "|     14|2013-07-25 00:00:00|         9842|     PROCESSING|\n",
      "|     15|2013-07-25 00:00:00|         2568|       COMPLETE|\n",
      "|     16|2013-07-25 00:00:00|         7276|PENDING_PAYMENT|\n",
      "|     17|2013-07-25 00:00:00|         2667|       COMPLETE|\n",
      "|     18|2013-07-25 00:00:00|         1205|         CLOSED|\n",
      "|     19|2013-07-25 00:00:00|         9488|PENDING_PAYMENT|\n",
      "|     20|2013-07-25 00:00:00|         9198|     PROCESSING|\n",
      "+-------+-------------------+-------------+---------------+\n",
      "only showing top 20 rows\n",
      "\n"
     ]
    }
   ],
   "source": [
    "ord = spark.read.load('Datasets/Orders',format='csv',sep=',',schema=('orderid int,orderdate timestamp,order_cust_id int,order_status string'))\n",
    "ord.show()"
   ]
  },
  {
   "cell_type": "code",
   "execution_count": 8,
   "id": "c9ab8ede-b108-49d0-b696-322390cef195",
   "metadata": {},
   "outputs": [
    {
     "name": "stdout",
     "output_type": "stream",
     "text": [
      "root\n",
      " |-- orderid: integer (nullable = true)\n",
      " |-- orderdate: timestamp (nullable = true)\n",
      " |-- order_cust_id: integer (nullable = true)\n",
      " |-- order_status: string (nullable = true)\n",
      "\n"
     ]
    }
   ],
   "source": [
    "ord.printSchema()"
   ]
  },
  {
   "cell_type": "code",
   "execution_count": 9,
   "id": "a0fde585-9bd5-4908-b3d4-1f1248e2f19f",
   "metadata": {},
   "outputs": [
    {
     "name": "stdout",
     "output_type": "stream",
     "text": [
      "+---------------+\n",
      "|   order_status|\n",
      "+---------------+\n",
      "|         CLOSED|\n",
      "|PENDING_PAYMENT|\n",
      "|       COMPLETE|\n",
      "|         CLOSED|\n",
      "|       COMPLETE|\n",
      "|       COMPLETE|\n",
      "|       COMPLETE|\n",
      "|     PROCESSING|\n",
      "|PENDING_PAYMENT|\n",
      "|PENDING_PAYMENT|\n",
      "| PAYMENT_REVIEW|\n",
      "|         CLOSED|\n",
      "|PENDING_PAYMENT|\n",
      "|     PROCESSING|\n",
      "|       COMPLETE|\n",
      "|PENDING_PAYMENT|\n",
      "|       COMPLETE|\n",
      "|         CLOSED|\n",
      "|PENDING_PAYMENT|\n",
      "|     PROCESSING|\n",
      "+---------------+\n",
      "only showing top 20 rows\n",
      "\n"
     ]
    }
   ],
   "source": [
    "# to return a particular column as dataframe\n",
    "\n",
    "ord.select(ord.order_status).show()"
   ]
  },
  {
   "cell_type": "code",
   "execution_count": 12,
   "id": "b95b66bd-b9af-4023-a44e-61f8e6fa2611",
   "metadata": {},
   "outputs": [
    {
     "name": "stdout",
     "output_type": "stream",
     "text": [
      "+-------+\n",
      "|orderid|\n",
      "+-------+\n",
      "|      1|\n",
      "|      2|\n",
      "|      3|\n",
      "|      4|\n",
      "|      5|\n",
      "|      6|\n",
      "|      7|\n",
      "|      8|\n",
      "|      9|\n",
      "|     10|\n",
      "|     11|\n",
      "|     12|\n",
      "|     13|\n",
      "|     14|\n",
      "|     15|\n",
      "|     16|\n",
      "|     17|\n",
      "|     18|\n",
      "|     19|\n",
      "|     20|\n",
      "+-------+\n",
      "only showing top 20 rows\n",
      "\n"
     ]
    }
   ],
   "source": [
    "# to select data by col function\n",
    "from pyspark.sql.functions import col\n",
    "ord.select(col('orderid')).show()"
   ]
  },
  {
   "cell_type": "code",
   "execution_count": 13,
   "id": "9ad8c097-29bc-4aae-ad55-d983981e4936",
   "metadata": {},
   "outputs": [
    {
     "name": "stdout",
     "output_type": "stream",
     "text": [
      "+---+\n",
      "| ID|\n",
      "+---+\n",
      "|  1|\n",
      "|  2|\n",
      "|  3|\n",
      "|  4|\n",
      "|  5|\n",
      "|  6|\n",
      "|  7|\n",
      "|  8|\n",
      "|  9|\n",
      "| 10|\n",
      "| 11|\n",
      "| 12|\n",
      "| 13|\n",
      "| 14|\n",
      "| 15|\n",
      "| 16|\n",
      "| 17|\n",
      "| 18|\n",
      "| 19|\n",
      "| 20|\n",
      "+---+\n",
      "only showing top 20 rows\n",
      "\n"
     ]
    }
   ],
   "source": [
    "ord.select(col('orderid').alias('ID')).show()"
   ]
  },
  {
   "cell_type": "code",
   "execution_count": 23,
   "id": "c27e09e6-ba95-4ab1-a9df-fe21ed3019fd",
   "metadata": {},
   "outputs": [],
   "source": [
    "# converting column datatypes using casting\n",
    "\n",
    "ord_cpy = ord.select(ord.orderid.cast('string'))\n"
   ]
  },
  {
   "cell_type": "code",
   "execution_count": 24,
   "id": "e18913a3-b32a-4c0a-befc-572ff6c9c203",
   "metadata": {},
   "outputs": [
    {
     "name": "stdout",
     "output_type": "stream",
     "text": [
      "root\n",
      " |-- orderid: string (nullable = true)\n",
      "\n"
     ]
    }
   ],
   "source": [
    "\n",
    "ord_cpy.printSchema()"
   ]
  },
  {
   "cell_type": "code",
   "execution_count": 25,
   "id": "be002be1-779c-46d6-8c2a-9452fe1fd591",
   "metadata": {},
   "outputs": [
    {
     "name": "stdout",
     "output_type": "stream",
     "text": [
      "+-------------------------------------+\n",
      "|((orderid >= 20) AND (orderid <= 30))|\n",
      "+-------------------------------------+\n",
      "|                                false|\n",
      "|                                false|\n",
      "|                                false|\n",
      "|                                false|\n",
      "|                                false|\n",
      "|                                false|\n",
      "|                                false|\n",
      "|                                false|\n",
      "|                                false|\n",
      "|                                false|\n",
      "|                                false|\n",
      "|                                false|\n",
      "|                                false|\n",
      "|                                false|\n",
      "|                                false|\n",
      "|                                false|\n",
      "|                                false|\n",
      "|                                false|\n",
      "|                                false|\n",
      "|                                 true|\n",
      "+-------------------------------------+\n",
      "only showing top 20 rows\n",
      "\n"
     ]
    }
   ],
   "source": [
    "ord.select(ord.orderid.between(20,30)).show()"
   ]
  },
  {
   "cell_type": "code",
   "execution_count": 28,
   "id": "e5ba4837-6e1f-4ced-8088-a51628ee9f32",
   "metadata": {},
   "outputs": [
    {
     "name": "stdout",
     "output_type": "stream",
     "text": [
      "+-------+-------------------+-------------+------------+\n",
      "|orderid|          orderdate|order_cust_id|order_status|\n",
      "+-------+-------------------+-------------+------------+\n",
      "|      1|2013-07-25 00:00:00|        11599|      CLOSED|\n",
      "|      4|2013-07-25 00:00:00|         8827|      CLOSED|\n",
      "|     12|2013-07-25 00:00:00|         1837|      CLOSED|\n",
      "|     18|2013-07-25 00:00:00|         1205|      CLOSED|\n",
      "|     24|2013-07-25 00:00:00|        11441|      CLOSED|\n",
      "|     25|2013-07-25 00:00:00|         9503|      CLOSED|\n",
      "|     37|2013-07-25 00:00:00|         5863|      CLOSED|\n",
      "|     51|2013-07-25 00:00:00|        12271|      CLOSED|\n",
      "|     57|2013-07-25 00:00:00|         7073|      CLOSED|\n",
      "|     61|2013-07-25 00:00:00|         4791|      CLOSED|\n",
      "|     62|2013-07-25 00:00:00|         9111|      CLOSED|\n",
      "|     87|2013-07-25 00:00:00|         3065|      CLOSED|\n",
      "|     90|2013-07-25 00:00:00|         9131|      CLOSED|\n",
      "|    101|2013-07-25 00:00:00|         5116|      CLOSED|\n",
      "|    116|2013-07-26 00:00:00|         8763|      CLOSED|\n",
      "|    129|2013-07-26 00:00:00|         9937|      CLOSED|\n",
      "|    133|2013-07-26 00:00:00|        10604|      CLOSED|\n",
      "|    191|2013-07-26 00:00:00|           16|      CLOSED|\n",
      "|    201|2013-07-26 00:00:00|         9055|      CLOSED|\n",
      "|    211|2013-07-26 00:00:00|        10372|      CLOSED|\n",
      "+-------+-------------------+-------------+------------+\n",
      "only showing top 20 rows\n",
      "\n"
     ]
    }
   ],
   "source": [
    "ord.where(ord.order_status.contains('CLOSED')).show()"
   ]
  },
  {
   "cell_type": "code",
   "execution_count": 30,
   "id": "d34dbdc8-fdf4-4a58-a489-4b5a7a76cae4",
   "metadata": {},
   "outputs": [
    {
     "name": "stdout",
     "output_type": "stream",
     "text": [
      "+-------+-------------------+-------------+------------+\n",
      "|orderid|          orderdate|order_cust_id|order_status|\n",
      "+-------+-------------------+-------------+------------+\n",
      "|      1|2013-07-25 00:00:00|        11599|      CLOSED|\n",
      "|      3|2013-07-25 00:00:00|        12111|    COMPLETE|\n",
      "|      4|2013-07-25 00:00:00|         8827|      CLOSED|\n",
      "|      5|2013-07-25 00:00:00|        11318|    COMPLETE|\n",
      "|      6|2013-07-25 00:00:00|         7130|    COMPLETE|\n",
      "|      7|2013-07-25 00:00:00|         4530|    COMPLETE|\n",
      "|     12|2013-07-25 00:00:00|         1837|      CLOSED|\n",
      "|     15|2013-07-25 00:00:00|         2568|    COMPLETE|\n",
      "|     17|2013-07-25 00:00:00|         2667|    COMPLETE|\n",
      "|     18|2013-07-25 00:00:00|         1205|      CLOSED|\n",
      "|     22|2013-07-25 00:00:00|          333|    COMPLETE|\n",
      "|     24|2013-07-25 00:00:00|        11441|      CLOSED|\n",
      "|     25|2013-07-25 00:00:00|         9503|      CLOSED|\n",
      "|     26|2013-07-25 00:00:00|         7562|    COMPLETE|\n",
      "|     28|2013-07-25 00:00:00|          656|    COMPLETE|\n",
      "|     32|2013-07-25 00:00:00|         3960|    COMPLETE|\n",
      "|     35|2013-07-25 00:00:00|         4840|    COMPLETE|\n",
      "|     37|2013-07-25 00:00:00|         5863|      CLOSED|\n",
      "|     45|2013-07-25 00:00:00|         2636|    COMPLETE|\n",
      "|     50|2013-07-25 00:00:00|         5225|    CANCELED|\n",
      "+-------+-------------------+-------------+------------+\n",
      "only showing top 20 rows\n",
      "\n"
     ]
    }
   ],
   "source": [
    "ord.where(ord.order_status.like('C%')).show()"
   ]
  },
  {
   "cell_type": "code",
   "execution_count": 35,
   "id": "e29dd890-7515-4dab-a8f5-e33815dfb0cc",
   "metadata": {},
   "outputs": [],
   "source": [
    "#ord.where(ord.order_status.startsWith('P')).select(ord.order_status).distinct().show()"
   ]
  }
 ],
 "metadata": {
  "kernelspec": {
   "display_name": "Python 3 (ipykernel)",
   "language": "python",
   "name": "python3"
  },
  "language_info": {
   "codemirror_mode": {
    "name": "ipython",
    "version": 3
   },
   "file_extension": ".py",
   "mimetype": "text/x-python",
   "name": "python",
   "nbconvert_exporter": "python",
   "pygments_lexer": "ipython3",
   "version": "3.10.12"
  }
 },
 "nbformat": 4,
 "nbformat_minor": 5
}

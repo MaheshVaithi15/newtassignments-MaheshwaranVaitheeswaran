{
 "cells": [
  {
   "cell_type": "code",
   "execution_count": 1,
   "id": "334c2d35-7914-45a2-9768-0c98459dda3a",
   "metadata": {},
   "outputs": [
    {
     "name": "stderr",
     "output_type": "stream",
     "text": [
      "24/01/12 13:11:40 WARN Utils: Your hostname, MaheshPC resolves to a loopback address: 127.0.1.1; using 192.168.1.7 instead (on interface enp5s0)\n",
      "24/01/12 13:11:40 WARN Utils: Set SPARK_LOCAL_IP if you need to bind to another address\n",
      "Setting default log level to \"WARN\".\n",
      "To adjust logging level use sc.setLogLevel(newLevel). For SparkR, use setLogLevel(newLevel).\n",
      "24/01/12 13:11:41 WARN NativeCodeLoader: Unable to load native-hadoop library for your platform... using builtin-java classes where applicable\n",
      "24/01/12 13:11:42 WARN Utils: Service 'SparkUI' could not bind on port 4040. Attempting port 4041.\n",
      "24/01/12 13:11:42 WARN Utils: Service 'SparkUI' could not bind on port 4041. Attempting port 4042.\n"
     ]
    },
    {
     "name": "stdout",
     "output_type": "stream",
     "text": [
      "Spark is Connected\n"
     ]
    }
   ],
   "source": [
    "from pyspark.sql import SparkSession\n",
    "spark = SparkSession.builder.appName('nlp1').getOrCreate()\n",
    "print('Spark is Connected')"
   ]
  },
  {
   "cell_type": "code",
   "execution_count": 4,
   "id": "e1b56bde-0481-411c-8b09-2f77a536aad5",
   "metadata": {},
   "outputs": [
    {
     "name": "stdout",
     "output_type": "stream",
     "text": [
      "+----+--------------------+\n",
      "| _c0|                 _c1|\n",
      "+----+--------------------+\n",
      "| ham|Go until jurong p...|\n",
      "| ham|Ok lar... Joking ...|\n",
      "|spam|Free entry in 2 a...|\n",
      "| ham|U dun say so earl...|\n",
      "| ham|Nah I don't think...|\n",
      "|spam|FreeMsg Hey there...|\n",
      "| ham|Even my brother i...|\n",
      "| ham|As per your reque...|\n",
      "|spam|WINNER!! As a val...|\n",
      "|spam|Had your mobile 1...|\n",
      "| ham|I'm gonna be home...|\n",
      "|spam|SIX chances to wi...|\n",
      "|spam|URGENT! You have ...|\n",
      "| ham|I've been searchi...|\n",
      "| ham|I HAVE A DATE ON ...|\n",
      "|spam|XXXMobileMovieClu...|\n",
      "| ham|Oh k...i'm watchi...|\n",
      "| ham|Eh u remember how...|\n",
      "| ham|Fine if thats th...|\n",
      "|spam|England v Macedon...|\n",
      "+----+--------------------+\n",
      "only showing top 20 rows\n",
      "\n"
     ]
    }
   ],
   "source": [
    "# importing data \n",
    "\n",
    "data = spark.read.csv('SMSSpamCollection',inferSchema=True,sep='\\t')\n",
    "data.show()"
   ]
  },
  {
   "cell_type": "code",
   "execution_count": 5,
   "id": "432f161d-356a-4f5a-b7e9-1cf8d24194a3",
   "metadata": {},
   "outputs": [
    {
     "name": "stdout",
     "output_type": "stream",
     "text": [
      "+-----+--------------------+\n",
      "|class|                text|\n",
      "+-----+--------------------+\n",
      "|  ham|Go until jurong p...|\n",
      "|  ham|Ok lar... Joking ...|\n",
      "| spam|Free entry in 2 a...|\n",
      "|  ham|U dun say so earl...|\n",
      "|  ham|Nah I don't think...|\n",
      "| spam|FreeMsg Hey there...|\n",
      "|  ham|Even my brother i...|\n",
      "|  ham|As per your reque...|\n",
      "| spam|WINNER!! As a val...|\n",
      "| spam|Had your mobile 1...|\n",
      "|  ham|I'm gonna be home...|\n",
      "| spam|SIX chances to wi...|\n",
      "| spam|URGENT! You have ...|\n",
      "|  ham|I've been searchi...|\n",
      "|  ham|I HAVE A DATE ON ...|\n",
      "| spam|XXXMobileMovieClu...|\n",
      "|  ham|Oh k...i'm watchi...|\n",
      "|  ham|Eh u remember how...|\n",
      "|  ham|Fine if thats th...|\n",
      "| spam|England v Macedon...|\n",
      "+-----+--------------------+\n",
      "only showing top 20 rows\n",
      "\n"
     ]
    }
   ],
   "source": [
    "data = data.withColumnRenamed('_c0','class').withColumnRenamed('_c1','text')\n",
    "data.show()"
   ]
  },
  {
   "cell_type": "code",
   "execution_count": 6,
   "id": "8275c352-0a12-4d9d-bcce-4926c828acc1",
   "metadata": {},
   "outputs": [
    {
     "name": "stdout",
     "output_type": "stream",
     "text": [
      "+-----+--------------------+------+\n",
      "|class|                text|length|\n",
      "+-----+--------------------+------+\n",
      "|  ham|Go until jurong p...|   111|\n",
      "|  ham|Ok lar... Joking ...|    29|\n",
      "| spam|Free entry in 2 a...|   155|\n",
      "|  ham|U dun say so earl...|    49|\n",
      "|  ham|Nah I don't think...|    61|\n",
      "| spam|FreeMsg Hey there...|   147|\n",
      "|  ham|Even my brother i...|    77|\n",
      "|  ham|As per your reque...|   160|\n",
      "| spam|WINNER!! As a val...|   157|\n",
      "| spam|Had your mobile 1...|   154|\n",
      "|  ham|I'm gonna be home...|   109|\n",
      "| spam|SIX chances to wi...|   136|\n",
      "| spam|URGENT! You have ...|   155|\n",
      "|  ham|I've been searchi...|   196|\n",
      "|  ham|I HAVE A DATE ON ...|    35|\n",
      "| spam|XXXMobileMovieClu...|   149|\n",
      "|  ham|Oh k...i'm watchi...|    26|\n",
      "|  ham|Eh u remember how...|    81|\n",
      "|  ham|Fine if thats th...|    56|\n",
      "| spam|England v Macedon...|   155|\n",
      "+-----+--------------------+------+\n",
      "only showing top 20 rows\n",
      "\n"
     ]
    }
   ],
   "source": [
    "from pyspark.sql.functions import *\n",
    "\n",
    "data = data.withColumn('length',length(data['text']))\n",
    "data.show()"
   ]
  },
  {
   "cell_type": "code",
   "execution_count": 7,
   "id": "3ed0ac57-2e32-4031-8c91-3c6aec262dba",
   "metadata": {},
   "outputs": [
    {
     "name": "stdout",
     "output_type": "stream",
     "text": [
      "+-----+-----------------+\n",
      "|class|      avg(length)|\n",
      "+-----+-----------------+\n",
      "|  ham|71.45431945307645|\n",
      "| spam|138.6706827309237|\n",
      "+-----+-----------------+\n",
      "\n"
     ]
    }
   ],
   "source": [
    "data.groupBy('class').mean().show()"
   ]
  },
  {
   "cell_type": "code",
   "execution_count": 15,
   "id": "2624d1fc-43eb-4511-971c-dd223b75752b",
   "metadata": {},
   "outputs": [],
   "source": [
    "from pyspark.ml.feature import *\n",
    "\n",
    "tokenizer = Tokenizer(inputCol='text',outputCol='token_text')\n",
    "remover = StopWordsRemover(inputCol='token_text',outputCol='stop_token')\n",
    "cv = CountVectorizer(inputCol='stop_token',outputCol='cv_token')\n",
    "idf = IDF(inputCol='cv_token',outputCol='tf_idf')\n",
    "\n",
    "res = StringIndexer(inputCol='class',outputCol='label')\n",
    "\n"
   ]
  },
  {
   "cell_type": "code",
   "execution_count": 16,
   "id": "9df63aa0-7a34-4a48-b6d7-e4794fa2bd75",
   "metadata": {},
   "outputs": [],
   "source": [
    "assembler = VectorAssembler(inputCols=['tf_idf','length'],outputCol='features')\n"
   ]
  },
  {
   "cell_type": "code",
   "execution_count": 17,
   "id": "53aa1f21-d50d-4046-9d14-973339db88e3",
   "metadata": {},
   "outputs": [],
   "source": [
    "from pyspark.ml.classification import *\n",
    "nb=NaiveBayes()\n"
   ]
  },
  {
   "cell_type": "code",
   "execution_count": 18,
   "id": "ea5dfe9c-57e3-444c-b89e-d67aa2cf6de3",
   "metadata": {},
   "outputs": [],
   "source": [
    "from pyspark.ml import Pipeline\n",
    "\n",
    "data_pipe = Pipeline(stages=[res,tokenizer,remover,cv,idf,assembler])"
   ]
  },
  {
   "cell_type": "code",
   "execution_count": 19,
   "id": "91e28c33-d44f-4f53-9454-056a626247af",
   "metadata": {},
   "outputs": [],
   "source": [
    "cl = data_pipe.fit(data)\n",
    "clean_data = cl.transform(data)"
   ]
  },
  {
   "cell_type": "code",
   "execution_count": 20,
   "id": "6e67b508-3511-4bf7-8d5a-cab22c99f71d",
   "metadata": {},
   "outputs": [
    {
     "data": {
      "text/plain": [
       "['class',\n",
       " 'text',\n",
       " 'length',\n",
       " 'label',\n",
       " 'token_text',\n",
       " 'stop_token',\n",
       " 'cv_token',\n",
       " 'tf_idf',\n",
       " 'features']"
      ]
     },
     "execution_count": 20,
     "metadata": {},
     "output_type": "execute_result"
    }
   ],
   "source": [
    "clean_data.columns"
   ]
  },
  {
   "cell_type": "code",
   "execution_count": 22,
   "id": "f49f7edc-21e0-47b3-8aa9-5821c95986c6",
   "metadata": {},
   "outputs": [
    {
     "name": "stdout",
     "output_type": "stream",
     "text": [
      "+-----+--------------------+\n",
      "|label|            features|\n",
      "+-----+--------------------+\n",
      "|  0.0|(13424,[7,11,31,6...|\n",
      "|  0.0|(13424,[0,24,301,...|\n",
      "|  1.0|(13424,[2,13,19,3...|\n",
      "|  0.0|(13424,[0,70,80,1...|\n",
      "|  0.0|(13424,[36,134,31...|\n",
      "|  1.0|(13424,[10,60,140...|\n",
      "|  0.0|(13424,[10,53,102...|\n",
      "|  0.0|(13424,[127,185,4...|\n",
      "|  1.0|(13424,[1,47,121,...|\n",
      "|  1.0|(13424,[0,1,13,27...|\n",
      "|  0.0|(13424,[18,43,117...|\n",
      "|  1.0|(13424,[8,16,37,8...|\n",
      "|  1.0|(13424,[13,30,47,...|\n",
      "|  0.0|(13424,[39,95,221...|\n",
      "|  0.0|(13424,[555,1797,...|\n",
      "|  1.0|(13424,[30,109,11...|\n",
      "|  0.0|(13424,[82,214,44...|\n",
      "|  0.0|(13424,[0,2,49,13...|\n",
      "|  0.0|(13424,[0,74,105,...|\n",
      "|  1.0|(13424,[4,30,33,5...|\n",
      "+-----+--------------------+\n",
      "only showing top 20 rows\n",
      "\n"
     ]
    }
   ],
   "source": [
    "df = clean_data.select('label','features')\n",
    "df.show()"
   ]
  },
  {
   "cell_type": "code",
   "execution_count": 24,
   "id": "58168055-10fe-4c7a-a09a-ffd89eb7d03e",
   "metadata": {},
   "outputs": [],
   "source": [
    "train,test = df.randomSplit([0.7,0.3])\n"
   ]
  },
  {
   "cell_type": "code",
   "execution_count": 25,
   "id": "5adf3fe1-d753-4e60-95ff-fb1214203e68",
   "metadata": {},
   "outputs": [
    {
     "name": "stderr",
     "output_type": "stream",
     "text": [
      "24/01/12 13:31:43 WARN DAGScheduler: Broadcasting large task binary with size 1166.6 KiB\n",
      "24/01/12 13:31:44 WARN DAGScheduler: Broadcasting large task binary with size 1146.0 KiB\n",
      "                                                                                \r"
     ]
    }
   ],
   "source": [
    "spamdect = nb.fit(train)\n",
    "test_res = spamdect.transform(test)\n"
   ]
  },
  {
   "cell_type": "code",
   "execution_count": 26,
   "id": "bb8f7379-e800-456a-9e6a-bdc08ae27f4b",
   "metadata": {},
   "outputs": [
    {
     "name": "stderr",
     "output_type": "stream",
     "text": [
      "24/01/12 13:31:53 WARN DAGScheduler: Broadcasting large task binary with size 1371.6 KiB\n"
     ]
    },
    {
     "name": "stdout",
     "output_type": "stream",
     "text": [
      "+-----+--------------------+--------------------+--------------------+----------+\n",
      "|label|            features|       rawPrediction|         probability|prediction|\n",
      "+-----+--------------------+--------------------+--------------------+----------+\n",
      "|  0.0|(13424,[0,1,2,7,8...|[-791.48746216273...|[1.0,2.1011619005...|       0.0|\n",
      "|  0.0|(13424,[0,1,2,13,...|[-606.49436918096...|[1.0,2.3244442763...|       0.0|\n",
      "|  0.0|(13424,[0,1,5,20,...|[-797.51175863499...|[1.0,5.5173714868...|       0.0|\n",
      "|  0.0|(13424,[0,1,7,8,1...|[-1160.5820954258...|[1.0,8.8300600590...|       0.0|\n",
      "|  0.0|(13424,[0,1,11,32...|[-867.35611637268...|[1.0,2.8727584114...|       0.0|\n",
      "|  0.0|(13424,[0,1,16,19...|[-807.90631142888...|[1.0,2.2419232127...|       0.0|\n",
      "|  0.0|(13424,[0,1,18,20...|[-826.44914838085...|[1.0,3.2526305966...|       0.0|\n",
      "|  0.0|(13424,[0,1,20,27...|[-970.47827740062...|[0.99999999999999...|       0.0|\n",
      "|  0.0|(13424,[0,1,21,27...|[-994.55744159165...|[1.0,1.7126281861...|       0.0|\n",
      "|  0.0|(13424,[0,1,46,17...|[-1137.6779983676...|[7.07964943508498...|       1.0|\n",
      "|  0.0|(13424,[0,1,71,10...|[-687.21938725933...|[1.0,1.3443829641...|       0.0|\n",
      "|  0.0|(13424,[0,1,500,5...|[-323.55352785009...|[0.99999999942176...|       0.0|\n",
      "|  0.0|(13424,[0,1,881,1...|[-96.261288158774...|[0.99999997054362...|       0.0|\n",
      "|  0.0|(13424,[0,1,881,1...|[-97.942914936166...|[0.99999997763067...|       0.0|\n",
      "|  0.0|(13424,[0,1,4305,...|[-128.09330876317...|[0.99997664389646...|       0.0|\n",
      "|  0.0|(13424,[0,2,3,4,6...|[-1272.3018118166...|[1.0,3.2858674974...|       0.0|\n",
      "|  0.0|(13424,[0,2,3,5,6...|[-2557.9278468068...|[1.0,1.2630128952...|       0.0|\n",
      "|  0.0|(13424,[0,2,3,6,9...|[-3293.3498453645...|[1.0,6.4291614507...|       0.0|\n",
      "|  0.0|(13424,[0,2,4,5,1...|[-2493.1601860669...|[1.0,2.6569570731...|       0.0|\n",
      "|  0.0|(13424,[0,2,4,5,1...|[-1630.4084977816...|[1.0,1.6521184953...|       0.0|\n",
      "+-----+--------------------+--------------------+--------------------+----------+\n",
      "only showing top 20 rows\n",
      "\n"
     ]
    },
    {
     "name": "stderr",
     "output_type": "stream",
     "text": [
      "                                                                                \r"
     ]
    }
   ],
   "source": [
    "test_res.show()"
   ]
  },
  {
   "cell_type": "code",
   "execution_count": 27,
   "id": "5c36f8b1-9ce1-4c83-be2f-22d50fb75f18",
   "metadata": {},
   "outputs": [
    {
     "name": "stderr",
     "output_type": "stream",
     "text": [
      "24/01/12 13:33:13 WARN DAGScheduler: Broadcasting large task binary with size 1376.6 KiB\n"
     ]
    },
    {
     "data": {
      "text/plain": [
       "0.9276394133922778"
      ]
     },
     "execution_count": 27,
     "metadata": {},
     "output_type": "execute_result"
    }
   ],
   "source": [
    "from pyspark.ml.evaluation import *\n",
    "\n",
    "m_eval = MulticlassClassificationEvaluator()\n",
    "acc = m_eval.evaluate(test_res)\n",
    "acc"
   ]
  }
 ],
 "metadata": {
  "kernelspec": {
   "display_name": "Python 3 (ipykernel)",
   "language": "python",
   "name": "python3"
  },
  "language_info": {
   "codemirror_mode": {
    "name": "ipython",
    "version": 3
   },
   "file_extension": ".py",
   "mimetype": "text/x-python",
   "name": "python",
   "nbconvert_exporter": "python",
   "pygments_lexer": "ipython3",
   "version": "3.10.12"
  }
 },
 "nbformat": 4,
 "nbformat_minor": 5
}

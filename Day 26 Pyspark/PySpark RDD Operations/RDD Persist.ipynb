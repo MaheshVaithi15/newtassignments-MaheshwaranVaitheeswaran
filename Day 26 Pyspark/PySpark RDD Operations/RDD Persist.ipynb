{
 "cells": [
  {
   "cell_type": "code",
   "execution_count": 1,
   "id": "ddc0934b-3e47-432f-92b8-aa8959da1016",
   "metadata": {},
   "outputs": [
    {
     "name": "stderr",
     "output_type": "stream",
     "text": [
      "24/01/09 16:03:30 WARN Utils: Your hostname, MaheshPC resolves to a loopback address: 127.0.1.1; using 192.168.1.7 instead (on interface enp5s0)\n",
      "24/01/09 16:03:30 WARN Utils: Set SPARK_LOCAL_IP if you need to bind to another address\n",
      "Setting default log level to \"WARN\".\n",
      "To adjust logging level use sc.setLogLevel(newLevel). For SparkR, use setLogLevel(newLevel).\n",
      "24/01/09 16:03:30 WARN NativeCodeLoader: Unable to load native-hadoop library for your platform... using builtin-java classes where applicable\n"
     ]
    },
    {
     "name": "stdout",
     "output_type": "stream",
     "text": [
      "Spark is Connected\n"
     ]
    }
   ],
   "source": [
    "# rdd persist\n",
    "\n",
    "from pyspark.sql import SparkSession\n",
    "\n",
    "spark = SparkSession.builder.master('local').appName('RDD_Persist').getOrCreate()\n",
    "\n",
    "print('Spark is Connected')"
   ]
  },
  {
   "cell_type": "code",
   "execution_count": 8,
   "id": "4d663656-c5ec-45b8-8454-1a946bb3e98a",
   "metadata": {},
   "outputs": [
    {
     "name": "stdout",
     "output_type": "stream",
     "text": [
      "The rdd is Cached or not:  True\n",
      "The RDD Storage:  Memory Serialized 1x Replicated\n"
     ]
    }
   ],
   "source": [
    "# to implement persistance\n",
    "sc = spark.sparkContext\n",
    "\n",
    "rdd = sc.parallelize(('a','b','c'))\n",
    "\n",
    "print('The rdd is Cached or not: ',rdd.persist().is_cached)\n",
    "\n",
    "print('The RDD Storage: ',rdd.persist().getStorageLevel())\n",
    "\n",
    "#print('Memory and Storage level: ',rdd.persist(StorageLevel.MEMEORY_AND_DISK_2).getStorageLevel())\n",
    "\n",
    "#print('To Unpersist: ',unpersist())\n",
    "\n",
    "\n"
   ]
  },
  {
   "cell_type": "code",
   "execution_count": null,
   "id": "147e80a4-5852-4139-9191-b28e6131428e",
   "metadata": {},
   "outputs": [],
   "source": []
  }
 ],
 "metadata": {
  "kernelspec": {
   "display_name": "Python 3 (ipykernel)",
   "language": "python",
   "name": "python3"
  },
  "language_info": {
   "codemirror_mode": {
    "name": "ipython",
    "version": 3
   },
   "file_extension": ".py",
   "mimetype": "text/x-python",
   "name": "python",
   "nbconvert_exporter": "python",
   "pygments_lexer": "ipython3",
   "version": "3.10.12"
  }
 },
 "nbformat": 4,
 "nbformat_minor": 5
}

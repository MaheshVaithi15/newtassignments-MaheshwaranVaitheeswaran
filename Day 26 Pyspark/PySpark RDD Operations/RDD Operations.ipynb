{
 "cells": [
  {
   "cell_type": "code",
   "execution_count": 12,
   "id": "47400849-dbdd-4961-afb4-d48dc7d72df9",
   "metadata": {},
   "outputs": [
    {
     "name": "stdout",
     "output_type": "stream",
     "text": [
      "Spark Object is Created\n"
     ]
    }
   ],
   "source": [
    "from pyspark.sql import SparkSession\n",
    "\n",
    "spark = SparkSession.builder.master('local').appName('RDDops').getOrCreate()\n",
    "\n",
    "print('Spark Object is Created')"
   ]
  },
  {
   "cell_type": "code",
   "execution_count": 13,
   "id": "806e51d3-b78f-481a-8a9f-9a4276ffea6a",
   "metadata": {},
   "outputs": [
    {
     "name": "stdout",
     "output_type": "stream",
     "text": [
      "Files loaded\n"
     ]
    }
   ],
   "source": [
    "# Transformation Low Level \n",
    "\n",
    "ord = spark.sparkContext.textFile('RetailDB SalesData/Orders/part-00000')\n",
    "orditem = spark.sparkContext.textFile('RetailDB SalesData/Order_items/part-00000')\n",
    "\n",
    "print('Files loaded')"
   ]
  },
  {
   "cell_type": "code",
   "execution_count": 14,
   "id": "14d0147d-92bb-4c52-89a9-3696b4e5540b",
   "metadata": {},
   "outputs": [
    {
     "name": "stdout",
     "output_type": "stream",
     "text": [
      "To view the data in Order File: \n",
      "1,2013-07-25 00:00:00.0,11599,CLOSED\n",
      "2,2013-07-25 00:00:00.0,256,PENDING_PAYMENT\n",
      "3,2013-07-25 00:00:00.0,12111,COMPLETE\n",
      "4,2013-07-25 00:00:00.0,8827,CLOSED\n",
      "5,2013-07-25 00:00:00.0,11318,COMPLETE\n",
      "6,2013-07-25 00:00:00.0,7130,COMPLETE\n",
      "7,2013-07-25 00:00:00.0,4530,COMPLETE\n",
      "8,2013-07-25 00:00:00.0,2911,PROCESSING\n",
      "9,2013-07-25 00:00:00.0,5657,PENDING_PAYMENT\n",
      "10,2013-07-25 00:00:00.0,5648,PENDING_PAYMENT\n",
      "-------------------------\n",
      "-------------------------\n",
      "-------------------------\n",
      "To view the data in OrderItem File: \n",
      "1,1,957,1,299.98,299.98\n",
      "2,2,1073,1,199.99,199.99\n",
      "3,2,502,5,250.0,50.0\n",
      "4,2,403,1,129.99,129.99\n",
      "5,4,897,2,49.98,24.99\n",
      "6,4,365,5,299.95,59.99\n",
      "7,4,502,3,150.0,50.0\n",
      "8,4,1014,4,199.92,49.98\n",
      "9,5,957,1,299.98,299.98\n",
      "10,5,365,5,299.95,59.99\n"
     ]
    }
   ],
   "source": [
    "# to view the loaded files\n",
    "\n",
    "print('To view the data in Order File: ')\n",
    "for o in ord.take(10):\n",
    "    print(o)\n",
    "    \n",
    "print('-------------------------')\n",
    "print('-------------------------')\n",
    "print('-------------------------')\n",
    "\n",
    "print('To view the data in OrderItem File: ')\n",
    "for oi in orditem.take(10):\n",
    "    print(oi)"
   ]
  },
  {
   "cell_type": "code",
   "execution_count": 15,
   "id": "067a92ec-93f2-4ae7-b7e6-d7ce02c86e9a",
   "metadata": {},
   "outputs": [
    {
     "name": "stdout",
     "output_type": "stream",
     "text": [
      "The Order Id in Order File:\n",
      "-----------------------------\n",
      "1\n",
      "2\n",
      "3\n",
      "4\n",
      "5\n",
      "6\n",
      "7\n",
      "8\n",
      "9\n",
      "10\n"
     ]
    }
   ],
   "source": [
    "# show all ids in order file\n",
    "ord_id = ord.map(lambda x : x.split(',')[0])\n",
    "\n",
    "print('The Order Id in Order File:')\n",
    "print('-----------------------------')\n",
    "for id in ord_id.take(10):\n",
    "    print(id)"
   ]
  },
  {
   "cell_type": "code",
   "execution_count": 22,
   "id": "baf19705-ffbe-41b4-bc06-d0dcd75d56f6",
   "metadata": {},
   "outputs": [
    {
     "name": "stdout",
     "output_type": "stream",
     "text": [
      "The Orderid and Status as Follows: \n",
      "----------------------------------\n",
      "('1', 'CLOSED')\n",
      "('2', 'PENDING_PAYMENT')\n",
      "('3', 'COMPLETE')\n",
      "('4', 'CLOSED')\n",
      "('5', 'COMPLETE')\n",
      "('6', 'COMPLETE')\n",
      "('7', 'COMPLETE')\n",
      "('8', 'PROCESSING')\n",
      "('9', 'PENDING_PAYMENT')\n",
      "('10', 'PENDING_PAYMENT')\n"
     ]
    }
   ],
   "source": [
    "# show all the orders and its status\n",
    "\n",
    "ord_status = ord.map(lambda x : (x.split(',')[0],x.split(',')[3]))\n",
    "\n",
    "print('The Orderid and Status as Follows: ')\n",
    "print('----------------------------------')\n",
    "for s in ord_status.take(10):\n",
    "    print(s)\n"
   ]
  },
  {
   "cell_type": "code",
   "execution_count": 26,
   "id": "7e397f8a-9b25-4ed8-b107-6ee90c5f72ce",
   "metadata": {},
   "outputs": [
    {
     "name": "stdout",
     "output_type": "stream",
     "text": [
      "The Orderid and Status as Follows: \n",
      "----------------------------------\n",
      "1#CLOSED\n",
      "2#PENDING_PAYMENT\n",
      "3#COMPLETE\n",
      "4#CLOSED\n",
      "5#COMPLETE\n",
      "6#COMPLETE\n",
      "7#COMPLETE\n",
      "8#PROCESSING\n",
      "9#PENDING_PAYMENT\n",
      "10#PENDING_PAYMENT\n"
     ]
    }
   ],
   "source": [
    "# show all the orders and its status in combined way\n",
    "\n",
    "ord_statusc = ord.map(lambda x : (x.split(',')[0]+'#'+x.split(',')[3]))\n",
    "\n",
    "print('The Orderid and Status as Follows: ')\n",
    "print('----------------------------------')\n",
    "for s in ord_statusc.take(10):\n",
    "    print(s)"
   ]
  },
  {
   "cell_type": "code",
   "execution_count": 30,
   "id": "e2364001-85a8-49ac-aecf-2848ee9394f2",
   "metadata": {},
   "outputs": [
    {
     "name": "stdout",
     "output_type": "stream",
     "text": [
      "The Date in the Format replaced: \n",
      "---------------------------------\n",
      "2013/07/25\n",
      "2013/07/25\n",
      "2013/07/25\n",
      "2013/07/25\n",
      "2013/07/25\n",
      "2013/07/25\n",
      "2013/07/25\n",
      "2013/07/25\n",
      "2013/07/25\n",
      "2013/07/25\n"
     ]
    }
   ],
   "source": [
    "# convert order date into the yyyy:mm:dd\n",
    "ord_date = ord.map(lambda d : d.split(',')[1].split(' ')[0].replace('-','/'))\n",
    "\n",
    "print('The Date in the Format replaced: ')\n",
    "print('---------------------------------')\n",
    "for d in ord_date.take(10):\n",
    "    print(d)\n"
   ]
  },
  {
   "cell_type": "code",
   "execution_count": 34,
   "id": "7b50d2a8-15f3-4ebd-bd72-a3ee3987eeb6",
   "metadata": {},
   "outputs": [
    {
     "name": "stdout",
     "output_type": "stream",
     "text": [
      "The key Value pairs:\n",
      "---------------------\n",
      "('1', '1,2013-07-25 00:00:00.0,11599,CLOSED')\n",
      "('2', '2,2013-07-25 00:00:00.0,256,PENDING_PAYMENT')\n",
      "('3', '3,2013-07-25 00:00:00.0,12111,COMPLETE')\n",
      "('4', '4,2013-07-25 00:00:00.0,8827,CLOSED')\n",
      "('5', '5,2013-07-25 00:00:00.0,11318,COMPLETE')\n",
      "('6', '6,2013-07-25 00:00:00.0,7130,COMPLETE')\n",
      "('7', '7,2013-07-25 00:00:00.0,4530,COMPLETE')\n",
      "('8', '8,2013-07-25 00:00:00.0,2911,PROCESSING')\n",
      "('9', '9,2013-07-25 00:00:00.0,5657,PENDING_PAYMENT')\n",
      "('10', '10,2013-07-25 00:00:00.0,5648,PENDING_PAYMENT')\n"
     ]
    }
   ],
   "source": [
    "# making id as key and value as whole record\n",
    "\n",
    "ord_kv = ord.map(lambda k : (k.split(',')[0],k))\n",
    "\n",
    "print('The key Value pairs:')\n",
    "print('---------------------')\n",
    "for kv in ord_kv.take(10):\n",
    "    print(kv)"
   ]
  },
  {
   "cell_type": "code",
   "execution_count": 37,
   "id": "f505c0ed-0644-4dd2-bc76-7ee505f71681",
   "metadata": {},
   "outputs": [
    {
     "name": "stdout",
     "output_type": "stream",
     "text": [
      "The OrderItem id and Subtotal: \n",
      "--------------------------------\n",
      "('1', '299.98')\n",
      "('2', '199.99')\n",
      "('3', '250.0')\n",
      "('4', '129.99')\n",
      "('5', '49.98')\n",
      "('6', '299.95')\n",
      "('7', '150.0')\n",
      "('8', '199.92')\n",
      "('9', '299.98')\n",
      "('10', '299.95')\n"
     ]
    }
   ],
   "source": [
    "# in the orderitem file make orderitem id and subtotal\n",
    "\n",
    "orditem_s = orditem.map(lambda i : (i.split(',')[0],i.split(',')[4]))\n",
    "\n",
    "print('The OrderItem id and Subtotal: ')\n",
    "print('--------------------------------')\n",
    "for s in orditem_s.take(10):\n",
    "    print(s)"
   ]
  },
  {
   "cell_type": "code",
   "execution_count": 38,
   "id": "83dabe13-fbfc-4720-98ff-9cd686b4c6e0",
   "metadata": {},
   "outputs": [
    {
     "name": "stdout",
     "output_type": "stream",
     "text": [
      "The Lower case status:\n",
      "----------------------\n",
      "closed\n",
      "pending_payment\n",
      "complete\n",
      "closed\n",
      "complete\n",
      "complete\n",
      "complete\n",
      "processing\n",
      "pending_payment\n",
      "pending_payment\n"
     ]
    }
   ],
   "source": [
    "def lower_case(s):\n",
    "    return s.lower()\n",
    "\n",
    "ord_l = ord.map(lambda l : lower_case(l.split(',')[3]))\n",
    "\n",
    "print('The Lower case status:')\n",
    "print('----------------------')\n",
    "for l in ord_l.take(10):\n",
    "    print(l)"
   ]
  },
  {
   "cell_type": "code",
   "execution_count": 41,
   "id": "13b2bb39-e6df-433f-84ab-1a6a9cf6dd37",
   "metadata": {},
   "outputs": [
    {
     "name": "stderr",
     "output_type": "stream",
     "text": [
      "                                                                                \r"
     ]
    },
    {
     "data": {
      "text/plain": [
       "[('1', 2),\n",
       " ('2013-07-25 00:00:00.0', 143),\n",
       " ('11599', 6),\n",
       " ('CLOSED', 7556),\n",
       " ('2', 5),\n",
       " ('256', 11),\n",
       " ('PENDING_PAYMENT', 15030),\n",
       " ('3', 8),\n",
       " ('12111', 7),\n",
       " ('COMPLETE', 22899)]"
      ]
     },
     "execution_count": 41,
     "metadata": {},
     "output_type": "execute_result"
    }
   ],
   "source": [
    "# FlatMap in Low Level transformation\n",
    "\n",
    "# word count in the order file\n",
    "\n",
    "ord_wc = ord.flatMap(lambda wc : wc.split(',')).map(lambda c : (c,1)).reduceByKey(lambda x,y:x+y)\n",
    "\n",
    "ord_wc.take(10)"
   ]
  },
  {
   "cell_type": "code",
   "execution_count": 45,
   "id": "00f89f66-3bbf-4a2f-bf4b-3ec553394b4c",
   "metadata": {},
   "outputs": [
    {
     "data": {
      "text/plain": [
       "['1,2013-07-25 00:00:00.0,11599,CLOSED',\n",
       " '3,2013-07-25 00:00:00.0,12111,COMPLETE',\n",
       " '4,2013-07-25 00:00:00.0,8827,CLOSED',\n",
       " '5,2013-07-25 00:00:00.0,11318,COMPLETE',\n",
       " '6,2013-07-25 00:00:00.0,7130,COMPLETE',\n",
       " '7,2013-07-25 00:00:00.0,4530,COMPLETE',\n",
       " '12,2013-07-25 00:00:00.0,1837,CLOSED',\n",
       " '15,2013-07-25 00:00:00.0,2568,COMPLETE',\n",
       " '17,2013-07-25 00:00:00.0,2667,COMPLETE',\n",
       " '18,2013-07-25 00:00:00.0,1205,CLOSED']"
      ]
     },
     "execution_count": 45,
     "metadata": {},
     "output_type": "execute_result"
    }
   ],
   "source": [
    "# filter in low level transformation\n",
    "\n",
    "# to filter the records in 2013 which is complete or closed\n",
    "\n",
    "ord_f = ord.filter(lambda f : (f.split(',')[3] in ['CLOSED','COMPLETE']) and (f.split(',')[1].split('-')[0] == '2013'))\n",
    "\n",
    "ord_f.take(10)\n",
    "\n",
    "\n",
    "                   \n"
   ]
  },
  {
   "cell_type": "code",
   "execution_count": 55,
   "id": "35f8a5be-4c38-4170-acd5-779832af09ac",
   "metadata": {},
   "outputs": [
    {
     "name": "stdout",
     "output_type": "stream",
     "text": [
      "('order id and total ', [('1', '11599'), ('2', '256'), ('3', '12111'), ('4', '8827')])\n",
      "('orderitem id and subtotal ', [('1', '299.98'), ('2', '199.99'), ('2', '250.0'), ('2', '129.99'), ('4', '49.98')])\n"
     ]
    },
    {
     "name": "stderr",
     "output_type": "stream",
     "text": [
      "[Stage 41:=============================>                            (1 + 1) / 2]\r"
     ]
    },
    {
     "name": "stdout",
     "output_type": "stream",
     "text": [
      "('After Joining: ', [('1', ('11599', '299.98')), ('4', ('8827', '49.98')), ('4', ('8827', '299.95')), ('4', ('8827', '150.0')), ('4', ('8827', '199.92'))])\n"
     ]
    },
    {
     "name": "stderr",
     "output_type": "stream",
     "text": [
      "                                                                                \r"
     ]
    }
   ],
   "source": [
    "# joins in transformation\n",
    "\n",
    "# find the subtotal for each order and customer id\n",
    "\n",
    "# to join the data we can make it into key and value pairs\n",
    "\n",
    "\n",
    "ord_map = ord.map(lambda x : (x.split(',')[0],x.split(',')[2]))\n",
    "\n",
    "res = f\"order id and total \",ord_map.take(4)\n",
    "print(res)\n",
    "\n",
    "orditem_map = orditem.map(lambda x : (x.split(',')[1],x.split(',')[4]))\n",
    "\n",
    "res1 = f\"orderitem id and subtotal \",orditem_map.take(5)\n",
    "\n",
    "print(res1)\n",
    "\n",
    "#combine the two maps to join\n",
    "\n",
    "ord_join = ord_map.join(orditem_map)\n",
    "\n",
    "res3 = f\"After Joining: \",ord_join.take(5)\n",
    "print(res3)\n"
   ]
  },
  {
   "cell_type": "code",
   "execution_count": 60,
   "id": "56b1db81-7c32-475d-b221-488691bed699",
   "metadata": {},
   "outputs": [
    {
     "name": "stdout",
     "output_type": "stream",
     "text": [
      "b <map object at 0x7f2692f32650>\n",
      "a <map object at 0x7f2692f32530>\n"
     ]
    }
   ],
   "source": [
    "# cogroup\n",
    "\n",
    "# creating rdd for cogroup\n",
    "\n",
    "sc = spark.sparkContext\n",
    "\n",
    "x = sc.parallelize([('a',1),('b',3)])\n",
    "y = sc.parallelize([('a',2)])\n",
    "\n",
    "xy = x.cogroup(y)\n",
    "\n",
    "#xy.first()\n",
    "\n",
    "# to make view on non iterable object\n",
    "\n",
    "for i,j in xy.take(2):\n",
    "    print(i,str(map(list,j)))\n"
   ]
  },
  {
   "cell_type": "code",
   "execution_count": 62,
   "id": "1359b092-9a88-4f75-b5c8-2e4b01c57c1f",
   "metadata": {},
   "outputs": [
    {
     "data": {
      "text/plain": [
       "[(1, 1), (1, 2), (1, 3), (2, 1), (2, 2), (2, 3), (3, 1), (3, 2), (3, 3)]"
      ]
     },
     "execution_count": 62,
     "metadata": {},
     "output_type": "execute_result"
    }
   ],
   "source": [
    "# cartesian join ie. cross join\n",
    "\n",
    "c = sc.parallelize([1,2,3])\n",
    "\n",
    "res = c.cartesian(c)\n",
    "\n",
    "res.take(\n",
    "\n"
   ]
  },
  {
   "cell_type": "code",
   "execution_count": 66,
   "id": "0531b9f6-4adc-49f3-b344-c555f49ac3e6",
   "metadata": {},
   "outputs": [
    {
     "data": {
      "text/plain": [
       "7556"
      ]
     },
     "execution_count": 66,
     "metadata": {},
     "output_type": "execute_result"
    }
   ],
   "source": [
    "# total aggregations - count() and reduce()\n",
    "\n",
    "# count the number of orders which are closed \n",
    "\n",
    "closed_ord = ord.filter(lambda x : x.split(',')[3] in ['CLOSED'])\n",
    "closed_ord.count()"
   ]
  },
  {
   "cell_type": "code",
   "execution_count": 74,
   "id": "9720a1dd-e692-44dd-a832-5bd8b37bd766",
   "metadata": {},
   "outputs": [
    {
     "name": "stdout",
     "output_type": "stream",
     "text": [
      "PythonRDD[127] at RDD at PythonRDD.scala:53\n"
     ]
    }
   ],
   "source": [
    "# to find total quantity sold in order from 1 to 10\n",
    "from operator import add\n",
    "res = orditem.filter(lambda s : int(s.split(',')[10]) < 11).map(lambda s : int(s.split(',')[3]).reduce(add))\n",
    "\n",
    "print(res)\n"
   ]
  },
  {
   "cell_type": "code",
   "execution_count": 80,
   "id": "b409e969-accb-4fe0-979f-2e4c20df001a",
   "metadata": {},
   "outputs": [
    {
     "data": {
      "text/plain": [
       "[(19, 7999.35999999999),\n",
       " (24, 18477.689999999988),\n",
       " (35, 10399.34999999999),\n",
       " (37, 27327.190000000017),\n",
       " (44, 56330.60999999992),\n",
       " (58, 8699.709999999995),\n",
       " (60, 9999.9),\n",
       " (61, 8399.719999999996),\n",
       " (78, 18598.139999999992),\n",
       " (93, 20866.64999999999),\n",
       " (116, 44585.090000000026),\n",
       " (127, 8909.729999999996),\n",
       " (134, 20025.0),\n",
       " (135, 19426.0),\n",
       " (172, 27210.0),\n",
       " (191, 3667633.20000043),\n",
       " (203, 12799.679999999995),\n",
       " (208, 29999.85000000001),\n",
       " (216, 12096.0),\n",
       " (226, 5999.899999999999),\n",
       " (235, 29601.540000000005),\n",
       " (249, 46559.59000000002),\n",
       " (251, 19077.879999999994),\n",
       " (258, 19567.93999999999),\n",
       " (273, 22252.050000000003),\n",
       " (276, 29398.810000000012),\n",
       " (278, 36576.87000000003),\n",
       " (282, 27127.520000000033),\n",
       " (295, 18690.649999999994),\n",
       " (303, 13999.649999999994),\n",
       " (305, 13333.0),\n",
       " (306, 17638.039999999997),\n",
       " (311, 5937.299999999995),\n",
       " (359, 20597.939999999995),\n",
       " (364, 10799.639999999994),\n",
       " (365, 4421143.020001181),\n",
       " (403, 2891757.540001228),\n",
       " (502, 3147800.0),\n",
       " (564, 27210.0),\n",
       " (565, 67830.0),\n",
       " (567, 21475.0),\n",
       " (572, 35191.20000000005),\n",
       " (607, 19249.230000000007),\n",
       " (625, 12599.36999999999),\n",
       " (627, 1269082.6499998174),\n",
       " (642, 27840.0),\n",
       " (646, 20697.929999999997),\n",
       " (647, 9449.299999999988),\n",
       " (652, 7539.419999999991),\n",
       " (666, 9349.149999999987),\n",
       " (671, 13649.34999999999),\n",
       " (677, 19298.069999999992),\n",
       " (691, 11598.549999999994),\n",
       " (703, 17731.12999999996),\n",
       " (705, 8399.299999999988),\n",
       " (715, 8839.319999999989),\n",
       " (724, 22700.0),\n",
       " (725, 8208.0),\n",
       " (728, 61490.0),\n",
       " (730, 15600.0),\n",
       " (743, 10369.38999999999),\n",
       " (768, 10199.659999999994),\n",
       " (771, 34671.33000000009),\n",
       " (773, 13499.45999999999),\n",
       " (775, 8871.119999999972),\n",
       " (777, 16637.919999999987),\n",
       " (778, 21116.549999999985),\n",
       " (786, 11699.34999999999),\n",
       " (792, 12951.359999999946),\n",
       " (793, 13311.119999999946),\n",
       " (797, 15993.109999999939),\n",
       " (804, 18810.589999999964),\n",
       " (810, 16031.97999999994),\n",
       " (818, 41415.37000000004),\n",
       " (821, 44243.49000000003),\n",
       " (822, 38392.00000000001),\n",
       " (823, 47206.92000000003),\n",
       " (825, 25751.950000000015),\n",
       " (828, 28982.940000000017),\n",
       " (835, 29686.720000000027),\n",
       " (845, 10799.639999999994),\n",
       " (858, 11799.40999999999),\n",
       " (860, 6599.8899999999985),\n",
       " (885, 23940.419999999995),\n",
       " (886, 21766.289999999983),\n",
       " (893, 22166.129999999983),\n",
       " (897, 20566.769999999986),\n",
       " (905, 22366.04999999999),\n",
       " (906, 22865.849999999995),\n",
       " (917, 20450.69999999998),\n",
       " (924, 14151.149999999956),\n",
       " (926, 14870.69999999995),\n",
       " (957, 4118425.4199997648),\n",
       " (977, 29930.020000000037),\n",
       " (981, 17919.0),\n",
       " (982, 8999.39999999999),\n",
       " (1004, 6929653.500002877),\n",
       " (1014, 2888993.939999287),\n",
       " (1059, 13999.599999999993),\n",
       " (1073, 3099845.0000010305)]"
      ]
     },
     "execution_count": 80,
     "metadata": {},
     "output_type": "execute_result"
    }
   ],
   "source": [
    "# Key aggregations \n",
    "\n",
    "# groupByKey - to find each product aggreagate value\n",
    "\n",
    "ordgrp = orditem.map(lambda z : (int(z.split(',')[2]),float(z.split(',')[4]))).groupByKey()\n",
    "\n",
    "res = ordgrp.mapValues(sum).collect()\n",
    "\n",
    "sorted(res)\n",
    "\n"
   ]
  },
  {
   "cell_type": "code",
   "execution_count": 82,
   "id": "4530e7e4-6d09-40ea-8359-4455058e9b7d",
   "metadata": {},
   "outputs": [
    {
     "data": {
      "text/plain": [
       "[('a', 3), ('b', 3), ('c', 2)]"
      ]
     },
     "execution_count": 82,
     "metadata": {},
     "output_type": "execute_result"
    }
   ],
   "source": [
    "# reduceByKey\n",
    "\n",
    "ex1 = sc.parallelize((('a',1),('b',3),('a',2),('c',2)))\n",
    "\n",
    "ex1.reduceByKey(add).collect()"
   ]
  },
  {
   "cell_type": "code",
   "execution_count": 89,
   "id": "5a034bad-f27c-431b-a8ec-353f17c1da2f",
   "metadata": {},
   "outputs": [
    {
     "data": {
      "text/plain": [
       "[(957, 299.98), (1073, 199.99), (502, 250.0), (403, 129.99), (897, 124.95)]"
      ]
     },
     "execution_count": 89,
     "metadata": {},
     "output_type": "execute_result"
    }
   ],
   "source": [
    "# to find maximum revenue for each product in reduceByKey\n",
    "\n",
    "ord_r = orditem.map(lambda z : (int(z.split(',')[2]),float(z.split(',')[4]))).reduceByKey(lambda x,y: x if x > y else y).take(5)\n",
    "ord_r"
   ]
  },
  {
   "cell_type": "code",
   "execution_count": 95,
   "id": "6b06ee04-47d6-48ea-ac76-e06e99a7b4bc",
   "metadata": {},
   "outputs": [
    {
     "data": {
      "text/plain": [
       "[(1, ('Mahesh', 200)), (2, ('Pradeep', 400)), (3, ('Nijan', 300))]"
      ]
     },
     "execution_count": 95,
     "metadata": {},
     "output_type": "execute_result"
    }
   ],
   "source": [
    "# aggregateByKey\n",
    "\n",
    "ord_data = sc.parallelize([\n",
    "(1,'Mahesh',200),(2,'Pradeep',400),(3,'Nijan',300),(4,'Avinash',600),(5,'Sai',200)\n",
    "])\n",
    "\n",
    "#ord_data.take(4)\n",
    "\n",
    "ordpair = ord_data.map(lambda x : (x[0],(x[1],x[2])))\n",
    "\n",
    "ordpair.take(3)\n"
   ]
  },
  {
   "cell_type": "code",
   "execution_count": 96,
   "id": "d294f2c8-1819-45b0-8edd-e618426dcaa5",
   "metadata": {},
   "outputs": [
    {
     "name": "stdout",
     "output_type": "stream",
     "text": [
      "(1, 200)\n",
      "(2, 400)\n",
      "(3, 300)\n",
      "(4, 600)\n",
      "(5, 200)\n"
     ]
    }
   ],
   "source": [
    "# writing function for aggregateByKey function\n",
    "\n",
    "zero_val = 0\n",
    "\n",
    "def seqdata(acc,ele):\n",
    "    if acc > ele[1]:\n",
    "        return acc\n",
    "    else:\n",
    "        return ele[1]\n",
    "\n",
    "\n",
    "\n",
    "def combdata(acc1,acc2):\n",
    "    if acc1 > acc2:\n",
    "        return acc1\n",
    "    else:\n",
    "        return acc2\n",
    "\n",
    "aggord = ordpair.aggregateByKey(zero_val,seqdata,combdata)\n",
    "\n",
    "for i in aggord.collect():\n",
    "    print(i)\n",
    "\n",
    "    \n",
    "    "
   ]
  },
  {
   "cell_type": "code",
   "execution_count": 99,
   "id": "c010ed2d-6338-477f-b886-bc17b821f0a1",
   "metadata": {},
   "outputs": [
    {
     "data": {
      "text/plain": [
       "dict_items([('CLOSED', 7556), ('PENDING_PAYMENT', 15030), ('COMPLETE', 22899), ('PROCESSING', 8275), ('PAYMENT_REVIEW', 729), ('PENDING', 7610), ('ON_HOLD', 3798), ('CANCELED', 1428), ('SUSPECTED_FRAUD', 1558)])"
      ]
     },
     "execution_count": 99,
     "metadata": {},
     "output_type": "execute_result"
    }
   ],
   "source": [
    "# countByKey\n",
    "\n",
    "# count no of orders in each status\n",
    "\n",
    "ord_demo1 = ord.map(lambda x : (x.split(',')[3],1))\n",
    "\n",
    "res = ord_demo1.countByKey()\n",
    "\n",
    "res.items()\n"
   ]
  },
  {
   "cell_type": "code",
   "execution_count": 101,
   "id": "add50869-2d67-43ca-8fae-4ebcf2c45fbf",
   "metadata": {},
   "outputs": [
    {
     "data": {
      "text/plain": [
       "[(1, '22945,2013-12-13 00:00:00.0,1,COMPLETE'),\n",
       " (2, '15192,2013-10-29 00:00:00.0,2,PENDING_PAYMENT'),\n",
       " (2, '33865,2014-02-18 00:00:00.0,2,COMPLETE'),\n",
       " (2, '57963,2013-08-02 00:00:00.0,2,ON_HOLD'),\n",
       " (2, '67863,2013-11-30 00:00:00.0,2,COMPLETE')]"
      ]
     },
     "execution_count": 101,
     "metadata": {},
     "output_type": "execute_result"
    }
   ],
   "source": [
    "# sorting in Transformations\n",
    "\n",
    "# sort orders using customer id\n",
    "\n",
    "exm1 = ord.map(lambda x : (int(x.split(',')[2]),x))\n",
    "\n",
    "exm1.sortByKey(ascending=True).take(5)"
   ]
  },
  {
   "cell_type": "code",
   "execution_count": 103,
   "id": "1da139be-3489-45a8-b4c6-f6bd8de38064",
   "metadata": {},
   "outputs": [
    {
     "name": "stdout",
     "output_type": "stream",
     "text": [
      "The Product data as follows: \n",
      "------------------------------\n",
      "1,2,Quest Q64 10 FT. x 10 FT. Slant Leg Instant U,,59.98,http://images.acmesports.sports/Quest+Q64+10+FT.+x+10+FT.+Slant+Leg+Instant+Up+Canopy\n",
      "2,2,Under Armour Men's Highlight MC Football Clea,,129.99,http://images.acmesports.sports/Under+Armour+Men%27s+Highlight+MC+Football+Cleat\n",
      "3,2,Under Armour Men's Renegade D Mid Football Cl,,89.99,http://images.acmesports.sports/Under+Armour+Men%27s+Renegade+D+Mid+Football+Cleat\n",
      "4,2,Under Armour Men's Renegade D Mid Football Cl,,89.99,http://images.acmesports.sports/Under+Armour+Men%27s+Renegade+D+Mid+Football+Cleat\n",
      "5,2,Riddell Youth Revolution Speed Custom Footbal,,199.99,http://images.acmesports.sports/Riddell+Youth+Revolution+Speed+Custom+Football+Helmet\n"
     ]
    }
   ],
   "source": [
    "# implementing rank ops using product dataset\n",
    "\n",
    "prod = sc.textFile('RetailDB SalesData/Products/part-00000')\n",
    "\n",
    "print('The Product data as follows: ')\n",
    "print('------------------------------')\n",
    "for p in prod.take(5):\n",
    "    print(p)\n"
   ]
  },
  {
   "cell_type": "code",
   "execution_count": 109,
   "id": "5d140dad-0527-4be5-a46c-74538117e02a",
   "metadata": {},
   "outputs": [
    {
     "name": "stdout",
     "output_type": "stream",
     "text": [
      "The Top 5 : \n",
      "(59.98, '1,2,Quest Q64 10 FT. x 10 FT. Slant Leg Instant U,,59.98,http://images.acmesports.sports/Quest+Q64+10+FT.+x+10+FT.+Slant+Leg+Instant+Up+Canopy')\n",
      "(129.99, \"2,2,Under Armour Men's Highlight MC Football Clea,,129.99,http://images.acmesports.sports/Under+Armour+Men%27s+Highlight+MC+Football+Cleat\")\n",
      "(89.99, \"3,2,Under Armour Men's Renegade D Mid Football Cl,,89.99,http://images.acmesports.sports/Under+Armour+Men%27s+Renegade+D+Mid+Football+Cleat\")\n",
      "(89.99, \"4,2,Under Armour Men's Renegade D Mid Football Cl,,89.99,http://images.acmesports.sports/Under+Armour+Men%27s+Renegade+D+Mid+Football+Cleat\")\n",
      "(199.99, '5,2,Riddell Youth Revolution Speed Custom Footbal,,199.99,http://images.acmesports.sports/Riddell+Youth+Revolution+Speed+Custom+Football+Helmet')\n"
     ]
    }
   ],
   "source": [
    "# to find top 5 products with the maximum price\n",
    "prod = prod.filter(lambda s : s.split(',')[4] != '')\n",
    "prod_pair = prod.map(lambda x : (float(x.split(',')[4]),x))\n",
    "\n",
    "print('The Top 5 : ')\n",
    "for p in prod_pair.take(5):\n",
    "    print(p)"
   ]
  },
  {
   "cell_type": "code",
   "execution_count": 111,
   "id": "fc1eda7e-2ee1-425f-8a39-5166d30bfac0",
   "metadata": {},
   "outputs": [
    {
     "data": {
      "text/plain": [
       "[-1, 2, 5, 9]"
      ]
     },
     "execution_count": 111,
     "metadata": {},
     "output_type": "execute_result"
    }
   ],
   "source": [
    "# using takeOrdered Function\n",
    "\n",
    "exm2 = sc.parallelize([10,5,23,9,-1,2])\n",
    "\n",
    "exm2.takeOrdered(4)"
   ]
  },
  {
   "cell_type": "code",
   "execution_count": 113,
   "id": "294e3260-91d7-4433-b669-6c796ab69bfd",
   "metadata": {},
   "outputs": [
    {
     "data": {
      "text/plain": [
       "['208,10,SOLE E35 Elliptical,,1999.99,http://images.acmesports.sports/SOLE+E35+Elliptical',\n",
       " '66,4,SOLE F85 Treadmill,,1799.99,http://images.acmesports.sports/SOLE+F85+Treadmill',\n",
       " '199,10,SOLE F85 Treadmill,,1799.99,http://images.acmesports.sports/SOLE+F85+Treadmill',\n",
       " '496,22,SOLE F85 Treadmill,,1799.99,http://images.acmesports.sports/SOLE+F85+Treadmill',\n",
       " '1048,47,\"Spalding Beast 60\"\" Glass Portable Basketball \",,1099.99,http://images.acmesports.sports/Spalding+Beast+60%22+Glass+Portable+Basketball+Hoop']"
      ]
     },
     "execution_count": 113,
     "metadata": {},
     "output_type": "execute_result"
    }
   ],
   "source": [
    "# using product dataset\n",
    "\n",
    "res = prod.takeOrdered(5,lambda k : -float(k.split(',')[4]))\n",
    "\n",
    "res\n",
    "\n"
   ]
  },
  {
   "cell_type": "code",
   "execution_count": 119,
   "id": "57e8f92c-c4e8-4d9f-a20b-3bd17a3ef7f1",
   "metadata": {},
   "outputs": [
    {
     "name": "stdout",
     "output_type": "stream",
     "text": [
      "Union:  ['11599', '256', '12111', '8827', '11318']\n",
      "Intersect:  ['12111', '11318', '7130', '5657', '9149']\n"
     ]
    }
   ],
   "source": [
    "# set Transformations\n",
    "\n",
    "# union ops\n",
    "\n",
    "jul_ord = ord.filter(lambda x : x.split(',')[1].split('-')[1] == '07').map(lambda x : x.split(',')[2])\n",
    "\n",
    "aug_ord = ord.filter(lambda x : x.split(',')[1].split('-')[1] == '08').map(lambda x : x.split(',')[2])\n",
    "\n",
    "\n",
    "res = jul_ord.union(aug_ord)\n",
    "\n",
    "res1 = jul_ord.intersection(aug_ord)\n",
    "\n",
    "print('Union: ',res.take(5))\n",
    "\n",
    "print('Intersect: ',res1.take(5))\n",
    "\n",
    "\n"
   ]
  },
  {
   "cell_type": "code",
   "execution_count": 130,
   "id": "17fdb6ea-36e2-4e9e-b683-f9b78d99af0b",
   "metadata": {},
   "outputs": [
    {
     "name": "stdout",
     "output_type": "stream",
     "text": [
      "Sample: [10, 15, 28, 35, 50, 54, 59, 61, 73, 89, 93]\n",
      "Take Sample: [72, 98, 97, 10, 44, 76, 18, 44, 21, 95]\n"
     ]
    }
   ],
   "source": [
    "# sampling \n",
    "\n",
    "exm4 = sc.parallelize(range(100),4)\n",
    "\n",
    "res = exm4.sample(withReplacement = False,fraction=0.1,seed=5).collect()\n",
    "res1 = exm4.takeSample(withReplacement = True,num=10,seed=5)\n",
    "print('Sample:',res)\n",
    "print('Take Sample:',res1)\n",
    "\n"
   ]
  },
  {
   "cell_type": "code",
   "execution_count": 132,
   "id": "fda0f273-f545-4d13-80bd-b49d0a27a0c5",
   "metadata": {},
   "outputs": [
    {
     "name": "stderr",
     "output_type": "stream",
     "text": [
      "                                                                                \r"
     ]
    }
   ],
   "source": [
    "# partitions\n",
    "\n",
    "df = spark.range(10000)\n",
    "\n",
    "df = df.select(df.id,df.id*2,df.id*3)\n",
    "\n",
    "df = df.union(df)\n",
    "df = df.union(df)\n",
    "df = df.union(df)\n",
    "df = df.union(df)\n",
    "df = df.union(df)\n",
    "\n",
    "p_df = df.rdd.map(lambda x : str(x[0])+','+str(x[1])+','+str(x[2]))\n",
    "\n",
    "p_df.coalesce(1).saveAsTextFile('data')\n",
    "\n"
   ]
  },
  {
   "cell_type": "code",
   "execution_count": null,
   "id": "94ff63e7-d3e8-4cbf-a9cf-c74cf14574fd",
   "metadata": {},
   "outputs": [],
   "source": [
    "# to save the files\n",
    "\n"
   ]
  }
 ],
 "metadata": {
  "kernelspec": {
   "display_name": "Python 3 (ipykernel)",
   "language": "python",
   "name": "python3"
  },
  "language_info": {
   "codemirror_mode": {
    "name": "ipython",
    "version": 3
   },
   "file_extension": ".py",
   "mimetype": "text/x-python",
   "name": "python",
   "nbconvert_exporter": "python",
   "pygments_lexer": "ipython3",
   "version": "3.10.12"
  }
 },
 "nbformat": 4,
 "nbformat_minor": 5
}

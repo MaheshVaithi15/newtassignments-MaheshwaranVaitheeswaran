{
 "cells": [
  {
   "cell_type": "code",
   "execution_count": 2,
   "id": "4213c012-9919-46b0-ac71-c5e3c6b7f8e8",
   "metadata": {},
   "outputs": [
    {
     "name": "stderr",
     "output_type": "stream",
     "text": [
      "24/01/09 16:19:20 WARN Utils: Your hostname, MaheshPC resolves to a loopback address: 127.0.1.1; using 192.168.1.7 instead (on interface enp5s0)\n",
      "24/01/09 16:19:20 WARN Utils: Set SPARK_LOCAL_IP if you need to bind to another address\n",
      "Setting default log level to \"WARN\".\n",
      "To adjust logging level use sc.setLogLevel(newLevel). For SparkR, use setLogLevel(newLevel).\n",
      "24/01/09 16:19:21 WARN NativeCodeLoader: Unable to load native-hadoop library for your platform... using builtin-java classes where applicable\n",
      "24/01/09 16:19:22 WARN Utils: Service 'SparkUI' could not bind on port 4040. Attempting port 4041.\n"
     ]
    },
    {
     "name": "stdout",
     "output_type": "stream",
     "text": [
      "spark is created\n"
     ]
    }
   ],
   "source": [
    "# Spark Shared Variables\n",
    "\"\"\"\"Shared variables are the variables that are required to be used by functions and methods in parallel.\n",
    "• Shared variables can be used in parallel operations.\n",
    "• Spark provides two types of shared variables -\n",
    "✓ Broadcast\n",
    "✓ Accumulator\"\"\"\n",
    "\n",
    "# broadcast variables\n",
    "\"\"\"• Broadcast variables allow the programmer to keep a read-only variable cached on each machine rather than\n",
    "shipping a copy of it with tasks.\n",
    "• Immutable and cached on each worker nodes only once.\n",
    "• Efficient manner to give a copy of a large dataset to each node.\n",
    "• They should fit in memory.\"\"\"\n",
    "\n",
    "\n",
    "\"\"\"\"When to use Broadcast Variable:\n",
    "• For processing, the executors need information regarding variables or methods. This information is serialized by Spark and\n",
    "sent to each executor and is known as CLOSURE.\n",
    "• If we have a huge array that is accessed from spark CLOSURES, for example - if we have 5 nodes cluster with 100 partitions\n",
    "(20 partitions per node), this Array will be distributed at least 100 times (20 times to each node). If you we broadcast\n",
    "it will be distributed once per node using efficient p2p protocol.\n",
    "What not to do:\n",
    "• Once we broadcasted the value to the nodes, we shouldn't make changes to its value to make sure each node have\n",
    "exact same copy of data. The modified value might be sent to another node later that would give unexpected results.\"\"\"\n",
    "\n",
    "\n",
    "from pyspark.sql import SparkSession\n",
    "\n",
    "spark = SparkSession.builder.master('local').appName('Var').getOrCreate()\n",
    "\n",
    "sc = spark.sparkContext\n",
    "\n",
    "print('spark is created')\n",
    "\n"
   ]
  },
  {
   "cell_type": "code",
   "execution_count": 4,
   "id": "1d34e03e-4801-4168-bd99-40eec8c9c7a7",
   "metadata": {},
   "outputs": [],
   "source": [
    "Inputdata= [(\"James\", \"Smith\", \"USA\", \"mon\"),\n",
    "(\"Michael\", \"Rose\", \"USA\", \"tue\"),\n",
    "(\"Robert\", \"Williams\", \"USA\", \"sun\"), \n",
    "(\"Maria\", \"Jones\", \"USA\",\"tue\")]\n"
   ]
  },
  {
   "cell_type": "code",
   "execution_count": null,
   "id": "d07576d8-4f12-492f-9ee4-071c660a3337",
   "metadata": {},
   "outputs": [],
   "source": [
    "days={\"sun\": \"Sunday\", \"mon\": \"Monday\", \"tue\":\"Tuesday\"}\n",
    "\n",
    "data= [(\"James\", \"Smith\", \"USA\", \"mon\"),\n",
    "(\"Michael\", \"Rose\", \"USA\", \"tue\"),\n",
    "(\"Robert\", \"Williams\", \"USA\", \"sun\"), \n",
    "(\"Maria\", \"Jones\", \"USA\",\"tue\")]\n",
    "\n",
    "\n",
    "bcDays = spark.sparkContext.broadcast (days)"
   ]
  }
 ],
 "metadata": {
  "kernelspec": {
   "display_name": "Python 3 (ipykernel)",
   "language": "python",
   "name": "python3"
  },
  "language_info": {
   "codemirror_mode": {
    "name": "ipython",
    "version": 3
   },
   "file_extension": ".py",
   "mimetype": "text/x-python",
   "name": "python",
   "nbconvert_exporter": "python",
   "pygments_lexer": "ipython3",
   "version": "3.10.12"
  }
 },
 "nbformat": 4,
 "nbformat_minor": 5
}

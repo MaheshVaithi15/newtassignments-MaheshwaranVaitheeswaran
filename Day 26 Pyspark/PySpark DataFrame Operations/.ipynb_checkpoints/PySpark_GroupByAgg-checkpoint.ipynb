{
 "cells": [
  {
   "cell_type": "code",
   "execution_count": 1,
   "id": "dc471191-92c4-4d36-9995-dc4ca0925658",
   "metadata": {},
   "outputs": [
    {
     "name": "stderr",
     "output_type": "stream",
     "text": [
      "24/01/09 17:15:12 WARN Utils: Your hostname, MaheshPC resolves to a loopback address: 127.0.1.1; using 192.168.1.7 instead (on interface enp5s0)\n",
      "24/01/09 17:15:12 WARN Utils: Set SPARK_LOCAL_IP if you need to bind to another address\n",
      "Setting default log level to \"WARN\".\n",
      "To adjust logging level use sc.setLogLevel(newLevel). For SparkR, use setLogLevel(newLevel).\n",
      "24/01/09 17:15:13 WARN NativeCodeLoader: Unable to load native-hadoop library for your platform... using builtin-java classes where applicable\n",
      "24/01/09 17:15:14 WARN Utils: Service 'SparkUI' could not bind on port 4040. Attempting port 4041.\n",
      "24/01/09 17:15:14 WARN Utils: Service 'SparkUI' could not bind on port 4041. Attempting port 4042.\n",
      "24/01/09 17:15:14 WARN Utils: Service 'SparkUI' could not bind on port 4042. Attempting port 4043.\n",
      "24/01/09 17:15:14 WARN Utils: Service 'SparkUI' could not bind on port 4043. Attempting port 4044.\n"
     ]
    },
    {
     "name": "stdout",
     "output_type": "stream",
     "text": [
      "Spark is Connected\n"
     ]
    }
   ],
   "source": [
    "# Spark DataFrame Operations - groupby and aggregate\n",
    "from pyspark.sql import SparkSession\n",
    "spark = SparkSession.builder.appName('ops1').getOrCreate()\n",
    "print('Spark is Connected')"
   ]
  },
  {
   "cell_type": "code",
   "execution_count": 3,
   "id": "41fe92e3-85b3-4597-947e-b1c92c8821d2",
   "metadata": {},
   "outputs": [
    {
     "name": "stdout",
     "output_type": "stream",
     "text": [
      "+-------+-------+-----+\n",
      "|Company| Person|Sales|\n",
      "+-------+-------+-----+\n",
      "|   GOOG|    Sam|200.0|\n",
      "|   GOOG|Charlie|120.0|\n",
      "|   GOOG|  Frank|340.0|\n",
      "|   MSFT|   Tina|600.0|\n",
      "|   MSFT|    Amy|124.0|\n",
      "|   MSFT|Vanessa|243.0|\n",
      "|     FB|   Carl|870.0|\n",
      "|     FB|  Sarah|350.0|\n",
      "|   APPL|   John|250.0|\n",
      "|   APPL|  Linda|130.0|\n",
      "|   APPL|   Mike|750.0|\n",
      "|   APPL|  Chris|350.0|\n",
      "+-------+-------+-----+\n",
      "\n"
     ]
    }
   ],
   "source": [
    "df = spark.read.csv('Datasets/sales_info.csv',inferSchema=True,header=True)\n",
    "df.show()"
   ]
  },
  {
   "cell_type": "code",
   "execution_count": 4,
   "id": "ce4a158b-058d-4345-b5b9-2c62f42907e1",
   "metadata": {},
   "outputs": [
    {
     "name": "stdout",
     "output_type": "stream",
     "text": [
      "root\n",
      " |-- Company: string (nullable = true)\n",
      " |-- Person: string (nullable = true)\n",
      " |-- Sales: double (nullable = true)\n",
      "\n"
     ]
    }
   ],
   "source": [
    "df.printSchema()"
   ]
  },
  {
   "cell_type": "code",
   "execution_count": 6,
   "id": "ede28bc1-693f-4220-b6fa-74a49d774682",
   "metadata": {},
   "outputs": [
    {
     "name": "stdout",
     "output_type": "stream",
     "text": [
      "+-------+-------+-------+------------------+\n",
      "|summary|Company| Person|             Sales|\n",
      "+-------+-------+-------+------------------+\n",
      "|  count|     12|     12|                12|\n",
      "|   mean|   NULL|   NULL| 360.5833333333333|\n",
      "| stddev|   NULL|   NULL|250.08742410799007|\n",
      "|    min|   APPL|  Chris|             120.0|\n",
      "|    max|   MSFT|Vanessa|             870.0|\n",
      "+-------+-------+-------+------------------+\n",
      "\n"
     ]
    }
   ],
   "source": [
    "df.describe().show()"
   ]
  },
  {
   "cell_type": "code",
   "execution_count": 8,
   "id": "361e802c-4c59-4168-96c9-a8dd22710cbc",
   "metadata": {},
   "outputs": [
    {
     "data": {
      "text/plain": [
       "GroupedData[grouping expressions: [sales], value: [Company: string, Person: string ... 1 more field], type: GroupBy]"
      ]
     },
     "execution_count": 8,
     "metadata": {},
     "output_type": "execute_result"
    }
   ],
   "source": [
    "# groupby keyword\n",
    "\n",
    "df.groupBy('sales')"
   ]
  },
  {
   "cell_type": "code",
   "execution_count": 12,
   "id": "216aaab9-d055-47b3-8dd4-c145f04edcb0",
   "metadata": {},
   "outputs": [
    {
     "name": "stdout",
     "output_type": "stream",
     "text": [
      "+-------+-----------------+\n",
      "|company|       avg(Sales)|\n",
      "+-------+-----------------+\n",
      "|   APPL|            370.0|\n",
      "|   GOOG|            220.0|\n",
      "|     FB|            610.0|\n",
      "|   MSFT|322.3333333333333|\n",
      "+-------+-----------------+\n",
      "\n"
     ]
    }
   ],
   "source": [
    "df.groupBy('company').mean().show()"
   ]
  },
  {
   "cell_type": "code",
   "execution_count": 13,
   "id": "0e4b537d-907e-4514-95ac-00d490e4ebf9",
   "metadata": {},
   "outputs": [
    {
     "name": "stdout",
     "output_type": "stream",
     "text": [
      "+-------+----------+\n",
      "|company|min(Sales)|\n",
      "+-------+----------+\n",
      "|   APPL|     130.0|\n",
      "|   GOOG|     120.0|\n",
      "|     FB|     350.0|\n",
      "|   MSFT|     124.0|\n",
      "+-------+----------+\n",
      "\n",
      "Minimum:  None\n",
      "+-------+----------+\n",
      "|company|max(Sales)|\n",
      "+-------+----------+\n",
      "|   APPL|     750.0|\n",
      "|   GOOG|     340.0|\n",
      "|     FB|     870.0|\n",
      "|   MSFT|     600.0|\n",
      "+-------+----------+\n",
      "\n",
      "Maximum:  None\n"
     ]
    }
   ],
   "source": [
    "# minimum and maximum sales\n",
    "print('Minimum: ',df.groupBy('company').min().show())\n",
    "print('Maximum: ',df.groupBy('company').max().show())"
   ]
  },
  {
   "cell_type": "code",
   "execution_count": 15,
   "id": "1cea12e8-41bd-48cd-adeb-f56aa405fa77",
   "metadata": {},
   "outputs": [
    {
     "name": "stdout",
     "output_type": "stream",
     "text": [
      "+----------+\n",
      "|sum(sales)|\n",
      "+----------+\n",
      "|    4327.0|\n",
      "+----------+\n",
      "\n",
      "Total Sales:  None\n",
      "+----------+\n",
      "|min(sales)|\n",
      "+----------+\n",
      "|     120.0|\n",
      "+----------+\n",
      "\n",
      "Minimum:  None\n",
      "+----------+\n",
      "|sum(sales)|\n",
      "+----------+\n",
      "|    4327.0|\n",
      "+----------+\n",
      "\n",
      "Maximum:  None\n"
     ]
    }
   ],
   "source": [
    "# aggregate functions\n",
    "print('Total Sales: ',df.agg({'sales':'sum'}).show())\n",
    "print('Minimum: ',df.agg({'sales':'min'}).show())\n",
    "print('Maximum: ',df.agg({'sales':'sum'}).show())\n"
   ]
  },
  {
   "cell_type": "code",
   "execution_count": 16,
   "id": "88d3cd93-0497-4c3f-a090-522db257ca72",
   "metadata": {},
   "outputs": [
    {
     "name": "stdout",
     "output_type": "stream",
     "text": [
      "+-------+----------+\n",
      "|company|sum(sales)|\n",
      "+-------+----------+\n",
      "|   APPL|    1480.0|\n",
      "|   GOOG|     660.0|\n",
      "|     FB|    1220.0|\n",
      "|   MSFT|     967.0|\n",
      "+-------+----------+\n",
      "\n",
      "Total Sales:  None\n",
      "+-------+----------+\n",
      "|company|min(sales)|\n",
      "+-------+----------+\n",
      "|   APPL|     130.0|\n",
      "|   GOOG|     120.0|\n",
      "|     FB|     350.0|\n",
      "|   MSFT|     124.0|\n",
      "+-------+----------+\n",
      "\n",
      "Minimum:  None\n",
      "+-------+----------+\n",
      "|company|sum(sales)|\n",
      "+-------+----------+\n",
      "|   APPL|    1480.0|\n",
      "|   GOOG|     660.0|\n",
      "|     FB|    1220.0|\n",
      "|   MSFT|     967.0|\n",
      "+-------+----------+\n",
      "\n",
      "Maximum:  None\n"
     ]
    }
   ],
   "source": [
    "grp_data = df.groupBy('company')\n",
    "\n",
    "print('Total Sales: ',grp_data.agg({'sales':'sum'}).show())\n",
    "print('Minimum: ',grp_data.agg({'sales':'min'}).show())\n",
    "print('Maximum: ',grp_data.agg({'sales':'sum'}).show())"
   ]
  },
  {
   "cell_type": "code",
   "execution_count": 23,
   "id": "b63eb8db-3f6a-4c2d-90ca-be889d75383f",
   "metadata": {},
   "outputs": [
    {
     "name": "stdout",
     "output_type": "stream",
     "text": [
      "+----------------+\n",
      "|Distinct Company|\n",
      "+----------------+\n",
      "|              11|\n",
      "+----------------+\n",
      "\n",
      "Count Distinct:  None\n",
      "+-----------------+\n",
      "|    Average Sales|\n",
      "+-----------------+\n",
      "|360.5833333333333|\n",
      "+-----------------+\n",
      "\n",
      "Average:  None\n",
      "+------------------+\n",
      "|Standard Deviation|\n",
      "+------------------+\n",
      "|250.08742410799007|\n",
      "+------------------+\n",
      "\n",
      "Standard Deviation:  None\n"
     ]
    }
   ],
   "source": [
    "from pyspark.sql.functions import countDistinct,avg,stddev,format_number\n",
    "\n",
    "print('Count Distinct: ',df.select(countDistinct('sales').alias('Distinct Company')).show())\n",
    "print('Average: ',df.select(avg('sales').alias('Average Sales')).show())\n",
    "print('Standard Deviation: ',df.select(stddev('sales').alias('Standard Deviation')).show())\n"
   ]
  },
  {
   "cell_type": "code",
   "execution_count": 25,
   "id": "83ce92ac-624a-47f4-8372-5947de0b0fb6",
   "metadata": {},
   "outputs": [
    {
     "name": "stdout",
     "output_type": "stream",
     "text": [
      "+-------+-------+\n",
      "|company| person|\n",
      "+-------+-------+\n",
      "|   GOOG|Charlie|\n",
      "|   MSFT|    Amy|\n",
      "|   APPL|  Linda|\n",
      "|   GOOG|    Sam|\n",
      "|   MSFT|Vanessa|\n",
      "|   APPL|   John|\n",
      "|   GOOG|  Frank|\n",
      "|     FB|  Sarah|\n",
      "|   APPL|  Chris|\n",
      "|   MSFT|   Tina|\n",
      "|   APPL|   Mike|\n",
      "|     FB|   Carl|\n",
      "+-------+-------+\n",
      "\n"
     ]
    }
   ],
   "source": [
    "# order by \n",
    "df.select(['company','person']).orderBy('sales').show()"
   ]
  },
  {
   "cell_type": "code",
   "execution_count": 26,
   "id": "5d315426-ee34-41c9-912c-fa415f6e873a",
   "metadata": {},
   "outputs": [
    {
     "name": "stdout",
     "output_type": "stream",
     "text": [
      "+-------+-------+-----+\n",
      "|Company| Person|Sales|\n",
      "+-------+-------+-----+\n",
      "|     FB|   Carl|870.0|\n",
      "|   APPL|   Mike|750.0|\n",
      "|   MSFT|   Tina|600.0|\n",
      "|     FB|  Sarah|350.0|\n",
      "|   APPL|  Chris|350.0|\n",
      "|   GOOG|  Frank|340.0|\n",
      "|   APPL|   John|250.0|\n",
      "|   MSFT|Vanessa|243.0|\n",
      "|   GOOG|    Sam|200.0|\n",
      "|   APPL|  Linda|130.0|\n",
      "|   MSFT|    Amy|124.0|\n",
      "|   GOOG|Charlie|120.0|\n",
      "+-------+-------+-----+\n",
      "\n"
     ]
    }
   ],
   "source": [
    "df.orderBy(df [ 'Sales'].desc()).show()"
   ]
  }
 ],
 "metadata": {
  "kernelspec": {
   "display_name": "Python 3 (ipykernel)",
   "language": "python",
   "name": "python3"
  },
  "language_info": {
   "codemirror_mode": {
    "name": "ipython",
    "version": 3
   },
   "file_extension": ".py",
   "mimetype": "text/x-python",
   "name": "python",
   "nbconvert_exporter": "python",
   "pygments_lexer": "ipython3",
   "version": "3.10.12"
  }
 },
 "nbformat": 4,
 "nbformat_minor": 5
}
